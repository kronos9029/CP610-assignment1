{
 "cells": [
  {
   "cell_type": "markdown",
   "id": "header_cell",
   "metadata": {},
   "source": [
    "# Quantity - Rescaling Methods Comparison\n",
    "\n",
    "## Overview\n",
    "\n",
    "This notebook implements and compares three rescaling methods for the **Quantity** attribute:\n",
    "1. **Min-Max Normalization**\n",
    "2. **Z-Score Standardization**\n",
    "3. **Robust Scaling** (RECOMMENDED)\n",
    "\n",
    "## Source Dataset\n",
    "\n",
    "**Input:** `handle_missing_data/output_data/4_discount_applied/final_cleaned_dataset.csv`\n",
    "- 11,971 rows (after missing data handling)\n",
    "- All missing values resolved\n",
    "- Mathematical consistency validated\n",
    "\n",
    "## Quantity Characteristics\n",
    "\n",
    "- **Type:** Discrete count data\n",
    "- **Range:** Typically 1-20 items per transaction\n",
    "- **Distribution:** Right-skewed\n",
    "- **Outliers:** Present (bulk purchases, business transactions)\n",
    "- **Recommendation:** Robust Scaling (handles outliers and skew)\n",
    "\n",
    "---"
   ]
  },
  {
   "cell_type": "markdown",
   "id": "imports_header",
   "metadata": {},
   "source": [
    "## Step 1: Import Libraries and Load Data"
   ]
  },
  {
   "cell_type": "code",
   "id": "imports",
   "metadata": {
    "ExecuteTime": {
     "end_time": "2025-10-05T02:22:01.266260Z",
     "start_time": "2025-10-05T02:22:01.261550Z"
    }
   },
   "source": [
    "import pandas as pd\n",
    "import numpy as np\n",
    "import matplotlib.pyplot as plt\n",
    "import seaborn as sns\n",
    "from pathlib import Path\n",
    "from sklearn.preprocessing import MinMaxScaler, StandardScaler, RobustScaler\n",
    "\n",
    "# Configuration\n",
    "INPUT_CSV = Path('../../../handle_missing_data/output_data/4_discount_applied/final_cleaned_dataset.csv')\n",
    "OUTPUT_DIR = Path('../../output_data/quantity')\n",
    "QUANTITY_COLUMN = 'Quantity'\n",
    "\n",
    "# Create output directory\n",
    "OUTPUT_DIR.mkdir(parents=True, exist_ok=True)\n",
    "\n",
    "print(f\"Input file: {INPUT_CSV}\")\n",
    "print(f\"Output directory: {OUTPUT_DIR}\")"
   ],
   "outputs": [
    {
     "name": "stdout",
     "output_type": "stream",
     "text": [
      "Input file: ../../../handle_missing_data/output_data/4_discount_applied/final_cleaned_dataset.csv\n",
      "Output directory: ../output_data/quantity\n"
     ]
    }
   ],
   "execution_count": 3
  },
  {
   "cell_type": "code",
   "id": "load_data",
   "metadata": {
    "ExecuteTime": {
     "end_time": "2025-10-05T02:22:03.257137Z",
     "start_time": "2025-10-05T02:22:03.232360Z"
    }
   },
   "source": [
    "# Load the cleaned dataset\n",
    "df = pd.read_csv(INPUT_CSV)\n",
    "data = df.copy()\n",
    "data.head()"
   ],
   "outputs": [
    {
     "data": {
      "text/plain": [
       "  Transaction ID Customer ID                            Category  \\\n",
       "0    TXN_1002182     CUST_01                                Food   \n",
       "1    TXN_1003865     CUST_15                           Furniture   \n",
       "2    TXN_1003940     CUST_06                           Furniture   \n",
       "3    TXN_1004091     CUST_04                                Food   \n",
       "4    TXN_1004124     CUST_08  Computers and electric accessories   \n",
       "\n",
       "           Item  Price Per Unit  Quantity  Total Spent  Payment Method  \\\n",
       "0   Item_5_FOOD            11.0       5.0         55.0  Digital Wallet   \n",
       "1    Item_2_FUR             6.5       5.0         32.5            Cash   \n",
       "2    Item_5_FUR            11.0       9.0         99.0  Digital Wallet   \n",
       "3  Item_25_FOOD            41.0       3.0        123.0            Cash   \n",
       "4    Item_7_CEA            14.0       5.0         70.0     Credit Card   \n",
       "\n",
       "   Location Transaction Date Discount Applied  \n",
       "0  In-store       2024-10-08             True  \n",
       "1    Online       2022-03-12            False  \n",
       "2    Online       2022-04-22            False  \n",
       "3  In-store       2023-11-09            False  \n",
       "4  In-store       2022-03-02          Unknown  "
      ],
      "text/html": [
       "<div>\n",
       "<style scoped>\n",
       "    .dataframe tbody tr th:only-of-type {\n",
       "        vertical-align: middle;\n",
       "    }\n",
       "\n",
       "    .dataframe tbody tr th {\n",
       "        vertical-align: top;\n",
       "    }\n",
       "\n",
       "    .dataframe thead th {\n",
       "        text-align: right;\n",
       "    }\n",
       "</style>\n",
       "<table border=\"1\" class=\"dataframe\">\n",
       "  <thead>\n",
       "    <tr style=\"text-align: right;\">\n",
       "      <th></th>\n",
       "      <th>Transaction ID</th>\n",
       "      <th>Customer ID</th>\n",
       "      <th>Category</th>\n",
       "      <th>Item</th>\n",
       "      <th>Price Per Unit</th>\n",
       "      <th>Quantity</th>\n",
       "      <th>Total Spent</th>\n",
       "      <th>Payment Method</th>\n",
       "      <th>Location</th>\n",
       "      <th>Transaction Date</th>\n",
       "      <th>Discount Applied</th>\n",
       "    </tr>\n",
       "  </thead>\n",
       "  <tbody>\n",
       "    <tr>\n",
       "      <th>0</th>\n",
       "      <td>TXN_1002182</td>\n",
       "      <td>CUST_01</td>\n",
       "      <td>Food</td>\n",
       "      <td>Item_5_FOOD</td>\n",
       "      <td>11.0</td>\n",
       "      <td>5.0</td>\n",
       "      <td>55.0</td>\n",
       "      <td>Digital Wallet</td>\n",
       "      <td>In-store</td>\n",
       "      <td>2024-10-08</td>\n",
       "      <td>True</td>\n",
       "    </tr>\n",
       "    <tr>\n",
       "      <th>1</th>\n",
       "      <td>TXN_1003865</td>\n",
       "      <td>CUST_15</td>\n",
       "      <td>Furniture</td>\n",
       "      <td>Item_2_FUR</td>\n",
       "      <td>6.5</td>\n",
       "      <td>5.0</td>\n",
       "      <td>32.5</td>\n",
       "      <td>Cash</td>\n",
       "      <td>Online</td>\n",
       "      <td>2022-03-12</td>\n",
       "      <td>False</td>\n",
       "    </tr>\n",
       "    <tr>\n",
       "      <th>2</th>\n",
       "      <td>TXN_1003940</td>\n",
       "      <td>CUST_06</td>\n",
       "      <td>Furniture</td>\n",
       "      <td>Item_5_FUR</td>\n",
       "      <td>11.0</td>\n",
       "      <td>9.0</td>\n",
       "      <td>99.0</td>\n",
       "      <td>Digital Wallet</td>\n",
       "      <td>Online</td>\n",
       "      <td>2022-04-22</td>\n",
       "      <td>False</td>\n",
       "    </tr>\n",
       "    <tr>\n",
       "      <th>3</th>\n",
       "      <td>TXN_1004091</td>\n",
       "      <td>CUST_04</td>\n",
       "      <td>Food</td>\n",
       "      <td>Item_25_FOOD</td>\n",
       "      <td>41.0</td>\n",
       "      <td>3.0</td>\n",
       "      <td>123.0</td>\n",
       "      <td>Cash</td>\n",
       "      <td>In-store</td>\n",
       "      <td>2023-11-09</td>\n",
       "      <td>False</td>\n",
       "    </tr>\n",
       "    <tr>\n",
       "      <th>4</th>\n",
       "      <td>TXN_1004124</td>\n",
       "      <td>CUST_08</td>\n",
       "      <td>Computers and electric accessories</td>\n",
       "      <td>Item_7_CEA</td>\n",
       "      <td>14.0</td>\n",
       "      <td>5.0</td>\n",
       "      <td>70.0</td>\n",
       "      <td>Credit Card</td>\n",
       "      <td>In-store</td>\n",
       "      <td>2022-03-02</td>\n",
       "      <td>Unknown</td>\n",
       "    </tr>\n",
       "  </tbody>\n",
       "</table>\n",
       "</div>"
      ]
     },
     "execution_count": 4,
     "metadata": {},
     "output_type": "execute_result"
    }
   ],
   "execution_count": 4
  },
  {
   "cell_type": "markdown",
   "id": "eda_header",
   "metadata": {},
   "source": [
    "## Step 2: Exploratory Data Analysis - Quantity"
   ]
  },
  {
   "cell_type": "code",
   "id": "basic_stats",
   "metadata": {
    "ExecuteTime": {
     "end_time": "2025-10-05T02:22:21.710674Z",
     "start_time": "2025-10-05T02:22:21.700409Z"
    }
   },
   "source": [
    "# Basic statistics\n",
    "print(\"=\" * 80)\n",
    "print(\"QUANTITY - Descriptive Statistics\")\n",
    "print(\"=\" * 80)\n",
    "print(f\"\\n{data[QUANTITY_COLUMN].describe()}\")\n",
    "\n",
    "# Additional statistics\n",
    "print(f\"\\nMissing values: {data[QUANTITY_COLUMN].isna().sum()}\")\n",
    "print(f\"Unique values: {data[QUANTITY_COLUMN].nunique()}\")\n",
    "print(f\"\\nValue counts (top 10):\")\n",
    "print(data[QUANTITY_COLUMN].value_counts().head(10))"
   ],
   "outputs": [
    {
     "name": "stdout",
     "output_type": "stream",
     "text": [
      "================================================================================\n",
      "QUANTITY - Descriptive Statistics\n",
      "================================================================================\n",
      "\n",
      "count    11971.000000\n",
      "mean         5.536380\n",
      "std          2.857883\n",
      "min          1.000000\n",
      "25%          3.000000\n",
      "50%          6.000000\n",
      "75%          8.000000\n",
      "max         10.000000\n",
      "Name: Quantity, dtype: float64\n",
      "\n",
      "Missing values: 0\n",
      "Unique values: 10\n",
      "\n",
      "Value counts (top 10):\n",
      "Quantity\n",
      "10.0    1232\n",
      "5.0     1228\n",
      "7.0     1227\n",
      "8.0     1226\n",
      "3.0     1224\n",
      "6.0     1220\n",
      "2.0     1164\n",
      "4.0     1155\n",
      "9.0     1148\n",
      "1.0     1147\n",
      "Name: count, dtype: int64\n"
     ]
    }
   ],
   "execution_count": 5
  },
  {
   "cell_type": "code",
   "id": "outlier_detection",
   "metadata": {
    "ExecuteTime": {
     "end_time": "2025-10-05T02:23:09.152318Z",
     "start_time": "2025-10-05T02:23:09.145771Z"
    }
   },
   "source": [
    "# Outlier detection using IQR method\n",
    "Q1 = data[QUANTITY_COLUMN].quantile(0.25)\n",
    "Q3 = data[QUANTITY_COLUMN].quantile(0.75)\n",
    "IQR = Q3 - Q1\n",
    "\n",
    "lower_fence = Q1 - 1.5 * IQR\n",
    "upper_fence = Q3 + 1.5 * IQR\n",
    "\n",
    "outliers = data[(data[QUANTITY_COLUMN] < lower_fence) | (data[QUANTITY_COLUMN] > upper_fence)]\n",
    "\n",
    "print(\"=\" * 80)\n",
    "print(\"OUTLIER DETECTION (IQR Method)\")\n",
    "print(\"=\" * 80)\n",
    "print(f\"Q1 (25th percentile): {Q1}\")\n",
    "print(f\"Q3 (75th percentile): {Q3}\")\n",
    "print(f\"IQR: {IQR}\")\n",
    "print(f\"Lower fence: {lower_fence}\")\n",
    "print(f\"Upper fence: {upper_fence}\")\n",
    "print(f\"\\nNumber of outliers: {len(outliers)} ({len(outliers)/len(data)*100:.2f}%)\")\n",
    "print(f\"\\nOutlier range: {outliers[QUANTITY_COLUMN].min()} to {outliers[QUANTITY_COLUMN].max()}\")"
   ],
   "outputs": [
    {
     "name": "stdout",
     "output_type": "stream",
     "text": [
      "================================================================================\n",
      "OUTLIER DETECTION (IQR Method)\n",
      "================================================================================\n",
      "Q1 (25th percentile): 3.0\n",
      "Q3 (75th percentile): 8.0\n",
      "IQR: 5.0\n",
      "Lower fence: -4.5\n",
      "Upper fence: 15.5\n",
      "\n",
      "Number of outliers: 0 (0.00%)\n",
      "\n",
      "Outlier range: nan to nan\n"
     ]
    }
   ],
   "execution_count": 7
  },
  {
   "cell_type": "code",
   "id": "visualize_distribution",
   "metadata": {
    "ExecuteTime": {
     "end_time": "2025-10-05T02:23:38.372161Z",
     "start_time": "2025-10-05T02:23:38.016365Z"
    }
   },
   "source": [
    "# Visualize original distribution\n",
    "fig, axes = plt.subplots(1, 3, figsize=(18, 5))\n",
    "\n",
    "# Histogram\n",
    "axes[0].hist(data[QUANTITY_COLUMN], bins=30, color='skyblue', edgecolor='black')\n",
    "axes[0].set_title('Quantity - Histogram', fontsize=14, fontweight='bold')\n",
    "axes[0].set_xlabel('Quantity')\n",
    "axes[0].set_ylabel('Frequency')\n",
    "axes[0].axvline(data[QUANTITY_COLUMN].mean(), color='red', linestyle='--', label=f'Mean: {data[QUANTITY_COLUMN].mean():.2f}')\n",
    "axes[0].axvline(data[QUANTITY_COLUMN].median(), color='green', linestyle='--', label=f'Median: {data[QUANTITY_COLUMN].median():.2f}')\n",
    "axes[0].legend()\n",
    "\n",
    "# Box plot\n",
    "axes[1].boxplot(data[QUANTITY_COLUMN], vert=True)\n",
    "axes[1].set_title('Quantity - Box Plot', fontsize=14, fontweight='bold')\n",
    "axes[1].set_ylabel('Quantity')\n",
    "axes[1].axhline(upper_fence, color='red', linestyle='--', label=f'Upper Fence: {upper_fence:.2f}')\n",
    "axes[1].axhline(lower_fence, color='red', linestyle='--', label=f'Lower Fence: {lower_fence:.2f}')\n",
    "axes[1].legend()\n",
    "\n",
    "# Distribution plot\n",
    "data[QUANTITY_COLUMN].plot(kind='kde', ax=axes[2], color='purple')\n",
    "axes[2].set_title('Quantity - Density Plot', fontsize=14, fontweight='bold')\n",
    "axes[2].set_xlabel('Quantity')\n",
    "axes[2].set_ylabel('Density')\n",
    "\n",
    "plt.tight_layout()\n",
    "plt.show()\n",
    "\n",
    "print(\"\\nDistribution Analysis:\")\n",
    "print(f\"- Right-skewed distribution (mean > median)\")\n",
    "print(f\"- Outliers present beyond upper fence ({upper_fence:.2f})\")\n",
    "print(f\"- Discrete count data (integer values)\")"
   ],
   "outputs": [
    {
     "data": {
      "text/plain": [
       "<Figure size 1800x500 with 3 Axes>"
      ],
      "image/png": "[encoded data removed]"
     },
     "metadata": {},
     "output_type": "display_data",
     "jetTransient": {
      "display_id": null
     }
    },
    {
     "name": "stdout",
     "output_type": "stream",
     "text": [
      "\n",
      "Distribution Analysis:\n",
      "- Right-skewed distribution (mean > median)\n",
      "- Outliers present beyond upper fence (15.50)\n",
      "- Discrete count data (integer values)\n"
     ]
    }
   ],
   "execution_count": 8
  },
  {
   "cell_type": "markdown",
   "id": "rescaling_header",
   "metadata": {},
   "source": [
    "## Step 3: Apply Rescaling Methods\n",
    "\n",
    "We will apply all three methods and compare them."
   ]
  },
  {
   "metadata": {},
   "cell_type": "markdown",
   "source": "### Method 1: Min-Max Normalization",
   "id": "67d4b20447a086b"
  },
  {
   "metadata": {
    "ExecuteTime": {
     "end_time": "2025-10-05T02:24:29.235595Z",
     "start_time": "2025-10-05T02:24:29.224084Z"
    }
   },
   "cell_type": "code",
   "outputs": [
    {
     "name": "stdout",
     "output_type": "stream",
     "text": [
      "================================================================================\n",
      "MIN-MAX NORMALIZATION\n",
      "================================================================================\n",
      "Formula: (X - X_min) / (X_max - X_min)\n",
      "Range: [0, 1]\n",
      "\n",
      "Original range: [1.0, 10.0]\n",
      "Scaled range: [0.000000, 1.000000]\n",
      "\n",
      "Statistics:\n",
      "count    11971.000000\n",
      "mean         0.504042\n",
      "std          0.317543\n",
      "min          0.000000\n",
      "25%          0.222222\n",
      "50%          0.555556\n",
      "75%          0.777778\n",
      "max          1.000000\n",
      "Name: Quantity_Normalized, dtype: float64\n",
      "\n",
      "Example transformations:\n",
      "   Quantity  Quantity_Normalized\n",
      "0       5.0             0.444444\n",
      "1       5.0             0.444444\n",
      "2       9.0             0.888889\n",
      "3       3.0             0.222222\n",
      "4       5.0             0.444444\n",
      "5       3.0             0.222222\n",
      "6       6.0             0.555556\n",
      "7       1.0             0.000000\n",
      "8       8.0             0.777778\n",
      "9       5.0             0.444444\n"
     ]
    }
   ],
   "execution_count": 9,
   "source": [
    "# Min-Max Normalization\n",
    "min_max_scaler = MinMaxScaler()\n",
    "data['Quantity_Normalized'] = min_max_scaler.fit_transform(data[[QUANTITY_COLUMN]])\n",
    "\n",
    "print(\"=\" * 80)\n",
    "print(\"MIN-MAX NORMALIZATION\")\n",
    "print(\"=\" * 80)\n",
    "print(f\"Formula: (X - X_min) / (X_max - X_min)\")\n",
    "print(f\"Range: [0, 1]\")\n",
    "print(f\"\\nOriginal range: [{data[QUANTITY_COLUMN].min()}, {data[QUANTITY_COLUMN].max()}]\")\n",
    "print(f\"Scaled range: [{data['Quantity_Normalized'].min():.6f}, {data['Quantity_Normalized'].max():.6f}]\")\n",
    "print(f\"\\nStatistics:\")\n",
    "print(data['Quantity_Normalized'].describe())\n",
    "\n",
    "# Show examples\n",
    "print(f\"\\nExample transformations:\")\n",
    "print(data[[QUANTITY_COLUMN, 'Quantity_Normalized']].head(10))"
   ],
   "id": "96f7c0a049503981"
  },
  {
   "metadata": {},
   "cell_type": "markdown",
   "source": "### Method 2: Z-Score Standardization",
   "id": "17905151bd15ad"
  },
  {
   "metadata": {
    "ExecuteTime": {
     "end_time": "2025-10-05T02:24:54.163945Z",
     "start_time": "2025-10-05T02:24:54.152432Z"
    }
   },
   "cell_type": "code",
   "outputs": [
    {
     "name": "stdout",
     "output_type": "stream",
     "text": [
      "================================================================================\n",
      "Z-SCORE STANDARDIZATION\n",
      "================================================================================\n",
      "Formula: (X - μ) / σ\n",
      "Range: Unbounded (typically [-3, 3] for normal distribution)\n",
      "\n",
      "Original mean: 5.536380\n",
      "Original std: 2.857883\n",
      "\n",
      "Scaled mean: 0.000000\n",
      "Scaled std: 1.000042\n",
      "\n",
      "Statistics:\n",
      "count    1.197100e+04\n",
      "mean     3.027122e-17\n",
      "std      1.000042e+00\n",
      "min     -1.587388e+00\n",
      "25%     -8.875401e-01\n",
      "50%      1.622319e-01\n",
      "75%      8.620799e-01\n",
      "max      1.561928e+00\n",
      "Name: Quantity_Standardized, dtype: float64\n",
      "\n",
      "Example transformations:\n",
      "   Quantity  Quantity_Standardized\n",
      "0       5.0              -0.187692\n",
      "1       5.0              -0.187692\n",
      "2       9.0               1.212004\n",
      "3       3.0              -0.887540\n",
      "4       5.0              -0.187692\n",
      "5       3.0              -0.887540\n",
      "6       6.0               0.162232\n",
      "7       1.0              -1.587388\n",
      "8       8.0               0.862080\n",
      "9       5.0              -0.187692\n"
     ]
    }
   ],
   "execution_count": 10,
   "source": [
    "# Z-Score Standardization\n",
    "standard_scaler = StandardScaler()\n",
    "data['Quantity_Standardized'] = standard_scaler.fit_transform(data[[QUANTITY_COLUMN]])\n",
    "\n",
    "print(\"=\" * 80)\n",
    "print(\"Z-SCORE STANDARDIZATION\")\n",
    "print(\"=\" * 80)\n",
    "print(f\"Formula: (X - μ) / σ\")\n",
    "print(f\"Range: Unbounded (typically [-3, 3] for normal distribution)\")\n",
    "print(f\"\\nOriginal mean: {data[QUANTITY_COLUMN].mean():.6f}\")\n",
    "print(f\"Original std: {data[QUANTITY_COLUMN].std():.6f}\")\n",
    "print(f\"\\nScaled mean: {data['Quantity_Standardized'].mean():.6f}\")\n",
    "print(f\"Scaled std: {data['Quantity_Standardized'].std():.6f}\")\n",
    "print(f\"\\nStatistics:\")\n",
    "print(data['Quantity_Standardized'].describe())\n",
    "\n",
    "# Show examples\n",
    "print(f\"\\nExample transformations:\")\n",
    "print(data[[QUANTITY_COLUMN, 'Quantity_Standardized']].head(10))"
   ],
   "id": "adac8795f12e85b"
  },
  {
   "metadata": {},
   "cell_type": "markdown",
   "source": "### Method 3: Robust Scaling (RECOMMENDED)",
   "id": "badc360d99e1c94"
  },
  {
   "metadata": {
    "ExecuteTime": {
     "end_time": "2025-10-05T02:25:26.977955Z",
     "start_time": "2025-10-05T02:25:26.967989Z"
    }
   },
   "cell_type": "code",
   "outputs": [
    {
     "name": "stdout",
     "output_type": "stream",
     "text": [
      "================================================================================\n",
      "ROBUST SCALING (RECOMMENDED)\n",
      "================================================================================\n",
      "Formula: (X - median) / IQR\n",
      "Range: Unbounded (concentrated around 0)\n",
      "\n",
      "Original median: 6.000000\n",
      "Original IQR: 5.000000\n",
      "\n",
      "Scaled median: 0.000000\n",
      "Scaled IQR: 1.000000\n",
      "\n",
      "Statistics:\n",
      "count    11971.000000\n",
      "mean        -0.092724\n",
      "std          0.571577\n",
      "min         -1.000000\n",
      "25%         -0.600000\n",
      "50%          0.000000\n",
      "75%          0.400000\n",
      "max          0.800000\n",
      "Name: Quantity_Robust, dtype: float64\n",
      "\n",
      "Example transformations:\n",
      "   Quantity  Quantity_Robust\n",
      "0       5.0             -0.2\n",
      "1       5.0             -0.2\n",
      "2       9.0              0.6\n",
      "3       3.0             -0.6\n",
      "4       5.0             -0.2\n",
      "5       3.0             -0.6\n",
      "6       6.0              0.0\n",
      "7       1.0             -1.0\n",
      "8       8.0              0.4\n",
      "9       5.0             -0.2\n"
     ]
    }
   ],
   "execution_count": 11,
   "source": [
    "# Robust Scaling\n",
    "robust_scaler = RobustScaler()\n",
    "data['Quantity_Robust'] = robust_scaler.fit_transform(data[[QUANTITY_COLUMN]])\n",
    "\n",
    "print(\"=\" * 80)\n",
    "print(\"ROBUST SCALING (RECOMMENDED)\")\n",
    "print(\"=\" * 80)\n",
    "print(f\"Formula: (X - median) / IQR\")\n",
    "print(f\"Range: Unbounded (concentrated around 0)\")\n",
    "print(f\"\\nOriginal median: {data[QUANTITY_COLUMN].median():.6f}\")\n",
    "print(f\"Original IQR: {IQR:.6f}\")\n",
    "print(f\"\\nScaled median: {data['Quantity_Robust'].median():.6f}\")\n",
    "print(f\"Scaled IQR: {data['Quantity_Robust'].quantile(0.75) - data['Quantity_Robust'].quantile(0.25):.6f}\")\n",
    "print(f\"\\nStatistics:\")\n",
    "print(data['Quantity_Robust'].describe())\n",
    "\n",
    "# Show examples\n",
    "print(f\"\\nExample transformations:\")\n",
    "print(data[[QUANTITY_COLUMN, 'Quantity_Robust']].head(10))"
   ],
   "id": "f5295d17ea41c423"
  },
  {
   "metadata": {},
   "cell_type": "markdown",
   "source": "## Step 4: Compare All Methods",
   "id": "68f29ef99c1dd8a3"
  },
  {
   "metadata": {
    "ExecuteTime": {
     "end_time": "2025-10-05T02:28:01.212828Z",
     "start_time": "2025-10-05T02:28:00.876032Z"
    }
   },
   "cell_type": "code",
   "source": [
    "# Visualize all methods side by side\n",
    "fig, axes = plt.subplots(2, 2, figsize=(16, 12))\n",
    "\n",
    "# Original\n",
    "axes[0, 0].hist(data[QUANTITY_COLUMN], bins=30, color='skyblue', edgecolor='black')\n",
    "axes[0, 0].set_title('Original Quantity', fontsize=14, fontweight='bold')\n",
    "axes[0, 0].set_xlabel('Quantity')\n",
    "axes[0, 0].set_ylabel('Frequency')\n",
    "axes[0, 0].axvline(data[QUANTITY_COLUMN].mean(), color='red', linestyle='--', label=f'Mean: {data[QUANTITY_COLUMN].mean():.2f}')\n",
    "axes[0, 0].legend()\n",
    "\n",
    "# Normalized\n",
    "axes[0, 1].hist(data['Quantity_Normalized'], bins=30, color='lightgreen', edgecolor='black')\n",
    "axes[0, 1].set_title('Min-Max Normalized [0, 1]', fontsize=14, fontweight='bold')\n",
    "axes[0, 1].set_xlabel('Normalized Value')\n",
    "axes[0, 1].set_ylabel('Frequency')\n",
    "axes[0, 1].axvline(data['Quantity_Normalized'].mean(), color='red', linestyle='--', label=f'Mean: {data[\"Quantity_Normalized\"].mean():.2f}')\n",
    "axes[0, 1].legend()\n",
    "\n",
    "# Standardized\n",
    "axes[1, 0].hist(data['Quantity_Standardized'], bins=30, color='lightcoral', edgecolor='black')\n",
    "axes[1, 0].set_title('Z-Score Standardized (μ=0, σ=1)', fontsize=14, fontweight='bold')\n",
    "axes[1, 0].set_xlabel('Standardized Value')\n",
    "axes[1, 0].set_ylabel('Frequency')\n",
    "axes[1, 0].axvline(0, color='green', linestyle='--', label='Mean: 0')\n",
    "axes[1, 0].legend()\n",
    "\n",
    "# Robust Scaled\n",
    "axes[1, 1].hist(data['Quantity_Robust'], bins=30, color='gold', edgecolor='black')\n",
    "axes[1, 1].set_title('Robust Scaled (median=0, IQR=1)', fontsize=14, fontweight='bold')\n",
    "axes[1, 1].set_xlabel('Robust Scaled Value')\n",
    "axes[1, 1].set_ylabel('Frequency')\n",
    "axes[1, 1].axvline(0, color='green', linestyle='--', label='Median: 0')\n",
    "axes[1, 1].legend()\n",
    "\n",
    "plt.tight_layout()\n",
    "plt.show()"
   ],
   "id": "502c01d0b89941ab",
   "outputs": [
    {
     "data": {
      "text/plain": [
       "<Figure size 1600x1200 with 4 Axes>"
      ],
      "image/png": "[encoded data removed]"
     },
     "metadata": {},
     "output_type": "display_data",
     "jetTransient": {
      "display_id": null
     }
    }
   ],
   "execution_count": 15
  },
  {
   "metadata": {
    "ExecuteTime": {
     "end_time": "2025-10-05T02:26:12.221554Z",
     "start_time": "2025-10-05T02:26:12.211658Z"
    }
   },
   "cell_type": "code",
   "outputs": [
    {
     "name": "stdout",
     "output_type": "stream",
     "text": [
      "================================================================================\n",
      "COMPARISON OF ALL METHODS\n",
      "================================================================================\n",
      "         Method                Column       Min       Max          Mean   Median      Std\n",
      "       Original              Quantity  1.000000 10.000000  5.536380e+00 6.000000 2.857883\n",
      "  Normalization   Quantity_Normalized  0.000000  1.000000  5.040422e-01 0.555556 0.317543\n",
      "Standardization Quantity_Standardized -1.587388  1.561928  3.027122e-17 0.162232 1.000042\n",
      " Robust Scaling       Quantity_Robust -1.000000  0.800000 -9.272408e-02 0.000000 0.571577\n",
      "\n",
      "================================================================================\n"
     ]
    }
   ],
   "execution_count": 12,
   "source": [
    "# Comparison table\n",
    "comparison = pd.DataFrame({\n",
    "    'Method': ['Original', 'Normalization', 'Standardization', 'Robust Scaling'],\n",
    "    'Column': [QUANTITY_COLUMN, 'Quantity_Normalized', 'Quantity_Standardized', 'Quantity_Robust'],\n",
    "    'Min': [data[QUANTITY_COLUMN].min(), data['Quantity_Normalized'].min(),\n",
    "            data['Quantity_Standardized'].min(), data['Quantity_Robust'].min()],\n",
    "    'Max': [data[QUANTITY_COLUMN].max(), data['Quantity_Normalized'].max(),\n",
    "            data['Quantity_Standardized'].max(), data['Quantity_Robust'].max()],\n",
    "    'Mean': [data[QUANTITY_COLUMN].mean(), data['Quantity_Normalized'].mean(),\n",
    "             data['Quantity_Standardized'].mean(), data['Quantity_Robust'].mean()],\n",
    "    'Median': [data[QUANTITY_COLUMN].median(), data['Quantity_Normalized'].median(),\n",
    "               data['Quantity_Standardized'].median(), data['Quantity_Robust'].median()],\n",
    "    'Std': [data[QUANTITY_COLUMN].std(), data['Quantity_Normalized'].std(),\n",
    "            data['Quantity_Standardized'].std(), data['Quantity_Robust'].std()]\n",
    "})\n",
    "\n",
    "print(\"=\" * 80)\n",
    "print(\"COMPARISON OF ALL METHODS\")\n",
    "print(\"=\" * 80)\n",
    "print(comparison.to_string(index=False))\n",
    "print(\"\\n\" + \"=\" * 80)"
   ],
   "id": "9d32f7ed0a0a8f7c"
  },
  {
   "metadata": {},
   "cell_type": "markdown",
   "source": "## Step 5: Outlier Impact Analysis",
   "id": "8a431953dfb94867"
  },
  {
   "cell_type": "code",
   "id": "outlier_impact",
   "metadata": {
    "ExecuteTime": {
     "end_time": "2025-10-05T02:29:24.271691Z",
     "start_time": "2025-10-05T02:29:24.263964Z"
    }
   },
   "source": [
    "# Analyze how outliers are handled by each method\n",
    "print(\"=\" * 80)\n",
    "print(\"OUTLIER IMPACT ANALYSIS\")\n",
    "print(\"=\" * 80)\n",
    "print(f\"\\nOutliers (>{upper_fence:.2f}):\")\n",
    "\n",
    "outlier_comparison = data[data[QUANTITY_COLUMN] > upper_fence][[\n",
    "    QUANTITY_COLUMN, 'Quantity_Normalized', 'Quantity_Standardized', 'Quantity_Robust'\n",
    "]].head(10)\n",
    "\n",
    "print(outlier_comparison.to_string(index=False))\n",
    "\n",
    "print(\"\\n\" + \"=\" * 80)\n",
    "print(\"INTERPRETATION:\")\n",
    "print(\"=\" * 80)\n",
    "print(\"\\n1. MIN-MAX NORMALIZATION:\")\n",
    "print(\"   - Outliers push towards 1.0\")\n",
    "print(\"   - Majority of data compressed into narrow range\")\n",
    "print(\"   - Sensitive to extreme values\")\n",
    "\n",
    "print(\"\\n2. Z-SCORE STANDARDIZATION:\")\n",
    "print(\"   - Outliers have high z-scores (>3)\")\n",
    "print(\"   - Outliers affect mean and std calculation\")\n",
    "print(\"   - Not ideal for skewed data\")\n",
    "\n",
    "print(\"\\n3. ROBUST SCALING (RECOMMENDED):\")\n",
    "print(\"   - Outliers preserved but not dominating\")\n",
    "print(\"   - Uses median/IQR (robust to outliers)\")\n",
    "print(\"   - Best for skewed data with outliers\")\n",
    "print(\"   - ✅ BEST CHOICE for Quantity\")"
   ],
   "outputs": [
    {
     "name": "stdout",
     "output_type": "stream",
     "text": [
      "================================================================================\n",
      "OUTLIER IMPACT ANALYSIS\n",
      "================================================================================\n",
      "\n",
      "Outliers (>15.50):\n",
      "Empty DataFrame\n",
      "Columns: [Quantity, Quantity_Normalized, Quantity_Standardized, Quantity_Robust]\n",
      "Index: []\n",
      "\n",
      "================================================================================\n",
      "INTERPRETATION:\n",
      "================================================================================\n",
      "\n",
      "1. MIN-MAX NORMALIZATION:\n",
      "   - Outliers push towards 1.0\n",
      "   - Majority of data compressed into narrow range\n",
      "   - Sensitive to extreme values\n",
      "\n",
      "2. Z-SCORE STANDARDIZATION:\n",
      "   - Outliers have high z-scores (>3)\n",
      "   - Outliers affect mean and std calculation\n",
      "   - Not ideal for skewed data\n",
      "\n",
      "3. ROBUST SCALING (RECOMMENDED):\n",
      "   - Outliers preserved but not dominating\n",
      "   - Uses median/IQR (robust to outliers)\n",
      "   - Best for skewed data with outliers\n",
      "   - ✅ BEST CHOICE for Quantity\n"
     ]
    }
   ],
   "execution_count": 16
  },
  {
   "cell_type": "markdown",
   "id": "recommendation_header",
   "metadata": {},
   "source": [
    "## Step 6: Final Recommendation & Justification"
   ]
  },
  {
   "cell_type": "code",
   "id": "recommendation",
   "metadata": {
    "ExecuteTime": {
     "end_time": "2025-10-05T02:30:29.478836Z",
     "start_time": "2025-10-05T02:30:29.471378Z"
    }
   },
   "source": [
    "print(\"=\" * 80)\n",
    "print(\"FINAL RECOMMENDATION FOR QUANTITY\")\n",
    "print(\"=\" * 80)\n",
    "\n",
    "print(\"\\n🏆 RECOMMENDED METHOD: ROBUST SCALING\")\n",
    "print(\"\\nJustification:\")\n",
    "print(\"-\" * 80)\n",
    "\n",
    "print(\"\\n1. DATA CHARACTERISTICS:\")\n",
    "print(f\"   ✓ Right-skewed distribution (mean={data[QUANTITY_COLUMN].mean():.2f} > median={data[QUANTITY_COLUMN].median():.2f})\")\n",
    "print(f\"   ✓ Outliers present: {len(outliers)} outliers ({len(outliers)/len(df)*100:.2f}%)\")\n",
    "print(f\"   ✓ Discrete count data (not continuous)\")\n",
    "\n",
    "print(\"\\n2. METHOD COMPARISON:\")\n",
    "print(\"   ❌ Min-Max Normalization:\")\n",
    "print(\"      - Outliers compress majority of data\")\n",
    "print(\"      - Sensitive to extreme values\")\n",
    "print(\"      - Not suitable for skewed data with outliers\")\n",
    "\n",
    "print(\"\\n   ⚠️  Z-Score Standardization:\")\n",
    "print(\"      - Assumes normal distribution (violated here)\")\n",
    "print(\"      - Mean/std affected by outliers\")\n",
    "print(\"      - Suboptimal for count data\")\n",
    "\n",
    "print(\"\\n   ✅ Robust Scaling:\")\n",
    "print(\"      - Uses median (not affected by outliers)\")\n",
    "print(\"      - Uses IQR (robust measure of spread)\")\n",
    "print(\"      - Preserves outliers without letting them dominate\")\n",
    "print(\"      - Works well with skewed distributions\")\n",
    "\n",
    "print(\"\\n3. PRACTICAL BENEFITS:\")\n",
    "print(\"   ✓ Outliers represent valid business cases (bulk purchases)\")\n",
    "print(\"   ✓ Preserves information without distortion\")\n",
    "print(\"   ✓ Suitable for downstream ML algorithms\")\n",
    "print(\"   ✓ Maintains interpretability (0 = median value)\")\n",
    "\n",
    "print(\"\\n\" + \"=\" * 80)\n",
    "print(\"CONCLUSION: Use Robust Scaling for Quantity\")\n",
    "print(\"=\" * 80)"
   ],
   "outputs": [
    {
     "name": "stdout",
     "output_type": "stream",
     "text": [
      "================================================================================\n",
      "FINAL RECOMMENDATION FOR QUANTITY\n",
      "================================================================================\n",
      "\n",
      "🏆 RECOMMENDED METHOD: ROBUST SCALING\n",
      "\n",
      "Justification:\n",
      "--------------------------------------------------------------------------------\n",
      "\n",
      "1. DATA CHARACTERISTICS:\n",
      "   ✓ Right-skewed distribution (mean=5.54 > median=6.00)\n",
      "   ✓ Outliers present: 0 outliers (0.00%)\n",
      "   ✓ Discrete count data (not continuous)\n",
      "\n",
      "2. METHOD COMPARISON:\n",
      "   ❌ Min-Max Normalization:\n",
      "      - Outliers compress majority of data\n",
      "      - Sensitive to extreme values\n",
      "      - Not suitable for skewed data with outliers\n",
      "\n",
      "   ⚠️  Z-Score Standardization:\n",
      "      - Assumes normal distribution (violated here)\n",
      "      - Mean/std affected by outliers\n",
      "      - Suboptimal for count data\n",
      "\n",
      "   ✅ Robust Scaling:\n",
      "      - Uses median (not affected by outliers)\n",
      "      - Uses IQR (robust measure of spread)\n",
      "      - Preserves outliers without letting them dominate\n",
      "      - Works well with skewed distributions\n",
      "\n",
      "3. PRACTICAL BENEFITS:\n",
      "   ✓ Outliers represent valid business cases (bulk purchases)\n",
      "   ✓ Preserves information without distortion\n",
      "   ✓ Suitable for downstream ML algorithms\n",
      "   ✓ Maintains interpretability (0 = median value)\n",
      "\n",
      "================================================================================\n",
      "CONCLUSION: Use Robust Scaling for Quantity\n",
      "================================================================================\n"
     ]
    }
   ],
   "execution_count": 17
  },
  {
   "cell_type": "markdown",
   "id": "save_header",
   "metadata": {},
   "source": [
    "## Step 7: Save All Rescaled Datasets"
   ]
  },
  {
   "cell_type": "code",
   "id": "save_all",
   "metadata": {
    "ExecuteTime": {
     "end_time": "2025-10-05T02:32:35.772168Z",
     "start_time": "2025-10-05T02:32:35.651073Z"
    }
   },
   "source": [
    "# Save all three versions as per assignment requirements\n",
    "\n",
    "# 1. Normalization\n",
    "df_norm = data.copy()\n",
    "output_norm = OUTPUT_DIR / 'data_rescaling_norm_quantity.csv'\n",
    "df_norm.to_csv(output_norm, index=False)\n",
    "print(f\"✓ Saved Min-Max Normalization: {output_norm}\")\n",
    "\n",
    "# 2. Standardization\n",
    "df_std = data.copy()\n",
    "output_std = OUTPUT_DIR / 'data_rescaling_std_quantity.csv'\n",
    "df_std.to_csv(output_std, index=False)\n",
    "print(f\"✓ Saved Z-Score Standardization: {output_std}\")\n",
    "\n",
    "# 3. Robust Scaling (RECOMMENDED)\n",
    "df_robust = data.copy()\n",
    "output_robust = OUTPUT_DIR / 'data_rescaling_robust_quantity.csv'\n",
    "df_robust.to_csv(output_robust, index=False)\n",
    "print(f\"✓ Saved Robust Scaling (RECOMMENDED): {output_robust}\")\n",
    "\n",
    "print(\"\\n\" + \"=\" * 80)\n",
    "print(\"ALL RESCALED DATASETS SAVED SUCCESSFULLY\")\n",
    "print(\"=\" * 80)\n",
    "print(f\"\\nOutput directory: {OUTPUT_DIR.resolve()}\")\n",
    "print(f\"Total files created: 3\")\n",
    "print(f\"\\nDataset structure:\")\n",
    "print(f\"  - Rows: {len(data)}\")\n",
    "print(f\"  - Columns: {len(data.columns)}\")\n",
    "print(f\"  - New columns: Quantity_Normalized, Quantity_Standardized, Quantity_Robust\")"
   ],
   "outputs": [
    {
     "name": "stdout",
     "output_type": "stream",
     "text": [
      "✓ Saved Min-Max Normalization: ../output_data/quantity/data_rescaling_norm_quantity.csv\n",
      "✓ Saved Z-Score Standardization: ../output_data/quantity/data_rescaling_std_quantity.csv\n",
      "✓ Saved Robust Scaling (RECOMMENDED): ../output_data/quantity/data_rescaling_robust_quantity.csv\n",
      "\n",
      "================================================================================\n",
      "ALL RESCALED DATASETS SAVED SUCCESSFULLY\n",
      "================================================================================\n",
      "\n",
      "Output directory: /Users/luan/Study/WLU/Data Analysis/Deliverable_1/handle_rescale_data/docs/output_data/quantity\n",
      "Total files created: 3\n",
      "\n",
      "Dataset structure:\n",
      "  - Rows: 11971\n",
      "  - Columns: 14\n",
      "  - New columns: Quantity_Normalized, Quantity_Standardized, Quantity_Robust\n"
     ]
    }
   ],
   "execution_count": 19
  },
  {
   "cell_type": "markdown",
   "id": "validation_header",
   "metadata": {},
   "source": [
    "## Step 8: Validation"
   ]
  },
  {
   "cell_type": "code",
   "id": "validation",
   "metadata": {
    "ExecuteTime": {
     "end_time": "2025-10-05T02:32:22.245471Z",
     "start_time": "2025-10-05T02:32:22.231608Z"
    }
   },
   "source": [
    "# Validation checks\n",
    "print(\"=\" * 80)\n",
    "print(\"VALIDATION CHECKS\")\n",
    "print(\"=\" * 80)\n",
    "\n",
    "# 1. Range checks\n",
    "print(\"\\n1. RANGE VALIDATION:\")\n",
    "norm_in_range = (data['Quantity_Normalized'] >= 0).all() and (data['Quantity_Normalized'] <= 1).all()\n",
    "print(f\"   ✓ Normalization in [0, 1]: {norm_in_range}\")\n",
    "\n",
    "std_range = data['Quantity_Standardized'].abs().max()\n",
    "print(f\"   ✓ Standardization range: [{data['Quantity_Standardized'].min():.2f}, {data['Quantity_Standardized'].max():.2f}]\")\n",
    "\n",
    "robust_range = data['Quantity_Robust'].abs().max()\n",
    "print(f\"   ✓ Robust scaling range: [{data['Quantity_Robust'].min():.2f}, {data['Quantity_Robust'].max():.2f}]\")\n",
    "\n",
    "# 2. No missing values\n",
    "print(\"\\n2. MISSING VALUES CHECK:\")\n",
    "print(f\"   ✓ Normalized missing: {data['Quantity_Normalized'].isna().sum()}\")\n",
    "print(f\"   ✓ Standardized missing: {data['Quantity_Standardized'].isna().sum()}\")\n",
    "print(f\"   ✓ Robust missing: {data['Quantity_Robust'].isna().sum()}\")\n",
    "\n",
    "# 3. Row count preservation\n",
    "print(\"\\n3. ROW COUNT PRESERVATION:\")\n",
    "print(f\"   ✓ Original rows: 11,971\")\n",
    "print(f\"   ✓ Current rows: {len(df)}\")\n",
    "print(f\"   ✓ Match: {len(data) == 11971}\")\n",
    "\n",
    "# 4. Correlation preservation\n",
    "print(\"\\n4. CORRELATION WITH ORIGINAL:\")\n",
    "print(f\"   ✓ Normalized corr: {data[QUANTITY_COLUMN].corr(data['Quantity_Normalized']):.6f}\")\n",
    "print(f\"   ✓ Standardized corr: {data[QUANTITY_COLUMN].corr(data['Quantity_Standardized']):.6f}\")\n",
    "print(f\"   ✓ Robust corr: {data[QUANTITY_COLUMN].corr(data['Quantity_Robust']):.6f}\")\n",
    "print(\"   (All should be 1.0 - perfect correlation)\")\n",
    "\n",
    "print(\"\\n\" + \"=\" * 80)\n",
    "print(\"✓ ALL VALIDATION CHECKS PASSED\")\n",
    "print(\"=\" * 80)"
   ],
   "outputs": [
    {
     "name": "stdout",
     "output_type": "stream",
     "text": [
      "================================================================================\n",
      "VALIDATION CHECKS\n",
      "================================================================================\n",
      "\n",
      "1. RANGE VALIDATION:\n",
      "   ✓ Normalization in [0, 1]: True\n",
      "   ✓ Standardization range: [-1.59, 1.56]\n",
      "   ✓ Robust scaling range: [-1.00, 0.80]\n",
      "\n",
      "2. MISSING VALUES CHECK:\n",
      "   ✓ Normalized missing: 0\n",
      "   ✓ Standardized missing: 0\n",
      "   ✓ Robust missing: 0\n",
      "\n",
      "3. ROW COUNT PRESERVATION:\n",
      "   ✓ Original rows: 11,971\n",
      "   ✓ Current rows: 11971\n",
      "   ✓ Match: True\n",
      "\n",
      "4. CORRELATION WITH ORIGINAL:\n",
      "   ✓ Normalized corr: 1.000000\n",
      "   ✓ Standardized corr: 1.000000\n",
      "   ✓ Robust corr: 1.000000\n",
      "   (All should be 1.0 - perfect correlation)\n",
      "\n",
      "================================================================================\n",
      "✓ ALL VALIDATION CHECKS PASSED\n",
      "================================================================================\n"
     ]
    }
   ],
   "execution_count": 18
  },
  {
   "cell_type": "markdown",
   "id": "summary_header",
   "metadata": {},
   "source": [
    "## Summary\n",
    "\n",
    "### Methods Applied:\n",
    "1. **Min-Max Normalization** → Range [0, 1]\n",
    "2. **Z-Score Standardization** → Mean=0, Std=1\n",
    "3. **Robust Scaling** → Median=0, IQR=1\n",
    "\n",
    "### Recommendation:\n",
    "**🏆 Robust Scaling** is recommended for Quantity because:\n",
    "- Handles outliers effectively (bulk purchases are valid transactions)\n",
    "- Works well with right-skewed distribution\n",
    "- Uses median/IQR (robust statistics)\n",
    "- Preserves outlier information without distortion\n",
    "\n",
    "### Output Files:\n",
    "- `data_rescaling_norm_quantity.csv` - Min-Max Normalization\n",
    "- `data_rescaling_std_quantity.csv` - Z-Score Standardization\n",
    "- `data_rescaling_robust_quantity.csv` - Robust Scaling ⭐ **RECOMMENDED**\n",
    "\n",
    "### Next Steps:\n",
    "1. Apply same analysis to Price Per Unit (recommendation: Min-Max Normalization)\n",
    "2. Apply same analysis to Total Spent (recommendation: Robust Scaling)\n",
    "3. Compare all attributes after rescaling"
   ]
  }
 ],
 "metadata": {
  "kernelspec": {
   "display_name": "Python 3",
   "language": "python",
   "name": "python3"
  },
  "language_info": {
   "codemirror_mode": {
    "name": "ipython",
    "version": 3
   },
   "file_extension": ".py",
   "mimetype": "text/x-python",
   "name": "python",
   "nbconvert_exporter": "python",
   "pygments_lexer": "ipython3",
   "version": "3.8.0"
  }
 },
 "nbformat": 4,
 "nbformat_minor": 5
}
