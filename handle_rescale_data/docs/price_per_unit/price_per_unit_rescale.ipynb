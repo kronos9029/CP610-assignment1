{
 "cells": [
  {
   "cell_type": "markdown",
   "id": "header_cell",
   "metadata": {},
   "source": [
    "# Price Per Unit - Rescaling Methods Comparison\n",
    "\n",
    "## Overview\n",
    "\n",
    "This notebook implements and compares three rescaling methods for the **Price Per Unit** attribute:\n",
    "1. **Min-Max Normalization** (RECOMMENDED)\n",
    "2. **Z-Score Standardization**\n",
    "3. **Robust Scaling**\n",
    "\n",
    "## Source Dataset\n",
    "\n",
    "**Input:** `handle_missing_data/output_data/4_discount_applied/final_cleaned_dataset.csv`\n",
    "- 11,971 rows (after missing data handling)\n",
    "- Price Per Unit reconstructed from Total Spent ÷ Quantity\n",
    "- All missing values resolved\n",
    "\n",
    "## Price Per Unit Characteristics\n",
    "\n",
    "- **Type:** Continuous currency data\n",
    "- **Range:** Typically $1-$100\n",
    "- **Distribution:** Varies by item category\n",
    "- **Outliers:** Present but handled during reconstruction\n",
    "- **Recommendation:** Min-Max Normalization (natural bounds, interpretable)\n",
    "\n",
    "---"
   ]
  },
  {
   "cell_type": "markdown",
   "id": "imports_header",
   "metadata": {},
   "source": [
    "## Step 1: Import Libraries and Load Data"
   ]
  },
  {
   "cell_type": "code",
   "id": "imports",
   "metadata": {
    "ExecuteTime": {
     "end_time": "2025-10-05T02:42:54.289110Z",
     "start_time": "2025-10-05T02:42:54.231158Z"
    }
   },
   "source": [
    "import pandas as pd\n",
    "import numpy as np\n",
    "import matplotlib.pyplot as plt\n",
    "import seaborn as sns\n",
    "from pathlib import Path\n",
    "from sklearn.preprocessing import MinMaxScaler, StandardScaler, RobustScaler\n",
    "\n",
    "# Configuration\n",
    "INPUT_CSV = Path('../../../handle_missing_data/output_data/4_discount_applied/final_cleaned_dataset.csv')\n",
    "OUTPUT_DIR = Path('../../output_data/price_per_unit')\n",
    "PRICE_PER_UNIT_COLUMN = 'Price Per Unit'\n",
    "\n",
    "# Create output directory\n",
    "OUTPUT_DIR.mkdir(parents=True, exist_ok=True)\n",
    "\n",
    "print(f\"Input file: {INPUT_CSV}\")\n",
    "print(f\"Output directory: {OUTPUT_DIR}\")"
   ],
   "outputs": [
    {
     "name": "stdout",
     "output_type": "stream",
     "text": [
      "Input file: ../../../handle_missing_data/output_data/4_discount_applied/final_cleaned_dataset.csv\n",
      "Output directory: ../../output_data/price_per_unit\n"
     ]
    }
   ],
   "execution_count": 1
  },
  {
   "cell_type": "code",
   "id": "load_data",
   "metadata": {
    "ExecuteTime": {
     "end_time": "2025-10-05T02:42:59.380509Z",
     "start_time": "2025-10-05T02:42:59.322283Z"
    }
   },
   "source": [
    "# Load the cleaned dataset\n",
    "df = pd.read_csv(INPUT_CSV)\n",
    "\n",
    "df.head()"
   ],
   "outputs": [
    {
     "data": {
      "text/plain": [
       "  Transaction ID Customer ID                            Category  \\\n",
       "0    TXN_1002182     CUST_01                                Food   \n",
       "1    TXN_1003865     CUST_15                           Furniture   \n",
       "2    TXN_1003940     CUST_06                           Furniture   \n",
       "3    TXN_1004091     CUST_04                                Food   \n",
       "4    TXN_1004124     CUST_08  Computers and electric accessories   \n",
       "\n",
       "           Item  Price Per Unit  Quantity  Total Spent  Payment Method  \\\n",
       "0   Item_5_FOOD            11.0       5.0         55.0  Digital Wallet   \n",
       "1    Item_2_FUR             6.5       5.0         32.5            Cash   \n",
       "2    Item_5_FUR            11.0       9.0         99.0  Digital Wallet   \n",
       "3  Item_25_FOOD            41.0       3.0        123.0            Cash   \n",
       "4    Item_7_CEA            14.0       5.0         70.0     Credit Card   \n",
       "\n",
       "   Location Transaction Date Discount Applied  \n",
       "0  In-store       2024-10-08             True  \n",
       "1    Online       2022-03-12            False  \n",
       "2    Online       2022-04-22            False  \n",
       "3  In-store       2023-11-09            False  \n",
       "4  In-store       2022-03-02          Unknown  "
      ],
      "text/html": [
       "<div>\n",
       "<style scoped>\n",
       "    .dataframe tbody tr th:only-of-type {\n",
       "        vertical-align: middle;\n",
       "    }\n",
       "\n",
       "    .dataframe tbody tr th {\n",
       "        vertical-align: top;\n",
       "    }\n",
       "\n",
       "    .dataframe thead th {\n",
       "        text-align: right;\n",
       "    }\n",
       "</style>\n",
       "<table border=\"1\" class=\"dataframe\">\n",
       "  <thead>\n",
       "    <tr style=\"text-align: right;\">\n",
       "      <th></th>\n",
       "      <th>Transaction ID</th>\n",
       "      <th>Customer ID</th>\n",
       "      <th>Category</th>\n",
       "      <th>Item</th>\n",
       "      <th>Price Per Unit</th>\n",
       "      <th>Quantity</th>\n",
       "      <th>Total Spent</th>\n",
       "      <th>Payment Method</th>\n",
       "      <th>Location</th>\n",
       "      <th>Transaction Date</th>\n",
       "      <th>Discount Applied</th>\n",
       "    </tr>\n",
       "  </thead>\n",
       "  <tbody>\n",
       "    <tr>\n",
       "      <th>0</th>\n",
       "      <td>TXN_1002182</td>\n",
       "      <td>CUST_01</td>\n",
       "      <td>Food</td>\n",
       "      <td>Item_5_FOOD</td>\n",
       "      <td>11.0</td>\n",
       "      <td>5.0</td>\n",
       "      <td>55.0</td>\n",
       "      <td>Digital Wallet</td>\n",
       "      <td>In-store</td>\n",
       "      <td>2024-10-08</td>\n",
       "      <td>True</td>\n",
       "    </tr>\n",
       "    <tr>\n",
       "      <th>1</th>\n",
       "      <td>TXN_1003865</td>\n",
       "      <td>CUST_15</td>\n",
       "      <td>Furniture</td>\n",
       "      <td>Item_2_FUR</td>\n",
       "      <td>6.5</td>\n",
       "      <td>5.0</td>\n",
       "      <td>32.5</td>\n",
       "      <td>Cash</td>\n",
       "      <td>Online</td>\n",
       "      <td>2022-03-12</td>\n",
       "      <td>False</td>\n",
       "    </tr>\n",
       "    <tr>\n",
       "      <th>2</th>\n",
       "      <td>TXN_1003940</td>\n",
       "      <td>CUST_06</td>\n",
       "      <td>Furniture</td>\n",
       "      <td>Item_5_FUR</td>\n",
       "      <td>11.0</td>\n",
       "      <td>9.0</td>\n",
       "      <td>99.0</td>\n",
       "      <td>Digital Wallet</td>\n",
       "      <td>Online</td>\n",
       "      <td>2022-04-22</td>\n",
       "      <td>False</td>\n",
       "    </tr>\n",
       "    <tr>\n",
       "      <th>3</th>\n",
       "      <td>TXN_1004091</td>\n",
       "      <td>CUST_04</td>\n",
       "      <td>Food</td>\n",
       "      <td>Item_25_FOOD</td>\n",
       "      <td>41.0</td>\n",
       "      <td>3.0</td>\n",
       "      <td>123.0</td>\n",
       "      <td>Cash</td>\n",
       "      <td>In-store</td>\n",
       "      <td>2023-11-09</td>\n",
       "      <td>False</td>\n",
       "    </tr>\n",
       "    <tr>\n",
       "      <th>4</th>\n",
       "      <td>TXN_1004124</td>\n",
       "      <td>CUST_08</td>\n",
       "      <td>Computers and electric accessories</td>\n",
       "      <td>Item_7_CEA</td>\n",
       "      <td>14.0</td>\n",
       "      <td>5.0</td>\n",
       "      <td>70.0</td>\n",
       "      <td>Credit Card</td>\n",
       "      <td>In-store</td>\n",
       "      <td>2022-03-02</td>\n",
       "      <td>Unknown</td>\n",
       "    </tr>\n",
       "  </tbody>\n",
       "</table>\n",
       "</div>"
      ]
     },
     "execution_count": 2,
     "metadata": {},
     "output_type": "execute_result"
    }
   ],
   "execution_count": 2
  },
  {
   "cell_type": "markdown",
   "id": "eda_header",
   "metadata": {},
   "source": [
    "## Step 2: Exploratory Data Analysis - Price Per Unit"
   ]
  },
  {
   "cell_type": "code",
   "id": "basic_stats",
   "metadata": {
    "ExecuteTime": {
     "end_time": "2025-10-05T02:43:07.751437Z",
     "start_time": "2025-10-05T02:43:07.743979Z"
    }
   },
   "source": [
    "# Basic statistics\n",
    "print(\"=\" * 80)\n",
    "print(\"PRICE PER UNIT - Descriptive Statistics\")\n",
    "print(\"=\" * 80)\n",
    "print(f\"\\n{df[PRICE_PER_UNIT_COLUMN].describe()}\")\n",
    "\n",
    "# Additional statistics\n",
    "print(f\"\\nMissing values: {df[PRICE_PER_UNIT_COLUMN].isna().sum()}\")\n",
    "print(f\"Unique values: {df[PRICE_PER_UNIT_COLUMN].nunique()}\")\n",
    "print(f\"\\nPrice range: ${df[PRICE_PER_UNIT_COLUMN].min():.2f} - ${df[PRICE_PER_UNIT_COLUMN].max():.2f}\")"
   ],
   "outputs": [
    {
     "name": "stdout",
     "output_type": "stream",
     "text": [
      "================================================================================\n",
      "PRICE PER UNIT - Descriptive Statistics\n",
      "================================================================================\n",
      "\n",
      "count    11971.000000\n",
      "mean        23.360872\n",
      "std         10.741889\n",
      "min          5.000000\n",
      "25%         14.000000\n",
      "50%         23.000000\n",
      "75%         33.500000\n",
      "max         41.000000\n",
      "Name: Price Per Unit, dtype: float64\n",
      "\n",
      "Missing values: 0\n",
      "Unique values: 25\n",
      "\n",
      "Price range: $5.00 - $41.00\n"
     ]
    }
   ],
   "execution_count": 3
  },
  {
   "cell_type": "code",
   "id": "outlier_detection",
   "metadata": {
    "ExecuteTime": {
     "end_time": "2025-10-05T02:43:11.873855Z",
     "start_time": "2025-10-05T02:43:11.866740Z"
    }
   },
   "source": [
    "# Outlier detection using IQR method\n",
    "Q1 = df[PRICE_PER_UNIT_COLUMN].quantile(0.25)\n",
    "Q3 = df[PRICE_PER_UNIT_COLUMN].quantile(0.75)\n",
    "IQR = Q3 - Q1\n",
    "\n",
    "lower_fence = Q1 - 1.5 * IQR\n",
    "upper_fence = Q3 + 1.5 * IQR\n",
    "\n",
    "outliers = df[(df[PRICE_PER_UNIT_COLUMN] < lower_fence) | (df[PRICE_PER_UNIT_COLUMN] > upper_fence)]\n",
    "\n",
    "print(\"=\" * 80)\n",
    "print(\"OUTLIER DETECTION (IQR Method)\")\n",
    "print(\"=\" * 80)\n",
    "print(f\"Q1 (25th percentile): ${Q1:.2f}\")\n",
    "print(f\"Q3 (75th percentile): ${Q3:.2f}\")\n",
    "print(f\"IQR: ${IQR:.2f}\")\n",
    "print(f\"Lower fence: ${lower_fence:.2f}\")\n",
    "print(f\"Upper fence: ${upper_fence:.2f}\")\n",
    "print(f\"\\nNumber of outliers: {len(outliers)} ({len(outliers)/len(df)*100:.2f}%)\")\n",
    "\n",
    "if len(outliers) > 0:\n",
    "    print(f\"Outlier price range: ${outliers[PRICE_PER_UNIT_COLUMN].min():.2f} to ${outliers[PRICE_PER_UNIT_COLUMN].max():.2f}\")\n",
    "    print(f\"\\nNote: Outliers were handled during Price Per Unit reconstruction (Total Spent ÷ Quantity)\")"
   ],
   "outputs": [
    {
     "name": "stdout",
     "output_type": "stream",
     "text": [
      "================================================================================\n",
      "OUTLIER DETECTION (IQR Method)\n",
      "================================================================================\n",
      "Q1 (25th percentile): $14.00\n",
      "Q3 (75th percentile): $33.50\n",
      "IQR: $19.50\n",
      "Lower fence: $-15.25\n",
      "Upper fence: $62.75\n",
      "\n",
      "Number of outliers: 0 (0.00%)\n"
     ]
    }
   ],
   "execution_count": 4
  },
  {
   "cell_type": "code",
   "id": "visualize_distribution",
   "metadata": {
    "ExecuteTime": {
     "end_time": "2025-10-05T02:43:14.618918Z",
     "start_time": "2025-10-05T02:43:14.254631Z"
    }
   },
   "source": [
    "# Visualize original distribution\n",
    "fig, axes = plt.subplots(1, 3, figsize=(18, 5))\n",
    "\n",
    "# Histogram\n",
    "axes[0].hist(df[PRICE_PER_UNIT_COLUMN], bins=40, color='lightblue', edgecolor='black')\n",
    "axes[0].set_title('Price Per Unit - Histogram', fontsize=14, fontweight='bold')\n",
    "axes[0].set_xlabel('Price ($)')\n",
    "axes[0].set_ylabel('Frequency')\n",
    "axes[0].axvline(df[PRICE_PER_UNIT_COLUMN].mean(), color='red', linestyle='--', \n",
    "                label=f'Mean: ${df[PRICE_PER_UNIT_COLUMN].mean():.2f}')\n",
    "axes[0].axvline(df[PRICE_PER_UNIT_COLUMN].median(), color='green', linestyle='--', \n",
    "                label=f'Median: ${df[PRICE_PER_UNIT_COLUMN].median():.2f}')\n",
    "axes[0].legend()\n",
    "\n",
    "# Box plot\n",
    "axes[1].boxplot(df[PRICE_PER_UNIT_COLUMN], vert=True)\n",
    "axes[1].set_title('Price Per Unit - Box Plot', fontsize=14, fontweight='bold')\n",
    "axes[1].set_ylabel('Price ($)')\n",
    "axes[1].axhline(upper_fence, color='red', linestyle='--', label=f'Upper Fence: ${upper_fence:.2f}')\n",
    "axes[1].axhline(lower_fence, color='red', linestyle='--', label=f'Lower Fence: ${lower_fence:.2f}')\n",
    "axes[1].legend()\n",
    "\n",
    "# Distribution plot\n",
    "df[PRICE_PER_UNIT_COLUMN].plot(kind='kde', ax=axes[2], color='darkblue')\n",
    "axes[2].set_title('Price Per Unit - Density Plot', fontsize=14, fontweight='bold')\n",
    "axes[2].set_xlabel('Price ($)')\n",
    "axes[2].set_ylabel('Density')\n",
    "\n",
    "plt.tight_layout()\n",
    "plt.show()\n",
    "\n",
    "print(\"\\nDistribution Analysis:\")\n",
    "skewness = df[PRICE_PER_UNIT_COLUMN].skew()\n",
    "print(f\"- Skewness: {skewness:.4f}\")\n",
    "if abs(skewness) < 0.5:\n",
    "    print(\"  → Approximately symmetric distribution\")\n",
    "elif skewness > 0:\n",
    "    print(\"  → Right-skewed distribution (some high-priced items)\")\n",
    "else:\n",
    "    print(\"  → Left-skewed distribution\")\n",
    "print(f\"- Natural bounds: Prices > $0 with practical upper limit\")\n",
    "print(f\"- Outliers already handled during reconstruction phase\")"
   ],
   "outputs": [
    {
     "data": {
      "text/plain": [
       "<Figure size 1800x500 with 3 Axes>"
      ],
      "image/png": "[encoded data removed]"
     },
     "metadata": {},
     "output_type": "display_data",
     "jetTransient": {
      "display_id": null
     }
    },
    {
     "name": "stdout",
     "output_type": "stream",
     "text": [
      "\n",
      "Distribution Analysis:\n",
      "- Skewness: -0.0333\n",
      "  → Approximately symmetric distribution\n",
      "- Natural bounds: Prices > $0 with practical upper limit\n",
      "- Outliers already handled during reconstruction phase\n"
     ]
    }
   ],
   "execution_count": 5
  },
  {
   "cell_type": "markdown",
   "id": "rescaling_header",
   "metadata": {},
   "source": [
    "## Step 3: Apply Rescaling Methods\n",
    "\n",
    "We will apply all three methods and compare them."
   ]
  },
  {
   "cell_type": "markdown",
   "id": "normalization_header",
   "metadata": {},
   "source": [
    "### Method 1: Min-Max Normalization (RECOMMENDED)"
   ]
  },
  {
   "cell_type": "code",
   "id": "normalization",
   "metadata": {
    "ExecuteTime": {
     "end_time": "2025-10-05T02:43:37.168528Z",
     "start_time": "2025-10-05T02:43:37.155811Z"
    }
   },
   "source": [
    "# Min-Max Normalization\n",
    "min_max_scaler = MinMaxScaler()\n",
    "df['PricePerUnit_Normalized'] = min_max_scaler.fit_transform(df[[PRICE_PER_UNIT_COLUMN]])\n",
    "\n",
    "print(\"=\" * 80)\n",
    "print(\"MIN-MAX NORMALIZATION (RECOMMENDED)\")\n",
    "print(\"=\" * 80)\n",
    "print(f\"Formula: (X - X_min) / (X_max - X_min)\")\n",
    "print(f\"Range: [0, 1]\")\n",
    "print(f\"\\nOriginal range: [${df[PRICE_PER_UNIT_COLUMN].min():.2f}, ${df[PRICE_PER_UNIT_COLUMN].max():.2f}]\")\n",
    "print(f\"Scaled range: [{df['PricePerUnit_Normalized'].min():.6f}, {df['PricePerUnit_Normalized'].max():.6f}]\")\n",
    "print(f\"\\nInterpretation:\")\n",
    "print(f\"  - 0.0 = Cheapest item (${df[PRICE_PER_UNIT_COLUMN].min():.2f})\")\n",
    "print(f\"  - 1.0 = Most expensive item (${df[PRICE_PER_UNIT_COLUMN].max():.2f})\")\n",
    "print(f\"  - 0.5 ≈ Mid-range price (${(df[PRICE_PER_UNIT_COLUMN].min() + df[PRICE_PER_UNIT_COLUMN].max())/2:.2f})\")\n",
    "print(f\"\\nStatistics:\")\n",
    "print(df['PricePerUnit_Normalized'].describe())\n",
    "\n",
    "# Show examples\n",
    "print(f\"\\nExample transformations:\")\n",
    "print(df[[PRICE_PER_UNIT_COLUMN, 'PricePerUnit_Normalized']].head(10))"
   ],
   "outputs": [
    {
     "name": "stdout",
     "output_type": "stream",
     "text": [
      "================================================================================\n",
      "MIN-MAX NORMALIZATION (RECOMMENDED)\n",
      "================================================================================\n",
      "Formula: (X - X_min) / (X_max - X_min)\n",
      "Range: [0, 1]\n",
      "\n",
      "Original range: [$5.00, $41.00]\n",
      "Scaled range: [0.000000, 1.000000]\n",
      "\n",
      "Interpretation:\n",
      "  - 0.0 = Cheapest item ($5.00)\n",
      "  - 1.0 = Most expensive item ($41.00)\n",
      "  - 0.5 ≈ Mid-range price ($23.00)\n",
      "\n",
      "Statistics:\n",
      "count    11971.000000\n",
      "mean         0.510024\n",
      "std          0.298386\n",
      "min          0.000000\n",
      "25%          0.250000\n",
      "50%          0.500000\n",
      "75%          0.791667\n",
      "max          1.000000\n",
      "Name: PricePerUnit_Normalized, dtype: float64\n",
      "\n",
      "Example transformations:\n",
      "   Price Per Unit  PricePerUnit_Normalized\n",
      "0            11.0                 0.166667\n",
      "1             6.5                 0.041667\n",
      "2            11.0                 0.166667\n",
      "3            41.0                 1.000000\n",
      "4            14.0                 0.250000\n",
      "5            41.0                 1.000000\n",
      "6            21.5                 0.458333\n",
      "7            15.5                 0.291667\n",
      "8            29.0                 0.666667\n",
      "9            18.5                 0.375000\n"
     ]
    }
   ],
   "execution_count": 6
  },
  {
   "cell_type": "markdown",
   "id": "standardization_header",
   "metadata": {},
   "source": [
    "### Method 2: Z-Score Standardization"
   ]
  },
  {
   "cell_type": "code",
   "id": "standardization",
   "metadata": {
    "ExecuteTime": {
     "end_time": "2025-10-05T02:44:24.041395Z",
     "start_time": "2025-10-05T02:44:24.029601Z"
    }
   },
   "source": [
    "# Z-Score Standardization\n",
    "standard_scaler = StandardScaler()\n",
    "df['PricePerUnit_Standardized'] = standard_scaler.fit_transform(df[[PRICE_PER_UNIT_COLUMN]])\n",
    "\n",
    "print(\"=\" * 80)\n",
    "print(\"Z-SCORE STANDARDIZATION\")\n",
    "print(\"=\" * 80)\n",
    "print(f\"Formula: (X - μ) / σ\")\n",
    "print(f\"Range: Unbounded (typically [-3, 3] for normal distribution)\")\n",
    "print(f\"\\nOriginal mean: ${df[PRICE_PER_UNIT_COLUMN].mean():.2f}\")\n",
    "print(f\"Original std: ${df[PRICE_PER_UNIT_COLUMN].std():.2f}\")\n",
    "print(f\"\\nScaled mean: {df['PricePerUnit_Standardized'].mean():.6f}\")\n",
    "print(f\"Scaled std: {df['PricePerUnit_Standardized'].std():.6f}\")\n",
    "print(f\"\\nStatistics:\")\n",
    "print(df['PricePerUnit_Standardized'].describe())\n",
    "\n",
    "# Show examples\n",
    "print(f\"\\nExample transformations:\")\n",
    "print(df[[PRICE_PER_UNIT_COLUMN, 'PricePerUnit_Standardized']].head(10))"
   ],
   "outputs": [
    {
     "name": "stdout",
     "output_type": "stream",
     "text": [
      "================================================================================\n",
      "Z-SCORE STANDARDIZATION\n",
      "================================================================================\n",
      "Formula: (X - μ) / σ\n",
      "Range: Unbounded (typically [-3, 3] for normal distribution)\n",
      "\n",
      "Original mean: $23.36\n",
      "Original std: $10.74\n",
      "\n",
      "Scaled mean: -0.000000\n",
      "Scaled std: 1.000042\n",
      "\n",
      "Statistics:\n",
      "count    1.197100e+04\n",
      "mean    -9.793631e-17\n",
      "std      1.000042e+00\n",
      "min     -1.709349e+00\n",
      "25%     -8.714727e-01\n",
      "50%     -3.359625e-02\n",
      "75%      9.439263e-01\n",
      "max      1.642157e+00\n",
      "Name: PricePerUnit_Standardized, dtype: float64\n",
      "\n",
      "Example transformations:\n",
      "   Price Per Unit  PricePerUnit_Standardized\n",
      "0            11.0                  -1.150765\n",
      "1             6.5                  -1.569703\n",
      "2            11.0                  -1.150765\n",
      "3            41.0                   1.642157\n",
      "4            14.0                  -0.871473\n",
      "5            41.0                   1.642157\n",
      "6            21.5                  -0.173242\n",
      "7            15.5                  -0.731827\n",
      "8            29.0                   0.524988\n",
      "9            18.5                  -0.452534\n"
     ]
    }
   ],
   "execution_count": 7
  },
  {
   "cell_type": "markdown",
   "id": "robust_header",
   "metadata": {},
   "source": [
    "### Method 3: Robust Scaling"
   ]
  },
  {
   "cell_type": "code",
   "id": "robust_scaling",
   "metadata": {
    "ExecuteTime": {
     "end_time": "2025-10-05T02:44:32.558854Z",
     "start_time": "2025-10-05T02:44:32.545638Z"
    }
   },
   "source": [
    "# Robust Scaling\n",
    "robust_scaler = RobustScaler()\n",
    "df['PricePerUnit_Robust'] = robust_scaler.fit_transform(df[[PRICE_PER_UNIT_COLUMN]])\n",
    "\n",
    "print(\"=\" * 80)\n",
    "print(\"ROBUST SCALING\")\n",
    "print(\"=\" * 80)\n",
    "print(f\"Formula: (X - median) / IQR\")\n",
    "print(f\"Range: Unbounded (concentrated around 0)\")\n",
    "print(f\"\\nOriginal median: ${df[PRICE_PER_UNIT_COLUMN].median():.2f}\")\n",
    "print(f\"Original IQR: ${IQR:.2f}\")\n",
    "print(f\"\\nScaled median: {df['PricePerUnit_Robust'].median():.6f}\")\n",
    "print(f\"Scaled IQR: {df['PricePerUnit_Robust'].quantile(0.75) - df['PricePerUnit_Robust'].quantile(0.25):.6f}\")\n",
    "print(f\"\\nStatistics:\")\n",
    "print(df['PricePerUnit_Robust'].describe())\n",
    "\n",
    "# Show examples\n",
    "print(f\"\\nExample transformations:\")\n",
    "print(df[[PRICE_PER_UNIT_COLUMN, 'PricePerUnit_Robust']].head(10))"
   ],
   "outputs": [
    {
     "name": "stdout",
     "output_type": "stream",
     "text": [
      "================================================================================\n",
      "ROBUST SCALING\n",
      "================================================================================\n",
      "Formula: (X - median) / IQR\n",
      "Range: Unbounded (concentrated around 0)\n",
      "\n",
      "Original median: $23.00\n",
      "Original IQR: $19.50\n",
      "\n",
      "Scaled median: 0.000000\n",
      "Scaled IQR: 1.000000\n",
      "\n",
      "Statistics:\n",
      "count    11971.000000\n",
      "mean         0.018506\n",
      "std          0.550866\n",
      "min         -0.923077\n",
      "25%         -0.461538\n",
      "50%          0.000000\n",
      "75%          0.538462\n",
      "max          0.923077\n",
      "Name: PricePerUnit_Robust, dtype: float64\n",
      "\n",
      "Example transformations:\n",
      "   Price Per Unit  PricePerUnit_Robust\n",
      "0            11.0            -0.615385\n",
      "1             6.5            -0.846154\n",
      "2            11.0            -0.615385\n",
      "3            41.0             0.923077\n",
      "4            14.0            -0.461538\n",
      "5            41.0             0.923077\n",
      "6            21.5            -0.076923\n",
      "7            15.5            -0.384615\n",
      "8            29.0             0.307692\n",
      "9            18.5            -0.230769\n"
     ]
    }
   ],
   "execution_count": 8
  },
  {
   "cell_type": "markdown",
   "id": "comparison_header",
   "metadata": {},
   "source": [
    "## Step 4: Compare All Methods"
   ]
  },
  {
   "cell_type": "code",
   "id": "compare_methods",
   "metadata": {
    "ExecuteTime": {
     "end_time": "2025-10-05T02:44:42.732606Z",
     "start_time": "2025-10-05T02:44:42.721799Z"
    }
   },
   "source": [
    "# Comparison table\n",
    "comparison = pd.DataFrame({\n",
    "    'Method': ['Original', 'Normalization (RECOMMENDED)', 'Standardization', 'Robust Scaling'],\n",
    "    'Column': [PRICE_PER_UNIT_COLUMN, 'PricePerUnit_Normalized', 'PricePerUnit_Standardized', 'PricePerUnit_Robust'],\n",
    "    'Min': [df[PRICE_PER_UNIT_COLUMN].min(), df['PricePerUnit_Normalized'].min(), \n",
    "            df['PricePerUnit_Standardized'].min(), df['PricePerUnit_Robust'].min()],\n",
    "    'Max': [df[PRICE_PER_UNIT_COLUMN].max(), df['PricePerUnit_Normalized'].max(), \n",
    "            df['PricePerUnit_Standardized'].max(), df['PricePerUnit_Robust'].max()],\n",
    "    'Mean': [df[PRICE_PER_UNIT_COLUMN].mean(), df['PricePerUnit_Normalized'].mean(), \n",
    "             df['PricePerUnit_Standardized'].mean(), df['PricePerUnit_Robust'].mean()],\n",
    "    'Median': [df[PRICE_PER_UNIT_COLUMN].median(), df['PricePerUnit_Normalized'].median(), \n",
    "               df['PricePerUnit_Standardized'].median(), df['PricePerUnit_Robust'].median()],\n",
    "    'Std': [df[PRICE_PER_UNIT_COLUMN].std(), df['PricePerUnit_Normalized'].std(), \n",
    "            df['PricePerUnit_Standardized'].std(), df['PricePerUnit_Robust'].std()]\n",
    "})\n",
    "\n",
    "print(\"=\" * 80)\n",
    "print(\"COMPARISON OF ALL METHODS\")\n",
    "print(\"=\" * 80)\n",
    "print(comparison.to_string(index=False))\n",
    "print(\"\\n\" + \"=\" * 80)"
   ],
   "outputs": [
    {
     "name": "stdout",
     "output_type": "stream",
     "text": [
      "================================================================================\n",
      "COMPARISON OF ALL METHODS\n",
      "================================================================================\n",
      "                     Method                    Column       Min       Max          Mean    Median       Std\n",
      "                   Original            Price Per Unit  5.000000 41.000000  2.336087e+01 23.000000 10.741889\n",
      "Normalization (RECOMMENDED)   PricePerUnit_Normalized  0.000000  1.000000  5.100242e-01  0.500000  0.298386\n",
      "            Standardization PricePerUnit_Standardized -1.709349  1.642157 -9.793631e-17 -0.033596  1.000042\n",
      "             Robust Scaling       PricePerUnit_Robust -0.923077  0.923077  1.850626e-02  0.000000  0.550866\n",
      "\n",
      "================================================================================\n"
     ]
    }
   ],
   "execution_count": 9
  },
  {
   "cell_type": "code",
   "id": "visualize_comparison",
   "metadata": {
    "ExecuteTime": {
     "end_time": "2025-10-05T02:45:08.559285Z",
     "start_time": "2025-10-05T02:45:08.212658Z"
    }
   },
   "source": [
    "# Visualize all methods side by side\n",
    "fig, axes = plt.subplots(2, 2, figsize=(16, 12))\n",
    "\n",
    "# Original\n",
    "axes[0, 0].hist(df[PRICE_PER_UNIT_COLUMN], bins=40, color='lightblue', edgecolor='black')\n",
    "axes[0, 0].set_title('Original Price Per Unit', fontsize=14, fontweight='bold')\n",
    "axes[0, 0].set_xlabel('Price ($)')\n",
    "axes[0, 0].set_ylabel('Frequency')\n",
    "axes[0, 0].axvline(df[PRICE_PER_UNIT_COLUMN].mean(), color='red', linestyle='--', \n",
    "                   label=f'Mean: ${df[PRICE_PER_UNIT_COLUMN].mean():.2f}')\n",
    "axes[0, 0].legend()\n",
    "\n",
    "# Normalized (RECOMMENDED)\n",
    "axes[0, 1].hist(df['PricePerUnit_Normalized'], bins=40, color='lightgreen', edgecolor='black')\n",
    "axes[0, 1].set_title('Min-Max Normalized [0, 1] ⭐ RECOMMENDED', fontsize=14, fontweight='bold')\n",
    "axes[0, 1].set_xlabel('Normalized Value')\n",
    "axes[0, 1].set_ylabel('Frequency')\n",
    "axes[0, 1].axvline(df['PricePerUnit_Normalized'].mean(), color='red', linestyle='--', \n",
    "                   label=f'Mean: {df[\"PricePerUnit_Normalized\"].mean():.2f}')\n",
    "axes[0, 1].legend()\n",
    "\n",
    "# Standardized\n",
    "axes[1, 0].hist(df['PricePerUnit_Standardized'], bins=40, color='lightcoral', edgecolor='black')\n",
    "axes[1, 0].set_title('Z-Score Standardized (μ=0, σ=1)', fontsize=14, fontweight='bold')\n",
    "axes[1, 0].set_xlabel('Standardized Value')\n",
    "axes[1, 0].set_ylabel('Frequency')\n",
    "axes[1, 0].axvline(0, color='green', linestyle='--', label='Mean: 0')\n",
    "axes[1, 0].legend()\n",
    "\n",
    "# Robust Scaled\n",
    "axes[1, 1].hist(df['PricePerUnit_Robust'], bins=40, color='lavender', edgecolor='black')\n",
    "axes[1, 1].set_title('Robust Scaled (median=0, IQR=1)', fontsize=14, fontweight='bold')\n",
    "axes[1, 1].set_xlabel('Robust Scaled Value')\n",
    "axes[1, 1].set_ylabel('Frequency')\n",
    "axes[1, 1].axvline(0, color='green', linestyle='--', label='Median: 0')\n",
    "axes[1, 1].legend()\n",
    "\n",
    "plt.tight_layout()\n",
    "plt.show()"
   ],
   "outputs": [
    {
     "name": "stderr",
     "output_type": "stream",
     "text": [
      "/var/folders/_j/shvq8ngx12qd5tv9vzyty6mh0000gn/T/ipykernel_83781/2435727298.py:38: UserWarning: Glyph 11088 (\\N{WHITE MEDIUM STAR}) missing from font(s) Arial.\n",
      "  plt.tight_layout()\n"
     ]
    },
    {
     "data": {
      "text/plain": [
       "<Figure size 1600x1200 with 4 Axes>"
      ],
      "image/png": "[encoded data removed]"
     },
     "metadata": {},
     "output_type": "display_data",
     "jetTransient": {
      "display_id": null
     }
    }
   ],
   "execution_count": 12
  },
  {
   "cell_type": "markdown",
   "id": "interpretability_header",
   "metadata": {},
   "source": [
    "## Step 5: Interpretability Analysis"
   ]
  },
  {
   "cell_type": "code",
   "id": "interpretability",
   "metadata": {
    "ExecuteTime": {
     "end_time": "2025-10-05T02:45:44.203696Z",
     "start_time": "2025-10-05T02:45:44.194258Z"
    }
   },
   "source": [
    "# Analyze interpretability for Price Per Unit\n",
    "print(\"=\" * 80)\n",
    "print(\"INTERPRETABILITY ANALYSIS\")\n",
    "print(\"=\" * 80)\n",
    "\n",
    "# Sample prices and their scaled values\n",
    "sample_prices = [df[PRICE_PER_UNIT_COLUMN].min(), \n",
    "                 df[PRICE_PER_UNIT_COLUMN].quantile(0.25),\n",
    "                 df[PRICE_PER_UNIT_COLUMN].median(),\n",
    "                 df[PRICE_PER_UNIT_COLUMN].quantile(0.75),\n",
    "                 df[PRICE_PER_UNIT_COLUMN].max()]\n",
    "\n",
    "print(\"\\nPrice → Normalized Value Mapping:\")\n",
    "print(\"-\" * 80)\n",
    "for price in sample_prices:\n",
    "    normalized = (price - df[PRICE_PER_UNIT_COLUMN].min()) / (df[PRICE_PER_UNIT_COLUMN].max() - df[PRICE_PER_UNIT_COLUMN].min())\n",
    "    print(f\"${price:.2f} → {normalized:.4f}\")\n",
    "\n",
    "print(\"\\n\" + \"=\" * 80)\n",
    "print(\"WHY MIN-MAX NORMALIZATION IS MOST INTERPRETABLE FOR PRICES:\")\n",
    "print(\"=\" * 80)\n",
    "print(\"\\n1. BOUNDED RANGE [0, 1]:\")\n",
    "print(\"   ✓ 0.0 = Cheapest item in dataset\")\n",
    "print(\"   ✓ 1.0 = Most expensive item in dataset\")\n",
    "print(\"   ✓ 0.5 = Mid-range price\")\n",
    "print(\"   ✓ Clear, intuitive interpretation\")\n",
    "\n",
    "print(\"\\n2. PRESERVES PRICE RELATIONSHIPS:\")\n",
    "print(\"   ✓ Linear transformation maintains relative differences\")\n",
    "print(\"   ✓ If item A costs 2× item B, ratio preserved in scaled values\")\n",
    "\n",
    "print(\"\\n3. NATURAL FOR PRICES:\")\n",
    "print(\"   ✓ Prices have natural lower bound ($0)\")\n",
    "print(\"   ✓ Practical upper limit (luxury items)\")\n",
    "print(\"   ✓ Bounded nature suits Min-Max scaling\")\n",
    "\n",
    "print(\"\\n4. ML ALGORITHM COMPATIBILITY:\")\n",
    "print(\"   ✓ Neural networks prefer [0, 1] inputs\")\n",
    "print(\"   ✓ Gradient descent converges faster with bounded features\")\n",
    "print(\"   ✓ No negative values (matches price semantics)\")"
   ],
   "outputs": [
    {
     "name": "stdout",
     "output_type": "stream",
     "text": [
      "================================================================================\n",
      "INTERPRETABILITY ANALYSIS\n",
      "================================================================================\n",
      "\n",
      "Price → Normalized Value Mapping:\n",
      "--------------------------------------------------------------------------------\n",
      "$5.00 → 0.0000\n",
      "$14.00 → 0.2500\n",
      "$23.00 → 0.5000\n",
      "$33.50 → 0.7917\n",
      "$41.00 → 1.0000\n",
      "\n",
      "================================================================================\n",
      "WHY MIN-MAX NORMALIZATION IS MOST INTERPRETABLE FOR PRICES:\n",
      "================================================================================\n",
      "\n",
      "1. BOUNDED RANGE [0, 1]:\n",
      "   ✓ 0.0 = Cheapest item in dataset\n",
      "   ✓ 1.0 = Most expensive item in dataset\n",
      "   ✓ 0.5 = Mid-range price\n",
      "   ✓ Clear, intuitive interpretation\n",
      "\n",
      "2. PRESERVES PRICE RELATIONSHIPS:\n",
      "   ✓ Linear transformation maintains relative differences\n",
      "   ✓ If item A costs 2× item B, ratio preserved in scaled values\n",
      "\n",
      "3. NATURAL FOR PRICES:\n",
      "   ✓ Prices have natural lower bound ($0)\n",
      "   ✓ Practical upper limit (luxury items)\n",
      "   ✓ Bounded nature suits Min-Max scaling\n",
      "\n",
      "4. ML ALGORITHM COMPATIBILITY:\n",
      "   ✓ Neural networks prefer [0, 1] inputs\n",
      "   ✓ Gradient descent converges faster with bounded features\n",
      "   ✓ No negative values (matches price semantics)\n"
     ]
    }
   ],
   "execution_count": 13
  },
  {
   "cell_type": "markdown",
   "id": "recommendation_header",
   "metadata": {},
   "source": [
    "## Step 6: Final Recommendation & Justification"
   ]
  },
  {
   "cell_type": "code",
   "id": "recommendation",
   "metadata": {
    "ExecuteTime": {
     "end_time": "2025-10-05T02:46:05.296252Z",
     "start_time": "2025-10-05T02:46:05.287159Z"
    }
   },
   "source": [
    "print(\"=\" * 80)\n",
    "print(\"FINAL RECOMMENDATION FOR PRICE PER UNIT\")\n",
    "print(\"=\" * 80)\n",
    "\n",
    "print(\"\\n🏆 RECOMMENDED METHOD: MIN-MAX NORMALIZATION\")\n",
    "print(\"\\nJustification:\")\n",
    "print(\"-\" * 80)\n",
    "\n",
    "print(\"\\n1. DATA CHARACTERISTICS:\")\n",
    "print(f\"   ✓ Natural bounds: Prices > $0 with practical upper limit\")\n",
    "print(f\"   ✓ Range: ${df[PRICE_PER_UNIT_COLUMN].min():.2f} to ${df[PRICE_PER_UNIT_COLUMN].max():.2f}\")\n",
    "print(f\"   ✓ Outliers already handled during reconstruction phase\")\n",
    "print(f\"   ✓ Price Per Unit reconstructed via: Total Spent ÷ Quantity\")\n",
    "\n",
    "print(\"\\n2. METHOD COMPARISON:\")\n",
    "print(\"   ✅ Min-Max Normalization (RECOMMENDED):\")\n",
    "print(\"      - Preserves price interpretability (0=cheapest, 1=most expensive)\")\n",
    "print(\"      - Bounded [0, 1] range suitable for prices\")\n",
    "print(\"      - Outliers managed in reconstruction step\")\n",
    "print(\"      - Linear relationships preserved\")\n",
    "\n",
    "print(\"\\n   ⚠️  Z-Score Standardization:\")\n",
    "print(\"      - Unbounded range (can be negative)\")\n",
    "print(\"      - Loses price semantics (negative prices meaningless)\")\n",
    "print(\"      - Assumes normality (may not hold for all items)\")\n",
    "\n",
    "print(\"\\n   ⚠️  Robust Scaling:\")\n",
    "print(\"      - Unbounded range\")\n",
    "print(\"      - Less interpretable for prices\")\n",
    "print(\"      - Overkill when outliers already handled\")\n",
    "\n",
    "print(\"\\n3. PRACTICAL BENEFITS:\")\n",
    "print(\"   ✓ Easy to interpret: 0.7 = 70% of the way from cheapest to most expensive\")\n",
    "print(\"   ✓ Compatible with ML algorithms (neural nets, gradient descent)\")\n",
    "print(\"   ✓ Preserves relative price differences\")\n",
    "print(\"   ✓ No negative values (semantically correct for prices)\")\n",
    "print(\"   ✓ Bounded range prevents extreme scaled values\")\n",
    "\n",
    "print(\"\\n4. VALIDATION AGAINST TOTAL SPENT:\")\n",
    "# Check correlation with Total Spent\n",
    "corr_original = df[PRICE_PER_UNIT_COLUMN].corr(df['Total Spent'])\n",
    "corr_normalized = df['PricePerUnit_Normalized'].corr(df['Total Spent'])\n",
    "print(f\"   ✓ Original Price ↔ Total Spent correlation: {corr_original:.4f}\")\n",
    "print(f\"   ✓ Normalized Price ↔ Total Spent correlation: {corr_normalized:.4f}\")\n",
    "print(f\"   ✓ Correlation preserved (scaling doesn't affect relationships)\")\n",
    "\n",
    "print(\"\\n\" + \"=\" * 80)\n",
    "print(\"CONCLUSION: Use Min-Max Normalization for Price Per Unit\")\n",
    "print(\"=\" * 80)"
   ],
   "outputs": [
    {
     "name": "stdout",
     "output_type": "stream",
     "text": [
      "================================================================================\n",
      "FINAL RECOMMENDATION FOR PRICE PER UNIT\n",
      "================================================================================\n",
      "\n",
      "🏆 RECOMMENDED METHOD: MIN-MAX NORMALIZATION\n",
      "\n",
      "Justification:\n",
      "--------------------------------------------------------------------------------\n",
      "\n",
      "1. DATA CHARACTERISTICS:\n",
      "   ✓ Natural bounds: Prices > $0 with practical upper limit\n",
      "   ✓ Range: $5.00 to $41.00\n",
      "   ✓ Outliers already handled during reconstruction phase\n",
      "   ✓ Price Per Unit reconstructed via: Total Spent ÷ Quantity\n",
      "\n",
      "2. METHOD COMPARISON:\n",
      "   ✅ Min-Max Normalization (RECOMMENDED):\n",
      "      - Preserves price interpretability (0=cheapest, 1=most expensive)\n",
      "      - Bounded [0, 1] range suitable for prices\n",
      "      - Outliers managed in reconstruction step\n",
      "      - Linear relationships preserved\n",
      "\n",
      "   ⚠️  Z-Score Standardization:\n",
      "      - Unbounded range (can be negative)\n",
      "      - Loses price semantics (negative prices meaningless)\n",
      "      - Assumes normality (may not hold for all items)\n",
      "\n",
      "   ⚠️  Robust Scaling:\n",
      "      - Unbounded range\n",
      "      - Less interpretable for prices\n",
      "      - Overkill when outliers already handled\n",
      "\n",
      "3. PRACTICAL BENEFITS:\n",
      "   ✓ Easy to interpret: 0.7 = 70% of the way from cheapest to most expensive\n",
      "   ✓ Compatible with ML algorithms (neural nets, gradient descent)\n",
      "   ✓ Preserves relative price differences\n",
      "   ✓ No negative values (semantically correct for prices)\n",
      "   ✓ Bounded range prevents extreme scaled values\n",
      "\n",
      "4. VALIDATION AGAINST TOTAL SPENT:\n",
      "   ✓ Original Price ↔ Total Spent correlation: 0.6306\n",
      "   ✓ Normalized Price ↔ Total Spent correlation: 0.6306\n",
      "   ✓ Correlation preserved (scaling doesn't affect relationships)\n",
      "\n",
      "================================================================================\n",
      "CONCLUSION: Use Min-Max Normalization for Price Per Unit\n",
      "================================================================================\n"
     ]
    }
   ],
   "execution_count": 14
  },
  {
   "cell_type": "markdown",
   "id": "save_header",
   "metadata": {},
   "source": [
    "## Step 7: Save All Rescaled Datasets"
   ]
  },
  {
   "cell_type": "code",
   "id": "save_all",
   "metadata": {
    "ExecuteTime": {
     "end_time": "2025-10-05T02:46:59.493242Z",
     "start_time": "2025-10-05T02:46:59.357639Z"
    }
   },
   "source": [
    "# Save all three versions as per assignment requirements\n",
    "\n",
    "# 1. Normalization (RECOMMENDED)\n",
    "df_norm = df.copy()\n",
    "output_norm = OUTPUT_DIR / 'data_rescaling_norm_price_per_unit.csv'\n",
    "df_norm.to_csv(output_norm, index=False)\n",
    "print(f\"✓ Saved Min-Max Normalization (RECOMMENDED): {output_norm}\")\n",
    "\n",
    "# 2. Standardization\n",
    "df_std = df.copy()\n",
    "output_std = OUTPUT_DIR / 'data_rescaling_std_price_per_unit.csv'\n",
    "df_std.to_csv(output_std, index=False)\n",
    "print(f\"✓ Saved Z-Score Standardization: {output_std}\")\n",
    "\n",
    "# 3. Robust Scaling\n",
    "df_robust = df.copy()\n",
    "output_robust = OUTPUT_DIR / 'data_rescaling_robust_price_per_unit.csv'\n",
    "df_robust.to_csv(output_robust, index=False)\n",
    "print(f\"✓ Saved Robust Scaling: {output_robust}\")\n",
    "\n",
    "print(\"\\n\" + \"=\" * 80)\n",
    "print(\"ALL RESCALED DATASETS SAVED SUCCESSFULLY\")\n",
    "print(\"=\" * 80)\n",
    "print(f\"\\nOutput directory: {OUTPUT_DIR.resolve()}\")\n",
    "print(f\"Total files created: 3\")\n",
    "print(f\"\\nDataset structure:\")\n",
    "print(f\"  - Rows: {len(df)}\")\n",
    "print(f\"  - Columns: {len(df.columns)}\")\n",
    "print(f\"  - New columns: PricePerUnit_Normalized, PricePerUnit_Standardized, PricePerUnit_Robust\")"
   ],
   "outputs": [
    {
     "name": "stdout",
     "output_type": "stream",
     "text": [
      "✓ Saved Min-Max Normalization (RECOMMENDED): ../../output_data/price_per_unit/data_rescaling_norm_price_per_unit.csv\n",
      "✓ Saved Z-Score Standardization: ../../output_data/price_per_unit/data_rescaling_std_price_per_unit.csv\n",
      "✓ Saved Robust Scaling: ../../output_data/price_per_unit/data_rescaling_robust_price_per_unit.csv\n",
      "\n",
      "================================================================================\n",
      "ALL RESCALED DATASETS SAVED SUCCESSFULLY\n",
      "================================================================================\n",
      "\n",
      "Output directory: /Users/luan/Study/WLU/Data Analysis/Deliverable_1/handle_rescale_data/output_data/price_per_unit\n",
      "Total files created: 3\n",
      "\n",
      "Dataset structure:\n",
      "  - Rows: 11971\n",
      "  - Columns: 14\n",
      "  - New columns: PricePerUnit_Normalized, PricePerUnit_Standardized, PricePerUnit_Robust\n"
     ]
    }
   ],
   "execution_count": 15
  },
  {
   "cell_type": "markdown",
   "id": "validation_header",
   "metadata": {},
   "source": [
    "## Step 8: Validation"
   ]
  },
  {
   "cell_type": "code",
   "id": "validation",
   "metadata": {
    "ExecuteTime": {
     "end_time": "2025-10-05T02:47:04.332197Z",
     "start_time": "2025-10-05T02:47:04.323663Z"
    }
   },
   "source": [
    "# Validation checks\n",
    "print(\"=\" * 80)\n",
    "print(\"VALIDATION CHECKS\")\n",
    "print(\"=\" * 80)\n",
    "\n",
    "# 1. Range checks\n",
    "print(\"\\n1. RANGE VALIDATION:\")\n",
    "norm_in_range = (df['PricePerUnit_Normalized'] >= 0).all() and (df['PricePerUnit_Normalized'] <= 1).all()\n",
    "print(f\"   ✓ Normalization in [0, 1]: {norm_in_range}\")\n",
    "\n",
    "std_range = df['PricePerUnit_Standardized'].abs().max()\n",
    "print(f\"   ✓ Standardization range: [{df['PricePerUnit_Standardized'].min():.2f}, {df['PricePerUnit_Standardized'].max():.2f}]\")\n",
    "\n",
    "robust_range = df['PricePerUnit_Robust'].abs().max()\n",
    "print(f\"   ✓ Robust scaling range: [{df['PricePerUnit_Robust'].min():.2f}, {df['PricePerUnit_Robust'].max():.2f}]\")\n",
    "\n",
    "# 2. No missing values\n",
    "print(\"\\n2. MISSING VALUES CHECK:\")\n",
    "print(f\"   ✓ Normalized missing: {df['PricePerUnit_Normalized'].isna().sum()}\")\n",
    "print(f\"   ✓ Standardized missing: {df['PricePerUnit_Standardized'].isna().sum()}\")\n",
    "print(f\"   ✓ Robust missing: {df['PricePerUnit_Robust'].isna().sum()}\")\n",
    "\n",
    "# 3. Row count preservation\n",
    "print(\"\\n3. ROW COUNT PRESERVATION:\")\n",
    "print(f\"   ✓ Original rows: 11,971\")\n",
    "print(f\"   ✓ Current rows: {len(df)}\")\n",
    "print(f\"   ✓ Match: {len(df) == 11971}\")\n",
    "\n",
    "# 4. Correlation preservation\n",
    "print(\"\\n4. CORRELATION WITH ORIGINAL:\")\n",
    "print(f\"   ✓ Normalized corr: {df[PRICE_PER_UNIT_COLUMN].corr(df['PricePerUnit_Normalized']):.6f}\")\n",
    "print(f\"   ✓ Standardized corr: {df[PRICE_PER_UNIT_COLUMN].corr(df['PricePerUnit_Standardized']):.6f}\")\n",
    "print(f\"   ✓ Robust corr: {df[PRICE_PER_UNIT_COLUMN].corr(df['PricePerUnit_Robust']):.6f}\")\n",
    "print(\"   (All should be 1.0 - perfect correlation)\")\n",
    "\n",
    "# 5. Mathematical consistency check (Total Spent = Price × Quantity)\n",
    "print(\"\\n5. MATHEMATICAL CONSISTENCY:\")\n",
    "reconstructed = df[PRICE_PER_UNIT_COLUMN] * df['Quantity']\n",
    "consistency = (abs(df['Total Spent'] - reconstructed) < 0.01).all()\n",
    "print(f\"   ✓ Total Spent = Price Per Unit × Quantity: {consistency}\")\n",
    "\n",
    "print(\"\\n\" + \"=\" * 80)\n",
    "print(\"✓ ALL VALIDATION CHECKS PASSED\")\n",
    "print(\"=\" * 80)"
   ],
   "outputs": [
    {
     "name": "stdout",
     "output_type": "stream",
     "text": [
      "================================================================================\n",
      "VALIDATION CHECKS\n",
      "================================================================================\n",
      "\n",
      "1. RANGE VALIDATION:\n",
      "   ✓ Normalization in [0, 1]: True\n",
      "   ✓ Standardization range: [-1.71, 1.64]\n",
      "   ✓ Robust scaling range: [-0.92, 0.92]\n",
      "\n",
      "2. MISSING VALUES CHECK:\n",
      "   ✓ Normalized missing: 0\n",
      "   ✓ Standardized missing: 0\n",
      "   ✓ Robust missing: 0\n",
      "\n",
      "3. ROW COUNT PRESERVATION:\n",
      "   ✓ Original rows: 11,971\n",
      "   ✓ Current rows: 11971\n",
      "   ✓ Match: True\n",
      "\n",
      "4. CORRELATION WITH ORIGINAL:\n",
      "   ✓ Normalized corr: 1.000000\n",
      "   ✓ Standardized corr: 1.000000\n",
      "   ✓ Robust corr: 1.000000\n",
      "   (All should be 1.0 - perfect correlation)\n",
      "\n",
      "5. MATHEMATICAL CONSISTENCY:\n",
      "   ✓ Total Spent = Price Per Unit × Quantity: True\n",
      "\n",
      "================================================================================\n",
      "✓ ALL VALIDATION CHECKS PASSED\n",
      "================================================================================\n"
     ]
    }
   ],
   "execution_count": 16
  },
  {
   "cell_type": "markdown",
   "id": "summary_header",
   "metadata": {},
   "source": [
    "## Summary\n",
    "\n",
    "### Methods Applied:\n",
    "1. **Min-Max Normalization** → Range [0, 1] ⭐ **RECOMMENDED**\n",
    "2. **Z-Score Standardization** → Mean=0, Std=1\n",
    "3. **Robust Scaling** → Median=0, IQR=1\n",
    "\n",
    "### Recommendation:\n",
    "**🏆 Min-Max Normalization** is recommended for Price Per Unit because:\n",
    "- Natural bounds (prices > $0 with practical upper limit)\n",
    "- Outliers already handled during reconstruction (Total Spent ÷ Quantity)\n",
    "- Bounded [0, 1] range is interpretable and ML-friendly\n",
    "- Preserves price relationships and semantics\n",
    "- No negative values (semantically correct for prices)\n",
    "\n",
    "### Output Files:\n",
    "- `data_rescaling_norm_price_per_unit.csv` - Min-Max Normalization ⭐ **RECOMMENDED**\n",
    "- `data_rescaling_std_price_per_unit.csv` - Z-Score Standardization\n",
    "- `data_rescaling_robust_price_per_unit.csv` - Robust Scaling\n",
    "\n",
    "### Key Insight:\n",
    "Unlike Quantity (which benefits from Robust Scaling due to outliers), Price Per Unit is best served by Min-Max Normalization because:\n",
    "1. Outliers were already addressed during the reconstruction phase\n",
    "2. Prices have natural bounds that align with [0, 1] scaling\n",
    "3. Interpretability is crucial for price features\n",
    "\n",
    "### Next Steps:\n",
    "1. Apply same analysis to Total Spent (recommendation: Robust Scaling)\n",
    "2. Compare all rescaled numerical attributes\n",
    "3. Validate mathematical consistency across all features"
   ]
  }
 ],
 "metadata": {
  "kernelspec": {
   "display_name": "Python 3",
   "language": "python",
   "name": "python3"
  },
  "language_info": {
   "codemirror_mode": {
    "name": "ipython",
    "version": 3
   },
   "file_extension": ".py",
   "mimetype": "text/x-python",
   "name": "python",
   "nbconvert_exporter": "python",
   "pygments_lexer": "ipython3",
   "version": "3.8.0"
  }
 },
 "nbformat": 4,
 "nbformat_minor": 5
}
