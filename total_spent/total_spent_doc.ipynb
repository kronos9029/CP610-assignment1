{
 "cells": [
  {
   "cell_type": "code",
   "execution_count": 3,
   "id": "1f353abe",
   "metadata": {},
   "outputs": [],
   "source": [
    "import pandas as pd\n",
    "import numpy as np\n"
   ]
  },
  {
   "cell_type": "code",
   "execution_count": 4,
   "id": "01609558",
   "metadata": {},
   "outputs": [],
   "source": [
    "data = pd.read_csv('../Deliverable1Dataset.csv')\n"
   ]
  },
  {
   "cell_type": "markdown",
   "id": "f2228ca8",
   "metadata": {},
   "source": [
    "### Determine missingness of Total Spent\n",
    "\n",
    "Before checking, convert all the existing data types (string) to appropriate numeric type for comparison the relationship since `Price Per Unit`, `Quantity` and `Total Spent` are related. Check to see how many missing observations for `Total Spent`\n"
   ]
  },
  {
   "cell_type": "code",
   "execution_count": 5,
   "id": "0f887991",
   "metadata": {},
   "outputs": [
    {
     "name": "stdout",
     "output_type": "stream",
     "text": [
      "Missing Total Spent rows: 604 of 12575 (4.80%)\n"
     ]
    }
   ],
   "source": [
    "# Convert numeric columns to proper numeric type\n",
    "# pd.to_numeric converts string values to numeric, handling errors by coercing invalid values to NaN\n",
    "# This ensures mathematical operations work correctly\n",
    "for col in ['Price Per Unit', 'Quantity', 'Total Spent']:\n",
    "    # data[col] accesses each column\n",
    "    # errors='coerce' converts non-numeric values to NaN instead of raising an error\n",
    "    data[col] = pd.to_numeric(data[col], errors='coerce')\n",
    "\n",
    "# Count missing Total Spent values\n",
    "# data['Total Spent'].isna() creates a boolean Series where True indicates missing values\n",
    "# .sum() counts the number of True values (i.e., missing entries)\n",
    "missing_total = data['Total Spent'].isna()\n",
    "\n",
    "print(f'Missing Total Spent rows: {missing_total.sum()} of {len(data)} ({missing_total.mean():.2%})')\n"
   ]
  },
  {
   "cell_type": "markdown",
   "id": "c0e6ec84",
   "metadata": {},
   "source": [
    "### Missingness mechanism\n",
    "\n",
    "Quantifying how often `Total Spent` is missing within each `Category`, `payment method`, and `location` to see their relationships with Total Spent if they were depended on or related to each other. From that can conclude what kind of missing data type like Missing Completely At Random (MCAR), Missing At Random (MAR), or Missing Not At Random (MNAR) and propose the appropriate approach to handle\n"
   ]
  },
  {
   "cell_type": "code",
   "execution_count": 6,
   "id": "f6807807",
   "metadata": {},
   "outputs": [
    {
     "name": "stdout",
     "output_type": "stream",
     "text": [
      "Share of Total Spent missing by Category:\n",
      "Category\n",
      "Patisserie                            0.056937\n",
      "Computers and electric accessories    0.051990\n",
      "Food                                  0.051008\n",
      "Electric household essentials         0.047140\n",
      "Butchers                              0.045918\n",
      "Beverages                             0.045310\n",
      "Milk Products                         0.044823\n",
      "Furniture                             0.041483\n",
      "Name: missing_total, dtype: float64\n",
      "\n",
      "Share of Total Spent missing by Payment Method:\n",
      "Payment Method\n",
      "Digital Wallet    0.048986\n",
      "Cash              0.048028\n",
      "Credit Card       0.047076\n",
      "Name: missing_total, dtype: float64\n",
      "\n",
      "Share of Total Spent missing by Location:\n",
      "Location\n",
      "In-store    0.051117\n",
      "Online      0.045011\n",
      "Name: missing_total, dtype: float64\n"
     ]
    }
   ],
   "source": [
    "# Analyze missingness patterns across categories\n",
    "# .assign creates a new column 'missing_total' with the boolean missing indicator\n",
    "# .groupby('Category') groups all rows by their category value\n",
    "# ['missing_total'].mean() calculates the proportion of missing values per category\n",
    "# .sort_values(ascending=False) sorts categories by missing proportion (highest first)\n",
    "summary = data.assign(missing_total=missing_total).groupby('Category')['missing_total'].mean().sort_values(ascending=False)\n",
    "print('Share of Total Spent missing by Category:')\n",
    "print(summary)\n",
    "\n",
    "# Analyze missingness patterns across payment methods\n",
    "# Same logic as above, but grouped by 'Payment Method'\n",
    "payment_share = data.assign(missing_total=missing_total).groupby('Payment Method')['missing_total'].mean().sort_values(ascending=False)\n",
    "print('\\nShare of Total Spent missing by Payment Method:')\n",
    "print(payment_share)\n",
    "\n",
    "# Analyze missingness patterns across locations\n",
    "# Same logic as above, but grouped by 'Location'\n",
    "location_share = data.assign(missing_total=missing_total).groupby('Location')['missing_total'].mean().sort_values(ascending=False)\n",
    "print('\\nShare of Total Spent missing by Location:')\n",
    "print(location_share)\n"
   ]
  },
  {
   "cell_type": "markdown",
   "id": "9c47aae4",
   "metadata": {},
   "source": [
    "### Co-missingness analysis\n",
    "\n",
    "Examining whether `Total Spent` is missing alongside other key fields which determine the appropriate patterns. \n"
   ]
  },
  {
   "cell_type": "code",
   "execution_count": 7,
   "id": "f5b5e383",
   "metadata": {},
   "outputs": [
    {
     "name": "stdout",
     "output_type": "stream",
     "text": [
      "Rows with both Total Spent and Quantity missing: 604\n",
      "Total Spent missing: 604\n",
      "Perfect overlap: True\n",
      "\n",
      "Rows with both Total Spent and Price Per Unit missing: 0\n",
      "Rows with both Total Spent and Item missing: 604\n",
      "Percentage of Total Spent missing cases with Item also missing: 100.0%\n"
     ]
    }
   ],
   "source": [
    "# Check co-missingness with Quantity\n",
    "# missing_total & data['Quantity'].isna() creates boolean Series that is True only when BOTH are missing\n",
    "# .sum() counts how many rows have both fields missing\n",
    "# This reveals if Total Spent and Quantity are missing together (perfect overlap = same count)\n",
    "qty_overlap = (missing_total & data['Quantity'].isna()).sum()\n",
    "print(f'Rows with both Total Spent and Quantity missing: {qty_overlap}')\n",
    "print(f'Total Spent missing: {missing_total.sum()}')\n",
    "print(f'Perfect overlap: {qty_overlap == missing_total.sum()}')\n",
    "\n",
    "# Check co-missingness with Price Per Unit\n",
    "# Similar logic: count rows where both Total Spent and Price Per Unit are missing\n",
    "price_overlap = (missing_total & data['Price Per Unit'].isna()).sum()\n",
    "print(f'\\nRows with both Total Spent and Price Per Unit missing: {price_overlap}')\n",
    "\n",
    "# Check co-missingness with Item\n",
    "# Count rows where both Total Spent and Item are missing\n",
    "item_overlap = (missing_total & data['Item'].isna()).sum()\n",
    "print(f'Rows with both Total Spent and Item missing: {item_overlap}')\n",
    "print(f'Percentage of Total Spent missing cases with Item also missing: {item_overlap / missing_total.sum():.1%}')\n"
   ]
  },
  {
   "cell_type": "markdown",
   "id": "97e48072",
   "metadata": {},
   "source": [
    "### Reconstructability assessment\n",
    "\n",
    "Since `Total Spent = Price Per Unit × Quantity`, we assess how many missing `Total Spent` values could theoretically be reconstructed from the other two fields. This determines whether imputation is feasible or deletion is necessary.\n"
   ]
  },
  {
   "cell_type": "code",
   "execution_count": 8,
   "id": "c994f8a3",
   "metadata": {},
   "outputs": [
    {
     "name": "stdout",
     "output_type": "stream",
     "text": [
      "Missing Total Spent that CAN be reconstructed: 0 out of 604\n",
      "Reconstruction rate: 0.0%\n",
      "\n",
      "Missing Total Spent that CANNOT be reconstructed: 604 out of 604\n",
      "Irrecoverable rate: 100.0%\n"
     ]
    }
   ],
   "source": [
    "# Check if Total Spent can be reconstructed from Price Per Unit and Quantity\n",
    "# For reconstruction, we need Total Spent to be missing BUT both Price and Quantity to be present\n",
    "# missing_total ensures Total Spent is missing\n",
    "# data['Price Per Unit'].notna() ensures Price Per Unit is NOT missing\n",
    "# data['Quantity'].notna() ensures Quantity is NOT missing\n",
    "# & combines all three conditions (all must be True)\n",
    "reconstructable = missing_total & data['Price Per Unit'].notna() & data['Quantity'].notna()\n",
    "reconstructable_count = reconstructable.sum()\n",
    "\n",
    "print(f'Missing Total Spent that CAN be reconstructed: {reconstructable_count} out of {missing_total.sum()}')\n",
    "print(f'Reconstruction rate: {reconstructable_count / missing_total.sum():.1%}')\n",
    "\n",
    "# Check irrecoverable cases (missing Total Spent AND at least one other field)\n",
    "# ~ negates reconstructable, giving us rows where reconstruction is NOT possible\n",
    "# These are rows where Total Spent is missing AND at least one of (Price, Quantity) is also missing\n",
    "irrecoverable = missing_total & ~reconstructable\n",
    "irrecoverable_count = irrecoverable.sum()\n",
    "\n",
    "print(f'\\nMissing Total Spent that CANNOT be reconstructed: {irrecoverable_count} out of {missing_total.sum()}')\n",
    "print(f'Irrecoverable rate: {irrecoverable_count / missing_total.sum():.1%}')\n"
   ]
  },
  {
   "cell_type": "markdown",
   "id": "40b65276",
   "metadata": {},
   "source": [
    "### Missing data classification\n",
    "\n",
    "**Classification: MAR (Missing At Random)**\n",
    "\n",
    "**Rationale:**\n",
    "- Perfect co-missingness with `Quantity` (604 cases = 100% overlap)\n",
    "- Missing rates vary by category (4.15%-5.69%), indicating dependence on observable characteristics\n",
    "- Strongly correlated with `Item` field missingness (100% of cases have Item also missing)\n",
    "- The missingness is systematic and related to the Item field (an observable variable)\n",
    "- Not MCAR because missing rates are not uniform across categories\n",
    "- Not MNAR because the missingness is explained by observable variables (Item field status)\n",
    "\n",
    "**Key finding:** When `Item` was not recorded during data collection, both `Quantity` and `Total Spent` were also systematically omitted, suggesting a data entry workflow issue rather than values being hidden due to their magnitude.\n"
   ]
  },
  {
   "cell_type": "markdown",
   "id": "25116ba7",
   "metadata": {},
   "source": [
    "### Handling strategy: Listwise deletion\n",
    "\n",
    "**Justification for deletion (not imputation):**\n",
    "\n",
    "1. **Critical target variable:** `Total Spent` is essential for transaction analysis and should not be estimated\n",
    "2. **Perfect co-missingness:** These 604 rows also have missing `Quantity`, making reconstruction impossible\n",
    "3. **Cannot reliably impute:** Missing both Quantity AND at least one other key field\n",
    "4. **Small data loss:** Only 4.8% of the dataset vs. large gain in data integrity\n",
    "5. **Side benefit:** Eliminates 604 problematic cases that would require multiple imputations\n",
    "\n",
    "**Alternative considered:** Reconstruct using Price × Quantity\n",
    "- Not feasible: 0% of missing Total Spent cases have both Price and Quantity present\n",
    "- Would require imputing Quantity first, introducing estimation error into a critical field\n"
   ]
  },
  {
   "cell_type": "code",
   "execution_count": 9,
   "id": "9fd3cf56",
   "metadata": {},
   "outputs": [
    {
     "name": "stdout",
     "output_type": "stream",
     "text": [
      "Sample of rows with missing Total Spent (to be deleted):\n",
      "================================================================================\n",
      "    Transaction ID                            Category Item  Price Per Unit  \\\n",
      "6      TXN_1005543                                Food  NaN            30.5   \n",
      "64     TXN_1041483       Electric household essentials  NaN            15.5   \n",
      "65     TXN_1041890                           Furniture  NaN            27.5   \n",
      "104    TXN_1069238                                Food  NaN             5.0   \n",
      "180    TXN_1130015                       Milk Products  NaN             9.5   \n",
      "216    TXN_1153995       Electric household essentials  NaN            23.0   \n",
      "217    TXN_1154680                           Furniture  NaN            35.0   \n",
      "225    TXN_1158381                            Butchers  NaN            36.5   \n",
      "249    TXN_1175914                            Butchers  NaN            23.0   \n",
      "262    TXN_1187836  Computers and electric accessories  NaN            38.0   \n",
      "\n",
      "     Quantity  Total Spent  \n",
      "6         NaN          NaN  \n",
      "64        NaN          NaN  \n",
      "65        NaN          NaN  \n",
      "104       NaN          NaN  \n",
      "180       NaN          NaN  \n",
      "216       NaN          NaN  \n",
      "217       NaN          NaN  \n",
      "225       NaN          NaN  \n",
      "249       NaN          NaN  \n",
      "262       NaN          NaN  \n",
      "\n",
      "Observations about rows to be deleted:\n",
      "- All have missing Quantity (perfect overlap)\n",
      "- All have missing Item (100% overlap)\n",
      "- Cannot reconstruct Total Spent without Quantity\n",
      "- Represent systematic data collection gaps, not random missingness\n"
     ]
    }
   ],
   "source": [
    "# Display sample of rows to be dropped\n",
    "print('Sample of rows with missing Total Spent (to be deleted):')\n",
    "print('=' * 80)\n",
    "# data[missing_total] filters to show only rows where Total Spent is missing\n",
    "# .head(10) shows the first 10 such rows\n",
    "# This allows visual inspection of what data will be lost\n",
    "print(data[missing_total][['Transaction ID', 'Category', 'Item', 'Price Per Unit', 'Quantity', 'Total Spent']].head(10))\n",
    "\n",
    "print('\\nObservations about rows to be deleted:')\n",
    "print('- All have missing Quantity (perfect overlap)')\n",
    "print('- All have missing Item (100% overlap)')\n",
    "print('- Cannot reconstruct Total Spent without Quantity')\n",
    "print('- Represent systematic data collection gaps, not random missingness')\n"
   ]
  },
  {
   "cell_type": "code",
   "execution_count": 10,
   "id": "510c93bd",
   "metadata": {},
   "outputs": [
    {
     "name": "stdout",
     "output_type": "stream",
     "text": [
      "Rows before deletion: 12575\n",
      "Rows to be deleted: 604\n",
      "\n",
      "Rows after deletion: 11971\n",
      "Rows deleted: 604\n",
      "Data retention rate: 95.20%\n"
     ]
    }
   ],
   "source": [
    "# Count rows before deletion\n",
    "# len(data) returns the total number of rows\n",
    "rows_before = len(data)\n",
    "print(f'Rows before deletion: {rows_before}')\n",
    "print(f'Rows to be deleted: {missing_total.sum()}')\n",
    "\n",
    "# Perform listwise deletion\n",
    "# .dropna removes rows with NaN values\n",
    "# subset=['Total Spent'] specifies to only check the Total Spent column\n",
    "# This removes any row where Total Spent is missing\n",
    "data_cleaned = data.dropna(subset=['Total Spent'])\n",
    "\n",
    "# Count rows after deletion\n",
    "rows_after = len(data_cleaned)\n",
    "# Calculate retention rate as percentage\n",
    "retention_rate = (rows_after / rows_before) * 100\n",
    "\n",
    "print(f'\\nRows after deletion: {rows_after}')\n",
    "print(f'Rows deleted: {rows_before - rows_after}')\n",
    "print(f'Data retention rate: {retention_rate:.2f}%')\n"
   ]
  },
  {
   "cell_type": "markdown",
   "id": "be8f0829",
   "metadata": {},
   "source": [
    "### Validation: Side benefits of deletion\n",
    "\n",
    "Verify that deleting rows with missing `Total Spent` also eliminates other missing value problems, particularly with `Quantity`.\n"
   ]
  },
  {
   "cell_type": "code",
   "execution_count": 11,
   "id": "af95c8cc",
   "metadata": {},
   "outputs": [
    {
     "name": "stdout",
     "output_type": "stream",
     "text": [
      "Missing value counts after Total Spent deletion:\n",
      "================================================================================\n",
      "Total Spent         :     0 ( 0.00%)\n",
      "Quantity            :     0 ( 0.00%)\n",
      "Price Per Unit      :   609 ( 5.09%)\n",
      "Item                :   609 ( 5.09%)\n",
      "\n",
      "✓ Total Spent is now 100% complete: True\n",
      "✓ Quantity is now 100% complete: True\n"
     ]
    }
   ],
   "source": [
    "# Check missing values in numeric columns after deletion\n",
    "print('Missing value counts after Total Spent deletion:')\n",
    "print('=' * 80)\n",
    "\n",
    "# Iterate through critical numeric columns\n",
    "for col in ['Total Spent', 'Quantity', 'Price Per Unit', 'Item']:\n",
    "    # data_cleaned[col].isna().sum() counts missing values in each column\n",
    "    missing_count = data_cleaned[col].isna().sum()\n",
    "    # Calculate percentage of missing values\n",
    "    missing_pct = (missing_count / len(data_cleaned)) * 100\n",
    "    # f-string formatting: {col:20s} pads column name to 20 characters for alignment\n",
    "    print(f'{col:20s}: {missing_count:5d} ({missing_pct:5.2f}%)')\n",
    "\n",
    "# Verify Total Spent is now complete\n",
    "print(f'\\n✓ Total Spent is now 100% complete: {data_cleaned[\"Total Spent\"].isna().sum() == 0}')\n",
    "# Verify Quantity is now complete (due to perfect co-missingness)\n",
    "print(f'✓ Quantity is now 100% complete: {data_cleaned[\"Quantity\"].isna().sum() == 0}')\n"
   ]
  },
  {
   "cell_type": "markdown",
   "id": "92406b5d",
   "metadata": {},
   "source": [
    "### Mathematical consistency check\n",
    "\n",
    "Verify that for all complete rows, the relationship `Total Spent = Price Per Unit × Quantity` holds true. This validates data quality and ensures no mathematical inconsistencies exist.\n"
   ]
  },
  {
   "cell_type": "code",
   "execution_count": 12,
   "id": "2140b8c8",
   "metadata": {},
   "outputs": [
    {
     "name": "stdout",
     "output_type": "stream",
     "text": [
      "Rows with complete Price, Quantity, and Total Spent: 11362\n",
      "Rows with mathematical inconsistency (diff > 0.01): 0\n",
      "Mathematical consistency rate: 100.00%\n",
      "\n",
      "✓ All rows satisfy the formula: Total Spent = Price Per Unit × Quantity\n"
     ]
    }
   ],
   "source": [
    "# Create filter for rows where all three numeric fields are present\n",
    "# .notna() returns True where values are NOT missing\n",
    "# .all(axis=1) checks if all three conditions are True for each row\n",
    "complete_rows = data_cleaned[['Price Per Unit', 'Quantity', 'Total Spent']].notna().all(axis=1)\n",
    "# Filter to only complete rows\n",
    "complete_data = data_cleaned[complete_rows].copy()\n",
    "\n",
    "print(f'Rows with complete Price, Quantity, and Total Spent: {len(complete_data)}')\n",
    "\n",
    "# Calculate expected Total Spent using the formula\n",
    "# complete_data['Price Per Unit'] * complete_data['Quantity'] performs element-wise multiplication\n",
    "complete_data['Calculated_Total'] = complete_data['Price Per Unit'] * complete_data['Quantity']\n",
    "\n",
    "# Calculate absolute difference between actual and calculated\n",
    "# abs() returns absolute value (always positive)\n",
    "complete_data['Difference'] = abs(complete_data['Total Spent'] - complete_data['Calculated_Total'])\n",
    "\n",
    "# Count rows with significant differences (> 0.01 to account for floating point precision)\n",
    "# complete_data['Difference'] > 0.01 creates boolean Series\n",
    "# .sum() counts True values\n",
    "inconsistent = (complete_data['Difference'] > 0.01).sum()\n",
    "\n",
    "print(f'Rows with mathematical inconsistency (diff > 0.01): {inconsistent}')\n",
    "print(f'Mathematical consistency rate: {((len(complete_data) - inconsistent) / len(complete_data) * 100):.2f}%')\n",
    "\n",
    "if inconsistent == 0:\n",
    "    print('\\n✓ All rows satisfy the formula: Total Spent = Price Per Unit × Quantity')\n",
    "else:\n",
    "    print(f'\\n⚠ Warning: {inconsistent} rows have inconsistent calculations')\n",
    "    # Show sample of inconsistent rows for investigation\n",
    "    print('\\nSample of inconsistent rows:')\n",
    "    print(complete_data[complete_data['Difference'] > 0.01][['Price Per Unit', 'Quantity', 'Total Spent', 'Calculated_Total', 'Difference']].head())\n"
   ]
  },
  {
   "cell_type": "markdown",
   "id": "74070ffc",
   "metadata": {},
   "source": [
    "### Impact on remaining missing values\n",
    "\n",
    "Analyze how deletion of Total Spent missing rows affects the overall missing data landscape, particularly for `Item` and `Price Per Unit` which will be handled in subsequent steps.\n"
   ]
  },
  {
   "cell_type": "code",
   "execution_count": 13,
   "id": "7decfbcf",
   "metadata": {},
   "outputs": [
    {
     "name": "stdout",
     "output_type": "stream",
     "text": [
      "Impact on Item missingness:\n",
      "================================================================================\n",
      "Item missing before: 1213\n",
      "Item missing after: 609\n",
      "Item missing rows removed: 604 (49.8% of Item missing cases)\n",
      "Item missing rows remaining: 609 (50.2%)\n",
      "\n",
      "Impact on Price Per Unit missingness:\n",
      "================================================================================\n",
      "Price Per Unit missing before: 609\n",
      "Price Per Unit missing after: 609\n",
      "Price Per Unit missing rows removed: 0 (0.0%)\n",
      "Price Per Unit missing rows remaining: 609 (100.0%)\n",
      "\n",
      "**Key insight:** Remaining missing values can now be imputed using available data:\n",
      "  - 609 Price Per Unit values can be reconstructed using Total ÷ Quantity\n",
      "  - 609 Item values can be imputed using Category information\n"
     ]
    }
   ],
   "source": [
    "print('Impact on Item missingness:')\n",
    "print('=' * 80)\n",
    "# Count missing Item values before and after deletion\n",
    "item_missing_before = data['Item'].isna().sum()\n",
    "item_missing_after = data_cleaned['Item'].isna().sum()\n",
    "item_removed = item_missing_before - item_missing_after\n",
    "\n",
    "print(f'Item missing before: {item_missing_before}')\n",
    "print(f'Item missing after: {item_missing_after}')\n",
    "print(f'Item missing rows removed: {item_removed} ({item_removed / item_missing_before * 100:.1f}% of Item missing cases)')\n",
    "print(f'Item missing rows remaining: {item_missing_after} ({item_missing_after / item_missing_before * 100:.1f}%)')\n",
    "\n",
    "print('\\nImpact on Price Per Unit missingness:')\n",
    "print('=' * 80)\n",
    "# Count missing Price Per Unit values before and after deletion\n",
    "price_missing_before = data['Price Per Unit'].isna().sum()\n",
    "price_missing_after = data_cleaned['Price Per Unit'].isna().sum()\n",
    "price_removed = price_missing_before - price_missing_after\n",
    "\n",
    "print(f'Price Per Unit missing before: {price_missing_before}')\n",
    "print(f'Price Per Unit missing after: {price_missing_after}')\n",
    "print(f'Price Per Unit missing rows removed: {price_removed} ({price_removed / price_missing_before * 100:.1f}%)')\n",
    "print(f'Price Per Unit missing rows remaining: {price_missing_after} ({price_missing_after / price_missing_before * 100:.1f}%)')\n",
    "\n",
    "print('\\n**Key insight:** Remaining missing values can now be imputed using available data:')\n",
    "print(f'  - {price_missing_after} Price Per Unit values can be reconstructed using Total ÷ Quantity')\n",
    "print(f'  - {item_missing_after} Item values can be imputed using Category information')\n"
   ]
  },
  {
   "cell_type": "markdown",
   "id": "97a4d6fa",
   "metadata": {},
   "source": [
    "### Persist results\n",
    "\n",
    "Save the cleaned dataset with Total Spent missing rows removed. This becomes the input for subsequent imputation steps (Price Per Unit, then Item).\n"
   ]
  },
  {
   "cell_type": "code",
   "execution_count": 16,
   "id": "a945486b",
   "metadata": {},
   "outputs": [
    {
     "name": "stdout",
     "output_type": "stream",
     "text": [
      "✓ Dataset with Total Spent missing rows removed saved to total_spent/../output_data/1_total_spent/total_spent_cleaned.csv\n",
      "  Final row count: 11971\n",
      "  Ready for next step: Price Per Unit imputation\n"
     ]
    }
   ],
   "source": [
    "# Save cleaned dataset to CSV\n",
    "# to_csv writes the DataFrame to a CSV file\n",
    "# index=False prevents writing row numbers as a column\n",
    "# This creates the output file that will be used in the next step (Price Per Unit imputation)\n",
    "output_path = '../output_data/1_total_spent/total_spent_cleaned.csv'\n",
    "data_cleaned.to_csv(output_path, index=False)\n",
    "print(f'✓ Dataset with Total Spent missing rows removed saved to total_spent/{output_path}')\n",
    "print(f'  Final row count: {len(data_cleaned)}')\n",
    "print(f'  Ready for next step: Price Per Unit imputation')\n"
   ]
  },
  {
   "cell_type": "markdown",
   "id": "02533bdf",
   "metadata": {},
   "source": [
    "### Summary\n",
    "\n",
    "**Total Spent Handling - STEP 1 Complete**\n",
    "\n",
    "**Classification:** MAR (Missing At Random)\n",
    "- Missingness depends on Item field (observable variable)\n",
    "- Perfect co-missingness with Quantity (100% overlap)\n",
    "\n",
    "**Method:** Listwise deletion\n",
    "- Removed 604 rows (4.8% of dataset)\n",
    "- Retained 95.2% of data\n",
    "\n",
    "**Justification:**\n",
    "- Total Spent is a critical target variable that should not be estimated\n",
    "- Cannot reconstruct: all missing cases also lack Quantity\n",
    "- Small data loss with large gain in data integrity\n",
    "\n",
    "**Side benefits:**\n",
    "- ✓ Quantity is now 100% complete (perfect co-missingness eliminated)\n",
    "- ✓ Reduced Item missing from 1,213 to 609 cases\n",
    "- ✓ All remaining missing values are now reconstructable/imputable\n",
    "\n",
    "**Next steps:**\n",
    "1. STEP 2: Impute Price Per Unit using formula (Total ÷ Quantity)\n",
    "2. STEP 3: Impute Item using mode by Category\n",
    "3. STEP 4: Handle Discount Applied as \"Unknown\" category\n"
   ]
  }
 ],
 "metadata": {
  "kernelspec": {
   "display_name": "Python 3",
   "language": "python",
   "name": "python3"
  },
  "language_info": {
   "codemirror_mode": {
    "name": "ipython",
    "version": 3
   },
   "file_extension": ".py",
   "mimetype": "text/x-python",
   "name": "python",
   "nbconvert_exporter": "python",
   "pygments_lexer": "ipython3",
   "version": "3.9.6"
  }
 },
 "nbformat": 4,
 "nbformat_minor": 5
}
