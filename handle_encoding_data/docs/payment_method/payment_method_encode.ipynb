{
 "cells": [
  {
   "cell_type": "code",
   "execution_count": null,
   "id": "initial_id",
   "metadata": {
    "collapsed": true
   },
   "outputs": [],
   "source": [
    ""
   ]
  },
  {
   "cell_type": "markdown",
   "id": "zja82byqe9",
   "source": "# Payment Method - One-Hot Encoding\n\n## Encoding Strategy\n\n**Method:** One-Hot Encoding\n\n**Why One-Hot Encoding:**\n- Only 3 categories (Cash, Credit Card, Digital Wallet) → manageable dimensionality\n- No ordinal relationship between payment methods (they are independent choices)\n- Standard industry best practice for low-cardinality nominal variables\n- Prepares data for ML algorithms that require numerical input\n\n**Why NOT other methods:**\n\n| Alternative Method | Why NOT Suitable |\n|-------------------|------------------|\n| Label Encoding | Implies false ordering: Cash(0) < Credit(1) < Digital(2) |\n| Target Encoding | Overcomplicates simple 3-category variable; risk of overfitting |\n| Frequency Encoding | Loses categorical identity; only shows popularity |\n| Binary Encoding | More than 2 categories → can't use simple 0/1 |\n\n**Expected Output:**\n- 3 new columns: `Payment_Cash`, `Payment_Credit Card`, `Payment_Digital Wallet`\n- Each row has exactly one \"1\" and two \"0\"s\n- All ML algorithms can process these binary columns",
   "metadata": {}
  },
  {
   "cell_type": "code",
   "id": "p7d3wwi4cfb",
   "source": [
    "import pandas as pd\n",
    "\n",
    "# Load the cleaned dataset (sources for ALL encoding steps)\n",
    "df = pd.read_csv('../../../handle_missing_data/output_data/4_discount_applied/final_cleaned_dataset.csv')\n",
    "data = df.copy()"
   ],
   "metadata": {
    "ExecuteTime": {
     "end_time": "2025-10-04T18:12:57.765288Z",
     "start_time": "2025-10-04T18:12:57.575304Z"
    }
   },
   "outputs": [],
   "execution_count": 1
  },
  {
   "cell_type": "markdown",
   "id": "ys93w6l9kk",
   "source": "## Step 1: Analyze Payment Method Distribution",
   "metadata": {}
  },
  {
   "cell_type": "code",
   "id": "1l1ft22ystw",
   "source": [
    "# Check unique payment methods and their distribution\n",
    "print(\"Unique Payment Methods:\")\n",
    "print(data['Payment Method'].value_counts())\n",
    "print(\"\\nDistribution (%):\")\n",
    "print(data['Payment Method'].value_counts(normalize=True) * 100)\n",
    "print(f\"\\nTotal unique values: {data['Payment Method'].nunique()}\")\n",
    "print(f\"Missing values: {data['Payment Method'].isna().sum()}\")"
   ],
   "metadata": {
    "ExecuteTime": {
     "end_time": "2025-10-04T18:13:19.850729Z",
     "start_time": "2025-10-04T18:13:19.843430Z"
    }
   },
   "outputs": [
    {
     "name": "stdout",
     "output_type": "stream",
     "text": [
      "Unique Payment Methods:\n",
      "Payment Method\n",
      "Cash              4103\n",
      "Digital Wallet    3941\n",
      "Credit Card       3927\n",
      "Name: count, dtype: int64\n",
      "\n",
      "Distribution (%):\n",
      "Payment Method\n",
      "Cash              34.274497\n",
      "Digital Wallet    32.921226\n",
      "Credit Card       32.804277\n",
      "Name: proportion, dtype: float64\n",
      "\n",
      "Total unique values: 3\n",
      "Missing values: 0\n"
     ]
    }
   ],
   "execution_count": 3
  },
  {
   "cell_type": "markdown",
   "id": "cwqneg53sfo",
   "source": "## Step 2: Apply One-Hot Encoding",
   "metadata": {}
  },
  {
   "cell_type": "code",
   "id": "fbmnvf7euo",
   "source": [
    "# Apply one-hot encoding using pd.get_dummies\n",
    "# drop_first=False to keep all 3 columns for interpretability\n",
    "payment_encoded = pd.get_dummies(data['Payment Method'], prefix='Payment', drop_first=False)\n",
    "\n",
    "\n",
    "print(payment_encoded.columns.tolist())\n",
    "print(\"\\nFirst few rows of encoded data:\")\n",
    "print(payment_encoded.head(10))"
   ],
   "metadata": {
    "ExecuteTime": {
     "end_time": "2025-10-04T18:13:40.527323Z",
     "start_time": "2025-10-04T18:13:40.519300Z"
    }
   },
   "outputs": [
    {
     "name": "stdout",
     "output_type": "stream",
     "text": [
      "['Payment_Cash', 'Payment_Credit Card', 'Payment_Digital Wallet']\n",
      "\n",
      "First few rows of encoded data:\n",
      "   Payment_Cash  Payment_Credit Card  Payment_Digital Wallet\n",
      "0         False                False                    True\n",
      "1          True                False                   False\n",
      "2         False                False                    True\n",
      "3          True                False                   False\n",
      "4         False                 True                   False\n",
      "5          True                False                   False\n",
      "6         False                 True                   False\n",
      "7          True                False                   False\n",
      "8         False                False                    True\n",
      "9          True                False                   False\n"
     ]
    }
   ],
   "execution_count": 4
  },
  {
   "cell_type": "markdown",
   "id": "alw8ti79uc5",
   "source": "## Step 3: Validation - Verify One-Hot Encoding Properties",
   "metadata": {}
  },
  {
   "cell_type": "code",
   "id": "pz7g89hqbip",
   "source": [
    "# Validation 1: Each row should sum to exactly 1 (one payment method per transaction)\n",
    "row_sums = payment_encoded.sum(axis=1)\n",
    "print(\"Row sum validation:\")\n",
    "print(f\"All rows sum to 1: {(row_sums == 1).all()}\")\n",
    "print(f\"Min sum: {row_sums.min()}, Max sum: {row_sums.max()}\")\n",
    "\n",
    "# Validation 2: Only binary values (0 or 1)\n",
    "print(\"\\nBinary validation:\")\n",
    "for col in payment_encoded.columns:\n",
    "    unique_vals = payment_encoded[col].unique()\n",
    "    print(f\"{col}: {sorted(unique_vals)}\")\n",
    "\n",
    "# Validation 3: No missing values\n",
    "print(f\"\\nMissing values: {payment_encoded.isna().sum().sum()}\")\n",
    "\n",
    "# Validation 4: Total counts match original distribution\n",
    "print(\"\\nDistribution check:\")\n",
    "for col in payment_encoded.columns:\n",
    "    original_method = col.replace('Payment_', '')\n",
    "    encoded_count = payment_encoded[col].sum()\n",
    "    original_count = (data['Payment Method'] == original_method).sum()\n",
    "    print(f\"{original_method}: Encoded={encoded_count}, Original={original_count}, Match={encoded_count == original_count}\")"
   ],
   "metadata": {
    "ExecuteTime": {
     "end_time": "2025-10-04T18:14:31.381345Z",
     "start_time": "2025-10-04T18:14:31.373462Z"
    }
   },
   "outputs": [
    {
     "name": "stdout",
     "output_type": "stream",
     "text": [
      "Row sum validation:\n",
      "All rows sum to 1: True\n",
      "Min sum: 1, Max sum: 1\n",
      "\n",
      "Binary validation:\n",
      "Payment_Cash: [np.False_, np.True_]\n",
      "Payment_Credit Card: [np.False_, np.True_]\n",
      "Payment_Digital Wallet: [np.False_, np.True_]\n",
      "\n",
      "Missing values: 0\n",
      "\n",
      "Distribution check:\n",
      "Cash: Encoded=4103, Original=4103, Match=True\n",
      "Credit Card: Encoded=3927, Original=3927, Match=True\n",
      "Digital Wallet: Encoded=3941, Original=3941, Match=True\n"
     ]
    }
   ],
   "execution_count": 5
  },
  {
   "cell_type": "markdown",
   "id": "evr4gve5dfv",
   "source": "## Step 4: Combine with Original Dataset",
   "metadata": {}
  },
  {
   "cell_type": "code",
   "id": "kdc4am6irca",
   "source": [
    "# Combine encoded columns with original dataset\n",
    "data_encoded = pd.concat([data, payment_encoded], axis=1)\n",
    "\n",
    "print(\"\\nColumns added:\")\n",
    "print([col for col in data_encoded.columns if col.startswith('Payment_')])\n",
    "print(data_encoded[['Payment Method', 'Payment_Cash', 'Payment_Credit Card', 'Payment_Digital Wallet']].head(10))"
   ],
   "metadata": {
    "ExecuteTime": {
     "end_time": "2025-10-04T18:15:00.896706Z",
     "start_time": "2025-10-04T18:15:00.889574Z"
    }
   },
   "outputs": [
    {
     "name": "stdout",
     "output_type": "stream",
     "text": [
      "\n",
      "Columns added:\n",
      "['Payment_Cash', 'Payment_Credit Card', 'Payment_Digital Wallet']\n",
      "   Payment Method  Payment_Cash  Payment_Credit Card  Payment_Digital Wallet\n",
      "0  Digital Wallet         False                False                    True\n",
      "1            Cash          True                False                   False\n",
      "2  Digital Wallet         False                False                    True\n",
      "3            Cash          True                False                   False\n",
      "4     Credit Card         False                 True                   False\n",
      "5            Cash          True                False                   False\n",
      "6     Credit Card         False                 True                   False\n",
      "7            Cash          True                False                   False\n",
      "8  Digital Wallet         False                False                    True\n",
      "9            Cash          True                False                   False\n"
     ]
    }
   ],
   "execution_count": 6
  },
  {
   "cell_type": "markdown",
   "id": "r6xpvum3ht",
   "source": "## Step 5: Save Encoded Dataset",
   "metadata": {}
  },
  {
   "cell_type": "code",
   "id": "1snbaqrzubc",
   "source": [
    "import os\n",
    "\n",
    "# Create output directory if it doesn't exist\n",
    "output_dir = '../../output_data/3_payment_method'\n",
    "os.makedirs(output_dir, exist_ok=True)\n",
    "\n",
    "# Save the encoded dataset\n",
    "output_path = os.path.join(output_dir, 'encoded_payment_method_dataset.csv')\n",
    "data_encoded.to_csv(output_path, index=False)"
   ],
   "metadata": {
    "ExecuteTime": {
     "end_time": "2025-10-04T18:15:30.168714Z",
     "start_time": "2025-10-04T18:15:30.128256Z"
    }
   },
   "outputs": [],
   "execution_count": 7
  },
  {
   "cell_type": "markdown",
   "id": "rr4vr1f0i1",
   "source": "## Summary\n\n**Encoding Applied:** One-Hot Encoding for Payment Method\n\n**Results:**\n- Created 3 binary columns: `Payment_Cash`, `Payment_Credit Card`, `Payment_Digital Wallet`\n- Each row has exactly one \"1\" (active payment method) and two \"0\"s\n- No missing values introduced\n- No false ordinal relationships created\n- Distribution preserved from original data\n\n**Why One-Hot Encoding was chosen:**\n1. Only 3 categories → manageable dimensionality (vs. 250 for Item)\n2. No ordinal relationship between payment methods\n3. Standard best practice for low-cardinality nominal variables\n4. Each payment method becomes an independent binary feature\n5. Compatible with all ML algorithms\n\n**Output File:** `Handle encoding data/output_data/4_payment_method/encoded_payment_method_dataset.csv`",
   "metadata": {}
  }
 ],
 "metadata": {
  "kernelspec": {
   "display_name": "Python 3",
   "language": "python",
   "name": "python3"
  },
  "language_info": {
   "codemirror_mode": {
    "name": "ipython",
    "version": 2
   },
   "file_extension": ".py",
   "mimetype": "text/x-python",
   "name": "python",
   "nbconvert_exporter": "python",
   "pygments_lexer": "ipython2",
   "version": "2.7.6"
  }
 },
 "nbformat": 4,
 "nbformat_minor": 5
}
