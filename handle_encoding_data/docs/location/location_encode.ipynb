{
 "cells": [
  {
   "cell_type": "markdown",
   "id": "initial_id",
   "metadata": {
    "collapsed": true
   },
   "source": [
    "# Location - Binary Encoding\n",
    "\n",
    "This notebook implements **binary encoding** for the `Location` categorical feature.\n",
    "\n",
    "## Why Binary Encoding for Location?\n",
    "\n",
    "**Location has only 2 unique values:** `In-store` and `Online`\n",
    "\n",
    "### Method Comparison:\n",
    "\n",
    "| Alternative Method | Why NOT Suitable |\n",
    "|-------------------|------------------|\n",
    "| **One-Hot Encoding** | Overkill for binary variable; creates 2 columns when 1 is sufficient |\n",
    "| **Target Encoding** | Unnecessarily complex for binary categorical |\n",
    "| **Frequency Encoding** | Loses the actual categorical meaning (In-store vs Online) |\n",
    "\n",
    "### Why Binary Encoding Works:\n",
    "- Binary variables naturally map to 0/1\n",
    "- Preserves the \"online vs. offline\" distinction\n",
    "- Single column (efficient)\n",
    "- Interpretable: **1 = Online, 0 = In-store**\n",
    "\n",
    "**Expected Output:**\n",
    "- New column: `Location_Encoded` (binary: 0 or 1)\n",
    "- Distribution preserved from original Location column"
   ]
  },
  {
   "cell_type": "code",
   "execution_count": 6,
   "id": "ssnwjevchz",
   "metadata": {
    "ExecuteTime": {
     "end_time": "2025-10-04T18:45:09.497093Z",
     "start_time": "2025-10-04T18:45:09.493924Z"
    }
   },
   "outputs": [],
   "source": [
    "import pandas as pd\n",
    "from pathlib import Path\n"
   ]
  },
  {
   "cell_type": "code",
   "execution_count": 7,
   "id": "vjkbdg69pu",
   "metadata": {
    "ExecuteTime": {
     "end_time": "2025-10-04T18:45:12.695915Z",
     "start_time": "2025-10-04T18:45:12.670525Z"
    }
   },
   "outputs": [],
   "source": [
    "\n",
    "# Input and output paths\n",
    "CSV_IN = \"../../../handle_missing_data/output_data/4_discount_applied/final_cleaned_dataset.csv\"\n",
    "CSV_OUT = \"../../output_data/2_location/location_binary_encoded.csv\"\n",
    "\n",
    "LOCATION = \"Location\"\n",
    "\n",
    "# Load the cleaned dataset\n",
    "df = pd.read_csv(CSV_IN)\n",
    "data = df.copy()\n"
   ]
  },
  {
   "cell_type": "markdown",
   "id": "w7sdu34cfgp",
   "metadata": {},
   "source": [
    "## Binary Encoding Implementation\n",
    "\n",
    "**Encoding rule:** `In-store = 0`, `Online = 1`"
   ]
  },
  {
   "cell_type": "code",
   "execution_count": 8,
   "id": "8j1y9poaofk",
   "metadata": {
    "ExecuteTime": {
     "end_time": "2025-10-04T18:45:15.226243Z",
     "start_time": "2025-10-04T18:45:15.216850Z"
    }
   },
   "outputs": [
    {
     "name": "stdout",
     "output_type": "stream",
     "text": [
      "\n",
      "Original Location vs Encoded:\n",
      "   Location  Location_Encoded\n",
      "0  In-store                 0\n",
      "1    Online                 1\n",
      "2    Online                 1\n",
      "3  In-store                 0\n",
      "4  In-store                 0\n",
      "5    Online                 1\n",
      "6    Online                 1\n",
      "7    Online                 1\n",
      "8    Online                 1\n",
      "9    Online                 1\n",
      "\n",
      "Encoded value distribution:\n",
      "Location_Encoded\n",
      "0    5903\n",
      "1    6068\n",
      "Name: count, dtype: int64\n"
     ]
    }
   ],
   "source": [
    "# Apply binary encoding\n",
    "# In-store = 0, Online = 1\n",
    "data['Location_Encoded'] = (data[LOCATION] == 'Online').astype(int)\n",
    "\n",
    "\n",
    "print(f\"\\nOriginal Location vs Encoded:\")\n",
    "print(data[[LOCATION, 'Location_Encoded']].head(10))\n",
    "\n",
    "print(f\"\\nEncoded value distribution:\")\n",
    "print(data['Location_Encoded'].value_counts().sort_index())"
   ]
  },
  {
   "cell_type": "markdown",
   "id": "caqunmgwr9",
   "metadata": {},
   "source": [
    "## Validation\n",
    "\n",
    "Verify binary encoding correctness:"
   ]
  },
  {
   "cell_type": "code",
   "execution_count": 9,
   "id": "flrt1n8sts",
   "metadata": {
    "ExecuteTime": {
     "end_time": "2025-10-04T18:45:17.551210Z",
     "start_time": "2025-10-04T18:45:17.541155Z"
    }
   },
   "outputs": [
    {
     "name": "stdout",
     "output_type": "stream",
     "text": [
      "1. Only contains 0/1 values: True\n",
      "2. No missing values: True\n",
      "3. In-store → 0 mapping correct: True\n",
      "4. Online → 1 mapping correct: True\n"
     ]
    }
   ],
   "source": [
    "valid_values = data['Location_Encoded'].isin([0, 1]).all()\n",
    "print(f\"1. Only contains 0/1 values: {valid_values}\")\n",
    "\n",
    "# 2. Check no missing values\n",
    "no_missing = data['Location_Encoded'].isna().sum() == 0\n",
    "print(f\"2. No missing values: {no_missing}\")\n",
    "\n",
    "# 3. Verify mapping correctness\n",
    "in_store_check = (data[df[LOCATION] == 'In-store']['Location_Encoded'] == 0).all()\n",
    "online_check = (data[df[LOCATION] == 'Online']['Location_Encoded'] == 1).all()\n",
    "print(f\"3. In-store → 0 mapping correct: {in_store_check}\")\n",
    "print(f\"4. Online → 1 mapping correct: {online_check}\")\n"
   ]
  },
  {
   "cell_type": "markdown",
   "id": "xc8tzgstrom",
   "metadata": {},
   "source": [
    "## Save Output\n",
    "\n",
    "Save the dataset with the encoded Location column:"
   ]
  },
  {
   "cell_type": "code",
   "execution_count": 10,
   "id": "ofq9ty0vwc",
   "metadata": {
    "ExecuteTime": {
     "end_time": "2025-10-04T18:45:20.374489Z",
     "start_time": "2025-10-04T18:45:20.335808Z"
    }
   },
   "outputs": [],
   "source": [
    "# Create output directory if it doesn't exist\n",
    "Path(CSV_OUT).parent.mkdir(parents=True, exist_ok=True)\n",
    "\n",
    "\n",
    "data.to_csv(CSV_OUT, index=False)"
   ]
  },
  {
   "cell_type": "code",
   "execution_count": null,
   "id": "b26791aa1a3f8af6",
   "metadata": {},
   "outputs": [],
   "source": []
  }
 ],
 "metadata": {
  "kernelspec": {
   "display_name": "Python 3",
   "language": "python",
   "name": "python3"
  },
  "language_info": {
   "codemirror_mode": {
    "name": "ipython",
    "version": 2
   },
   "file_extension": ".py",
   "mimetype": "text/x-python",
   "name": "python",
   "nbconvert_exporter": "python",
   "pygments_lexer": "ipython2",
   "version": "2.7.6"
  }
 },
 "nbformat": 4,
 "nbformat_minor": 5
}
