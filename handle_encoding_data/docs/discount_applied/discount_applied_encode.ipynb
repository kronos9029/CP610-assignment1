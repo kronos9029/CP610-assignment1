{
 "cells": [
  {
   "cell_type": "markdown",
   "id": "initial_id",
   "metadata": {
    "collapsed": true
   },
   "source": "# Discount Applied - One-Hot Encoding\n\nThis notebook implements **one-hot encoding** for the `Discount Applied` categorical feature.\n\n## Why One-Hot Encoding for Discount Applied?\n\n**Discount Applied has 3 distinct categories:** `True`, `False`, `Unknown`\n\n### Method Comparison:\n\n| Alternative Method | Why NOT Suitable |\n|-------------------|------------------|\n| **Label Encoding** | False ordering: False(0) < True(1) < Unknown(2) makes no sense |\n| **Binary (0/1)** | Can't represent 3 categories with single binary column |\n| **Target Encoding** | Overly complex; discount is already related to Total Spent |\n| **Ordinal Encoding** | No natural order exists between True/False/Unknown |\n\n### Why One-Hot Encoding Works:\n- Treats \"Unknown\" as legitimate category (not missing data)\n- No false relationships introduced\n- Preserves MCAR information from missing data analysis\n- Each state is independent\n\n**Expected Output:**\n- 3 new columns: `Discount_True`, `Discount_False`, `Discount_Unknown`\n- Each row has exactly one \"1\" and two \"0\"s\n- Distribution: ~33% each (from missing data analysis)"
  },
  {
   "cell_type": "code",
   "id": "w4gyq14swn",
   "source": "import pandas as pd\nfrom pathlib import Path",
   "metadata": {
    "ExecuteTime": {
     "end_time": "2025-10-04T18:33:57.224702Z",
     "start_time": "2025-10-04T18:33:57.027205Z"
    }
   },
   "outputs": [],
   "execution_count": 1
  },
  {
   "cell_type": "code",
   "id": "a6aqyfoqbi",
   "source": [
    "# Input and output paths\n",
    "CSV_IN = \"../../../handle_missing_data/output_data/4_discount_applied/final_cleaned_dataset.csv\"\n",
    "CSV_OUT = \"../../output_data/4_discount_applied/discount_applied_one_hot_encoded.csv\"\n",
    "\n",
    "DISCOUNT_APPLIED = \"Discount Applied\"\n",
    "\n",
    "# Load the cleaned dataset\n",
    "df = pd.read_csv(CSV_IN)\n",
    "data = df.copy()"
   ],
   "metadata": {
    "ExecuteTime": {
     "end_time": "2025-10-04T18:33:58.791678Z",
     "start_time": "2025-10-04T18:33:58.771198Z"
    }
   },
   "outputs": [],
   "execution_count": 2
  },
  {
   "cell_type": "markdown",
   "id": "wo70sgb1ve",
   "source": "## One-Hot Encoding Implementation\n\n**Encoding rule:** Create 3 binary columns: `Discount_True`, `Discount_False`, `Discount_Unknown`",
   "metadata": {}
  },
  {
   "cell_type": "code",
   "id": "dcre6kw33g",
   "source": [
    "# Apply one-hot encoding\n",
    "discount_encoded = pd.get_dummies(data[DISCOUNT_APPLIED], prefix='Discount', drop_first=False)\n",
    "\n",
    "# Add encoded columns to dataframe\n",
    "data = pd.concat([data, discount_encoded], axis=1)\n",
    "\n",
    "print(f\"\\nOriginal Discount Applied vs Encoded:\")\n",
    "print(data[[DISCOUNT_APPLIED, 'Discount_False', 'Discount_True', 'Discount_Unknown']].head(10))"
   ],
   "metadata": {
    "ExecuteTime": {
     "end_time": "2025-10-04T18:34:12.619301Z",
     "start_time": "2025-10-04T18:34:12.606990Z"
    }
   },
   "outputs": [
    {
     "name": "stdout",
     "output_type": "stream",
     "text": [
      "\n",
      "Original Discount Applied vs Encoded:\n",
      "  Discount Applied  Discount_False  Discount_True  Discount_Unknown\n",
      "0             True           False           True             False\n",
      "1            False            True          False             False\n",
      "2            False            True          False             False\n",
      "3            False            True          False             False\n",
      "4          Unknown           False          False              True\n",
      "5          Unknown           False          False              True\n",
      "6            False            True          False             False\n",
      "7          Unknown           False          False              True\n",
      "8          Unknown           False          False              True\n",
      "9             True           False           True             False\n"
     ]
    }
   ],
   "execution_count": 3
  },
  {
   "cell_type": "markdown",
   "id": "1i9z06wj1xt",
   "source": "## Validation\n\nVerify one-hot encoding correctness:",
   "metadata": {}
  },
  {
   "cell_type": "code",
   "id": "ur734f8irpm",
   "source": [
    "# 1. Check one-hot columns sum to 1 per row\n",
    "one_hot_sum = data[['Discount_False', 'Discount_True', 'Discount_Unknown']].sum(axis=1)\n",
    "sum_check = (one_hot_sum == 1).all()\n",
    "print(f\"1. Each row has exactly one '1' across encoded columns: {sum_check}\")\n",
    "\n",
    "# 2. Check no missing values\n",
    "no_missing = data[['Discount_False', 'Discount_True', 'Discount_Unknown']].isna().sum().sum() == 0\n",
    "print(f\"2. No missing values in encoded columns: {no_missing}\")\n",
    "\n",
    "# 3. Check only binary values (0 or 1)\n",
    "binary_check = data[['Discount_False', 'Discount_True', 'Discount_Unknown']].isin([0, 1]).all().all()\n",
    "print(f\"3. Only contains 0/1 values: {binary_check}\")\n"
   ],
   "metadata": {
    "ExecuteTime": {
     "end_time": "2025-10-04T18:34:33.960527Z",
     "start_time": "2025-10-04T18:34:33.948369Z"
    }
   },
   "outputs": [
    {
     "name": "stdout",
     "output_type": "stream",
     "text": [
      "1. Each row has exactly one '1' across encoded columns: True\n",
      "2. No missing values in encoded columns: True\n",
      "3. Only contains 0/1 values: True\n"
     ]
    }
   ],
   "execution_count": 4
  },
  {
   "cell_type": "markdown",
   "id": "9vosagmcaj",
   "source": "## Save Output\n\nSave the dataset with the encoded Discount Applied columns:",
   "metadata": {}
  },
  {
   "cell_type": "code",
   "id": "u81nz4axpw9",
   "source": [
    "# Create output directory if it doesn't exist\n",
    "Path(CSV_OUT).parent.mkdir(parents=True, exist_ok=True)\n",
    "\n",
    "# Save the encoded dataset\n",
    "data.to_csv(CSV_OUT, index=False)"
   ],
   "metadata": {
    "ExecuteTime": {
     "end_time": "2025-10-04T18:34:38.378Z",
     "start_time": "2025-10-04T18:34:38.337467Z"
    }
   },
   "outputs": [],
   "execution_count": 5
  },
  {
   "metadata": {},
   "cell_type": "code",
   "outputs": [],
   "execution_count": null,
   "source": "",
   "id": "742b388a83300908"
  }
 ],
 "metadata": {
  "kernelspec": {
   "display_name": "Python 3",
   "language": "python",
   "name": "python3"
  },
  "language_info": {
   "codemirror_mode": {
    "name": "ipython",
    "version": 2
   },
   "file_extension": ".py",
   "mimetype": "text/x-python",
   "name": "python",
   "nbconvert_exporter": "python",
   "pygments_lexer": "ipython2",
   "version": "2.7.6"
  }
 },
 "nbformat": 4,
 "nbformat_minor": 5
}
