{
 "cells": [
  {
   "cell_type": "code",
   "id": "8nxlhlzo825",
   "source": "import pandas as pd\nfrom pathlib import Path",
   "metadata": {
    "ExecuteTime": {
     "end_time": "2025-10-04T18:44:37.678264Z",
     "start_time": "2025-10-04T18:44:37.675768Z"
    }
   },
   "outputs": [],
   "execution_count": 5
  },
  {
   "cell_type": "markdown",
   "id": "osgwdhd37v",
   "source": "## Load All Encoded Datasets\n\nLoad each encoded dataset to extract the new encoded columns:",
   "metadata": {}
  },
  {
   "cell_type": "code",
   "id": "v9cz6d4eldb",
   "source": [
    "# Define input paths\n",
    "BASE_PATH = \"../../output_data\"\n",
    "OUTPUT_PATH = \"../../output_data/final_encoded_data/final_fully_encoded_dataset.csv\"\n",
    "\n",
    "# Load all encoded datasets\n",
    "df_customer = pd.read_csv(f\"{BASE_PATH}/1_customer_id/encoded_customer_id_dataset.csv\")\n",
    "df_location = pd.read_csv(f\"{BASE_PATH}/2_location/location_binary_encoded.csv\")\n",
    "df_payment = pd.read_csv(f\"{BASE_PATH}/3_payment_method/encoded_payment_method_dataset.csv\")\n",
    "df_discount = pd.read_csv(f\"{BASE_PATH}/4_discount_applied/discount_applied_one_hot_encoded.csv\")\n",
    "df_category = pd.read_csv(f\"{BASE_PATH}/5_category/encoded_category_dataset.csv\")\n",
    "df_item = pd.read_csv(f\"{BASE_PATH}/6_item/encoded_item_dataset.csv\")"
   ],
   "metadata": {
    "ExecuteTime": {
     "end_time": "2025-10-04T18:45:33.580963Z",
     "start_time": "2025-10-04T18:45:33.493496Z"
    }
   },
   "outputs": [],
   "execution_count": 9
  },
  {
   "cell_type": "markdown",
   "id": "4bwq66rnz53",
   "source": "## Merge Encoded Columns\n\nMerge all encoded columns based on Transaction ID:",
   "metadata": {}
  },
  {
   "cell_type": "code",
   "id": "ck2n96bemoh",
   "source": [
    "# Start with category dataset (has the most accumulated columns from previous steps)\n",
    "final_df = df_category.copy()\n",
    "\n",
    "\n",
    "# Add Location encoding\n",
    "final_df['Location_Encoded'] = df_location['Location_Encoded']\n",
    "\n",
    "# Add Payment Method encodings\n",
    "final_df['Payment_Cash'] = df_payment['Payment_Cash']\n",
    "final_df['Payment_Credit Card'] = df_payment['Payment_Credit Card']\n",
    "final_df['Payment_Digital Wallet'] = df_payment['Payment_Digital Wallet']\n",
    "\n",
    "# Add Discount Applied encodings\n",
    "final_df['Discount_False'] = df_discount['Discount_False']\n",
    "final_df['Discount_True'] = df_discount['Discount_True']\n",
    "final_df['Discount_Unknown'] = df_discount['Discount_Unknown']\n",
    "\n",
    "print(f\"\\nCombined dataset shape: {final_df.shape}\")\n",
    "print(f\"Column count: {len(final_df.columns)}\")"
   ],
   "metadata": {
    "ExecuteTime": {
     "end_time": "2025-10-04T18:45:35.095619Z",
     "start_time": "2025-10-04T18:45:35.087496Z"
    }
   },
   "outputs": [
    {
     "name": "stdout",
     "output_type": "stream",
     "text": [
      "\n",
      "Combined dataset shape: (11971, 28)\n",
      "Column count: 28\n"
     ]
    }
   ],
   "execution_count": 10
  },
  {
   "cell_type": "markdown",
   "id": "l519pil9cre",
   "source": "## Drop Original Categorical Columns\n\nRemove original categorical columns, keeping only numerical and encoded features:",
   "metadata": {}
  },
  {
   "cell_type": "code",
   "id": "50chtuirifm",
   "source": "# Columns to drop (original categorical)\ncolumns_to_drop = ['Customer ID', 'Category', 'Item', 'Payment Method', 'Location', 'Discount Applied']\n\n# Drop original categorical columns\nfinal_df = final_df.drop(columns=columns_to_drop)\n\nprint(f\"After dropping original categorical columns:\")\nprint(f\"Shape: {final_df.shape}\")\nprint(f\"\\nRemaining columns ({len(final_df.columns)}):\")\nprint(final_df.columns.tolist())",
   "metadata": {
    "ExecuteTime": {
     "end_time": "2025-10-04T18:45:44.880278Z",
     "start_time": "2025-10-04T18:45:44.874068Z"
    }
   },
   "outputs": [
    {
     "name": "stdout",
     "output_type": "stream",
     "text": [
      "After dropping original categorical columns:\n",
      "Shape: (11971, 22)\n",
      "\n",
      "Remaining columns (22):\n",
      "['Transaction ID', 'Price Per Unit', 'Quantity', 'Total Spent', 'Transaction Date', 'Customer ID Target Encoded', 'Item Target Encoded', 'cat_Beverages', 'cat_Butchers', 'cat_Computers and electric accessories', 'cat_Electric household essentials', 'cat_Food', 'cat_Furniture', 'cat_Milk Products', 'cat_Patisserie', 'Location_Encoded', 'Payment_Cash', 'Payment_Credit Card', 'Payment_Digital Wallet', 'Discount_False', 'Discount_True', 'Discount_Unknown']\n"
     ]
    }
   ],
   "execution_count": 11
  },
  {
   "cell_type": "markdown",
   "id": "o41dfz2gak",
   "source": "## Validation\n\nVerify the final encoded dataset:",
   "metadata": {}
  },
  {
   "cell_type": "code",
   "id": "by55lbtlwi5",
   "source": "# 1. No missing values in encoded columns\nencoded_cols = [col for col in final_df.columns if col not in ['Transaction ID', 'Price Per Unit', 'Quantity', 'Total Spent', 'Transaction Date']]\nno_missing = final_df[encoded_cols].isna().sum().sum() == 0\nprint(f\"1. No missing values in encoded columns: {no_missing}\")\n\n# 2. One-hot columns sum to 1 per row (Payment Method)\npayment_cols = ['Payment_Cash', 'Payment_Credit Card', 'Payment_Digital Wallet']\npayment_sum_check = (final_df[payment_cols].sum(axis=1) == 1).all()\nprint(f\"2. Payment Method one-hot sums to 1 per row: {payment_sum_check}\")\n\n# 3. One-hot columns sum to 1 per row (Discount Applied)\ndiscount_cols = ['Discount_False', 'Discount_True', 'Discount_Unknown']\ndiscount_sum_check = (final_df[discount_cols].sum(axis=1) == 1).all()\nprint(f\"3. Discount Applied one-hot sums to 1 per row: {discount_sum_check}\")\n\n# 4. Category one-hot columns sum to 1 per row\ncategory_cols = [col for col in final_df.columns if col.startswith('cat_')]\ncategory_sum_check = (final_df[category_cols].sum(axis=1) == 1).all()\nprint(f\"4. Category one-hot sums to 1 per row: {category_sum_check}\")\n\n# 5. Binary encoding has only 0/1\nbinary_check = final_df['Location_Encoded'].isin([0, 1]).all()\nprint(f\"5. Location encoding contains only 0/1: {binary_check}\")\n\n# 6. Row count preserved\nprint(f\"6. Row count: {len(final_df)} (expected: 11,971)\")\n\n# 7. Column count check\nprint(f\"\\n7. Final column breakdown:\")\nprint(f\"   - Identifiers: 1 (Transaction ID)\")\nprint(f\"   - Numerical: 4 (Price Per Unit, Quantity, Total Spent, Transaction Date)\")\nprint(f\"   - Customer ID encoding: 1\")\nprint(f\"   - Item encoding: 1\")\nprint(f\"   - Category encoding: {len(category_cols)}\")\nprint(f\"   - Location encoding: 1\")\nprint(f\"   - Payment encoding: 3\")\nprint(f\"   - Discount encoding: 3\")\nprint(f\"   - TOTAL: {len(final_df.columns)} columns\")",
   "metadata": {
    "ExecuteTime": {
     "end_time": "2025-10-04T18:46:07.635304Z",
     "start_time": "2025-10-04T18:46:07.619937Z"
    }
   },
   "outputs": [
    {
     "name": "stdout",
     "output_type": "stream",
     "text": [
      "1. No missing values in encoded columns: True\n",
      "2. Payment Method one-hot sums to 1 per row: True\n",
      "3. Discount Applied one-hot sums to 1 per row: True\n",
      "4. Category one-hot sums to 1 per row: True\n",
      "5. Location encoding contains only 0/1: True\n",
      "6. Row count: 11971 (expected: 11,971)\n",
      "\n",
      "7. Final column breakdown:\n",
      "   - Identifiers: 1 (Transaction ID)\n",
      "   - Numerical: 4 (Price Per Unit, Quantity, Total Spent, Transaction Date)\n",
      "   - Customer ID encoding: 1\n",
      "   - Item encoding: 1\n",
      "   - Category encoding: 8\n",
      "   - Location encoding: 1\n",
      "   - Payment encoding: 3\n",
      "   - Discount encoding: 3\n",
      "   - TOTAL: 22 columns\n"
     ]
    }
   ],
   "execution_count": 12
  },
  {
   "cell_type": "markdown",
   "id": "6yo4zmy9e3",
   "source": "## Preview Final Dataset\n\nDisplay first few rows and summary statistics:",
   "metadata": {}
  },
  {
   "cell_type": "code",
   "id": "q057s7e8mb",
   "source": "print(final_df.head())",
   "metadata": {
    "ExecuteTime": {
     "end_time": "2025-10-04T18:46:25.808605Z",
     "start_time": "2025-10-04T18:46:25.797928Z"
    }
   },
   "outputs": [
    {
     "name": "stdout",
     "output_type": "stream",
     "text": [
      "  Transaction ID  Price Per Unit  Quantity  Total Spent Transaction Date  \\\n",
      "0    TXN_1002182            11.0       5.0         55.0       2024-10-08   \n",
      "1    TXN_1003865             6.5       5.0         32.5       2022-03-12   \n",
      "2    TXN_1003940            11.0       9.0         99.0       2022-04-22   \n",
      "3    TXN_1004091            41.0       3.0        123.0       2023-11-09   \n",
      "4    TXN_1004124            14.0       5.0         70.0       2022-03-02   \n",
      "\n",
      "   Customer ID Target Encoded  Item Target Encoded  cat_Beverages  \\\n",
      "0                  121.232438            57.588235              0   \n",
      "1                  126.170000            38.010870              0   \n",
      "2                  127.523965            59.166667              0   \n",
      "3                  135.780837           230.511111              0   \n",
      "4                  132.967391            71.555556              0   \n",
      "\n",
      "   cat_Butchers  cat_Computers and electric accessories  ...  cat_Furniture  \\\n",
      "0             0                                       0  ...              0   \n",
      "1             0                                       0  ...              1   \n",
      "2             0                                       0  ...              1   \n",
      "3             0                                       0  ...              0   \n",
      "4             0                                       1  ...              0   \n",
      "\n",
      "   cat_Milk Products  cat_Patisserie  Location_Encoded  Payment_Cash  \\\n",
      "0                  0               0                 0         False   \n",
      "1                  0               0                 1          True   \n",
      "2                  0               0                 1         False   \n",
      "3                  0               0                 0          True   \n",
      "4                  0               0                 0         False   \n",
      "\n",
      "   Payment_Credit Card  Payment_Digital Wallet  Discount_False  Discount_True  \\\n",
      "0                False                    True           False           True   \n",
      "1                False                   False            True          False   \n",
      "2                False                    True            True          False   \n",
      "3                False                   False            True          False   \n",
      "4                 True                   False           False          False   \n",
      "\n",
      "   Discount_Unknown  \n",
      "0             False  \n",
      "1             False  \n",
      "2             False  \n",
      "3             False  \n",
      "4              True  \n",
      "\n",
      "[5 rows x 22 columns]\n"
     ]
    }
   ],
   "execution_count": 13
  },
  {
   "cell_type": "markdown",
   "id": "41ed3mphpr6",
   "source": "## Save Final Encoded Dataset\n\nSave the fully encoded dataset to output directory:",
   "metadata": {}
  },
  {
   "cell_type": "code",
   "id": "ig894qv5xjq",
   "source": [
    "# Create output directory if it doesn't exist\n",
    "Path(OUTPUT_PATH).parent.mkdir(parents=True, exist_ok=True)\n",
    "\n",
    "# Save the final encoded dataset\n",
    "final_df.to_csv(OUTPUT_PATH, index=False)"
   ],
   "metadata": {
    "ExecuteTime": {
     "end_time": "2025-10-04T18:46:35.073158Z",
     "start_time": "2025-10-04T18:46:35.018739Z"
    }
   },
   "outputs": [],
   "execution_count": 14
  },
  {
   "metadata": {},
   "cell_type": "code",
   "outputs": [],
   "execution_count": null,
   "source": "",
   "id": "83831ad854449af4"
  }
 ],
 "metadata": {
  "kernelspec": {
   "display_name": "Python 3",
   "language": "python",
   "name": "python3"
  },
  "language_info": {
   "codemirror_mode": {
    "name": "ipython",
    "version": 2
   },
   "file_extension": ".py",
   "mimetype": "text/x-python",
   "name": "python",
   "nbconvert_exporter": "python",
   "pygments_lexer": "ipython2",
   "version": "2.7.6"
  }
 },
 "nbformat": 4,
 "nbformat_minor": 5
}
