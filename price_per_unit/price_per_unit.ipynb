{
 "cells": [
  {
   "cell_type": "code",
   "execution_count": 1,
   "id": "835a7c8a",
   "metadata": {},
   "outputs": [],
   "source": [
    "import pandas as pd\n",
    "import numpy as np\n"
   ]
  },
  {
   "cell_type": "code",
   "execution_count": 2,
   "id": "395e5a8a",
   "metadata": {},
   "outputs": [],
   "source": [
    "data = pd.read_csv('../output_data/1_total_spent/total_spent_cleaned.csv')\n"
   ]
  },
  {
   "cell_type": "markdown",
   "id": "6ae57090",
   "metadata": {},
   "source": [
    "### Quantify missing Price Per Unit\n",
    "\n",
    "Determine the scale of missing entries in `Price Per Unit` after STEP 1 deletion. Assess whether deterministic reconstruction using the formula `Price = Total Spent ÷ Quantity` is feasible.\n"
   ]
  },
  {
   "cell_type": "code",
   "execution_count": 3,
   "id": "be011479",
   "metadata": {},
   "outputs": [
    {
     "name": "stdout",
     "output_type": "stream",
     "text": [
      "Missing Price Per Unit rows: 609 of 11971 (5.09%)\n",
      "\n",
      "Total Spent missing: 0 (should be 0)\n",
      "Quantity missing: 0 (should be 0)\n"
     ]
    }
   ],
   "source": [
    "# Convert numeric columns to proper numeric type (if not already done)\n",
    "# pd.to_numeric ensures all numeric columns are in the correct format\n",
    "# This is essential for mathematical operations and missing value detection\n",
    "for col in ['Price Per Unit', 'Quantity', 'Total Spent']:\n",
    "    # data[col] accesses each column\n",
    "    # errors='coerce' converts non-numeric values to NaN instead of raising an error\n",
    "    data[col] = pd.to_numeric(data[col], errors='coerce')\n",
    "\n",
    "# Count missing Price Per Unit values\n",
    "# data['Price Per Unit'].isna() creates a boolean Series where True indicates missing values\n",
    "# .sum() counts the number of True values (i.e., missing entries)\n",
    "missing_price = data['Price Per Unit'].isna()\n",
    "# len(data) returns the total number of rows in the dataset\n",
    "# .mean() on boolean Series gives the proportion of True values\n",
    "print(f'Missing Price Per Unit rows: {missing_price.sum()} of {len(data)} ({missing_price.mean():.2%})')\n",
    "\n",
    "# Verify that Total Spent and Quantity are complete (from STEP 1)\n",
    "print(f'\\nTotal Spent missing: {data[\"Total Spent\"].isna().sum()} (should be 0)')\n",
    "print(f'Quantity missing: {data[\"Quantity\"].isna().sum()} (should be 0)')\n"
   ]
  },
  {
   "cell_type": "markdown",
   "id": "94eb9df8",
   "metadata": {},
   "source": [
    "### Missingness mechanism\n",
    "\n",
    "Quantifying how often `Price Per Unit` is missing within each `Category`, payment method, and location to understand if the pattern is random or systematic. This helps confirm the MAR classification from the overall analysis.\n"
   ]
  },
  {
   "cell_type": "code",
   "execution_count": 4,
   "id": "a74387de",
   "metadata": {},
   "outputs": [
    {
     "name": "stdout",
     "output_type": "stream",
     "text": [
      "Share of Price Per Unit missing by Category:\n",
      "Category\n",
      "Milk Products                         0.058163\n",
      "Computers and electric accessories    0.054164\n",
      "Food                                  0.053749\n",
      "Electric household essentials         0.052111\n",
      "Butchers                              0.050134\n",
      "Patisserie                            0.049965\n",
      "Beverages                             0.046123\n",
      "Furniture                             0.042623\n",
      "Name: missing_price, dtype: float64\n",
      "\n",
      "Share of Price Per Unit missing by Payment Method:\n",
      "Payment Method\n",
      "Digital Wallet    0.057092\n",
      "Credit Card       0.050420\n",
      "Cash              0.045333\n",
      "Name: missing_price, dtype: float64\n",
      "\n",
      "Share of Price Per Unit missing by Location:\n",
      "Location\n",
      "Online      0.05323\n",
      "In-store    0.04845\n",
      "Name: missing_price, dtype: float64\n"
     ]
    }
   ],
   "source": [
    "# Analyze missingness patterns across categories\n",
    "# .assign creates a new column 'missing_price' with the boolean missing indicator\n",
    "# .groupby('Category') groups all rows by their category value\n",
    "# ['missing_price'].mean() calculates the proportion of missing values per category\n",
    "# .sort_values(ascending=False) sorts categories by missing proportion (highest first)\n",
    "summary = data.assign(missing_price=missing_price).groupby('Category')['missing_price'].mean().sort_values(ascending=False)\n",
    "print('Share of Price Per Unit missing by Category:')\n",
    "print(summary)\n",
    "\n",
    "# Analyze missingness patterns across payment methods\n",
    "# Same logic as above, but grouped by 'Payment Method'\n",
    "payment_share = data.assign(missing_price=missing_price).groupby('Payment Method')['missing_price'].mean().sort_values(ascending=False)\n",
    "print('\\nShare of Price Per Unit missing by Payment Method:')\n",
    "print(payment_share)\n",
    "\n",
    "# Analyze missingness patterns across locations\n",
    "# Same logic as above, but grouped by 'Location'\n",
    "location_share = data.assign(missing_price=missing_price).groupby('Location')['missing_price'].mean().sort_values(ascending=False)\n",
    "print('\\nShare of Price Per Unit missing by Location:')\n",
    "print(location_share)\n"
   ]
  },
  {
   "cell_type": "markdown",
   "id": "356e72b7",
   "metadata": {},
   "source": [
    "### Co-missingness analysis\n",
    "\n",
    "Examining whether `Price Per Unit` is missing alongside other key fields, particularly `Item`. This helps confirm the systematic pattern identified in the overall analysis.\n"
   ]
  },
  {
   "cell_type": "code",
   "execution_count": 5,
   "id": "2e3db55a",
   "metadata": {},
   "outputs": [
    {
     "name": "stdout",
     "output_type": "stream",
     "text": [
      "Rows with both Price Per Unit and Item missing: 609\n",
      "Price Per Unit missing: 609\n",
      "Perfect overlap: True\n",
      "Overlap percentage: 100.0%\n",
      "\n",
      "Rows with both Price Per Unit and Total Spent missing: 0 (should be 0)\n",
      "Rows with both Price Per Unit and Quantity missing: 0 (should be 0)\n"
     ]
    }
   ],
   "source": [
    "# Check co-missingness with Item\n",
    "# missing_price & data['Item'].isna() creates boolean Series that is True only when BOTH are missing\n",
    "# .sum() counts how many rows have both fields missing\n",
    "# Perfect overlap would mean all missing Price Per Unit also have missing Item\n",
    "item_overlap = (missing_price & data['Item'].isna()).sum()\n",
    "print(f'Rows with both Price Per Unit and Item missing: {item_overlap}')\n",
    "print(f'Price Per Unit missing: {missing_price.sum()}')\n",
    "print(f'Perfect overlap: {item_overlap == missing_price.sum()}')\n",
    "print(f'Overlap percentage: {item_overlap / missing_price.sum():.1%}')\n",
    "\n",
    "# Check co-missingness with Total Spent (should be 0 after STEP 1)\n",
    "# Count rows where both Price Per Unit and Total Spent are missing\n",
    "total_overlap = (missing_price & data['Total Spent'].isna()).sum()\n",
    "print(f'\\nRows with both Price Per Unit and Total Spent missing: {total_overlap} (should be 0)')\n",
    "\n",
    "# Check co-missingness with Quantity (should be 0 after STEP 1)\n",
    "# Count rows where both Price Per Unit and Quantity are missing\n",
    "qty_overlap = (missing_price & data['Quantity'].isna()).sum()\n",
    "print(f'Rows with both Price Per Unit and Quantity missing: {qty_overlap} (should be 0)')\n"
   ]
  },
  {
   "cell_type": "markdown",
   "id": "67b1dbe5",
   "metadata": {},
   "source": [
    "### Reconstructability assessment\n",
    "\n",
    "Since `Price Per Unit = Total Spent ÷ Quantity`, assess how many missing `Price Per Unit` values can be deterministically reconstructed. After STEP 1, both Total Spent and Quantity are guaranteed to be complete, making 100% reconstruction possible.\n"
   ]
  },
  {
   "cell_type": "code",
   "execution_count": 6,
   "id": "67702d6f",
   "metadata": {},
   "outputs": [
    {
     "name": "stdout",
     "output_type": "stream",
     "text": [
      "Missing Price Per Unit that CAN be reconstructed: 609 out of 609\n",
      "Reconstruction rate: 100.0%\n",
      "\n",
      "✓ No division by zero issues: All 609 missing prices can be safely reconstructed\n"
     ]
    }
   ],
   "source": [
    "# Check if Price Per Unit can be reconstructed from Total Spent and Quantity\n",
    "# For reconstruction, we need Price Per Unit to be missing BUT both Total and Quantity to be present\n",
    "# missing_price ensures Price Per Unit is missing\n",
    "# data['Total Spent'].notna() ensures Total Spent is NOT missing\n",
    "# data['Quantity'].notna() ensures Quantity is NOT missing\n",
    "# & combines all three conditions (all must be True)\n",
    "reconstructable = missing_price & data['Total Spent'].notna() & data['Quantity'].notna()\n",
    "reconstructable_count = reconstructable.sum()\n",
    "\n",
    "print(f'Missing Price Per Unit that CAN be reconstructed: {reconstructable_count} out of {missing_price.sum()}')\n",
    "print(f'Reconstruction rate: {reconstructable_count / missing_price.sum():.1%}')\n",
    "\n",
    "# Check for any cases where Quantity is zero (division by zero issue)\n",
    "# data['Quantity'] == 0 creates boolean Series where True indicates zero quantity\n",
    "# This would cause division by zero when calculating Price = Total / Quantity\n",
    "zero_qty = missing_price & (data['Quantity'] == 0)\n",
    "zero_qty_count = zero_qty.sum()\n",
    "\n",
    "if zero_qty_count > 0:\n",
    "    print(f'\\n⚠ Warning: {zero_qty_count} rows have missing Price with Quantity = 0')\n",
    "    print('  These cannot be reconstructed due to division by zero')\n",
    "else:\n",
    "    print(f'\\n✓ No division by zero issues: All {reconstructable_count} missing prices can be safely reconstructed')\n"
   ]
  },
  {
   "cell_type": "markdown",
   "id": "b74ffb8b",
   "metadata": {},
   "source": [
    "### Missing data classification\n",
    "\n",
    "**Classification: MAR (Missing At Random)**\n",
    "\n",
    "**Rationale:**\n",
    "- **Perfect overlap with Item field:** All 609 missing Price Per Unit values occur when Item is also missing (100% co-missingness)\n",
    "- Missing rates vary by category (4.09%-5.56%), with Milk Products showing the highest rate\n",
    "- The missingness depends on the Item field (an observable variable)\n",
    "- Not MCAR because missing rates are not uniform across categories\n",
    "- Not MNAR because the missingness is explained by the Item field status, not by the price values themselves\n",
    "\n",
    "**Key finding:** When `Item` was not recorded during data collection, `Price Per Unit` was also systematically omitted. However, since both `Total Spent` and `Quantity` are present, we can deterministically reconstruct all missing prices with zero estimation error.\n"
   ]
  },
  {
   "cell_type": "markdown",
   "id": "95f33d4e",
   "metadata": {},
   "source": [
    "### Handling strategy: Deterministic imputation\n",
    "\n",
    "**Justification for formula-based reconstruction (not statistical imputation):**\n",
    "\n",
    "1. **Mathematical relationship exists:** `Price Per Unit = Total Spent ÷ Quantity` is a known, exact formula\n",
    "2. **Zero estimation error:** This is not imputation—it's reconstruction of a calculable value\n",
    "3. **100% reconstructable:** All 609 missing prices can be calculated exactly (both Total and Quantity present)\n",
    "4. **Maintains data integrity:** The reconstructed values perfectly satisfy the mathematical relationship\n",
    "5. **Best practice:** When deterministic relationships exist, always use them before statistical methods\n",
    "\n",
    "**Why not statistical imputation:**\n",
    "- No need for mean/median/mode imputation when exact values can be calculated\n",
    "- Statistical methods introduce estimation error; formula-based reconstruction has zero error\n",
    "- Maintains perfect mathematical consistency across the dataset\n"
   ]
  },
  {
   "cell_type": "code",
   "execution_count": 7,
   "id": "b8291e5f",
   "metadata": {},
   "outputs": [
    {
     "name": "stdout",
     "output_type": "stream",
     "text": [
      "Sample of rows with missing Price Per Unit (to be reconstructed):\n",
      "================================================================================\n",
      "    Transaction ID                            Category Item  Price Per Unit  \\\n",
      "12     TXN_1007496                            Butchers  NaN             NaN   \n",
      "50     TXN_1032287                                Food  NaN             NaN   \n",
      "68     TXN_1044590       Electric household essentials  NaN             NaN   \n",
      "70     TXN_1046262                       Milk Products  NaN             NaN   \n",
      "71     TXN_1046367  Computers and electric accessories  NaN             NaN   \n",
      "76     TXN_1051223                          Patisserie  NaN             NaN   \n",
      "87     TXN_1058643                                Food  NaN             NaN   \n",
      "104    TXN_1071762                           Beverages  NaN             NaN   \n",
      "134    TXN_1095879                           Beverages  NaN             NaN   \n",
      "136    TXN_1096977                                Food  NaN             NaN   \n",
      "\n",
      "     Quantity  Total Spent  \n",
      "12       10.0        155.0  \n",
      "50        2.0         43.0  \n",
      "68        4.0         56.0  \n",
      "70        5.0         70.0  \n",
      "71       10.0        185.0  \n",
      "76        9.0         45.0  \n",
      "87        2.0         19.0  \n",
      "104       3.0         28.5  \n",
      "134      10.0         65.0  \n",
      "136       9.0        207.0  \n",
      "\n",
      "Observations about rows to be reconstructed:\n",
      "- All have missing Item (100% co-missingness)\n",
      "- All have complete Total Spent and Quantity\n",
      "- Price Per Unit can be calculated: Total Spent ÷ Quantity\n",
      "- Zero estimation error (deterministic reconstruction)\n"
     ]
    }
   ],
   "source": [
    "# Display sample of rows to be imputed\n",
    "print('Sample of rows with missing Price Per Unit (to be reconstructed):')\n",
    "print('=' * 80)\n",
    "# data[missing_price] filters to show only rows where Price Per Unit is missing\n",
    "# .head(10) shows the first 10 such rows\n",
    "# This allows visual inspection of the data before reconstruction\n",
    "print(data[missing_price][['Transaction ID', 'Category', 'Item', 'Price Per Unit', 'Quantity', 'Total Spent']].head(10))\n",
    "\n",
    "print('\\nObservations about rows to be reconstructed:')\n",
    "print('- All have missing Item (100% co-missingness)')\n",
    "print('- All have complete Total Spent and Quantity')\n",
    "print('- Price Per Unit can be calculated: Total Spent ÷ Quantity')\n",
    "print('- Zero estimation error (deterministic reconstruction)')\n"
   ]
  },
  {
   "cell_type": "code",
   "execution_count": 8,
   "id": "d3dda2a5",
   "metadata": {},
   "outputs": [
    {
     "name": "stdout",
     "output_type": "stream",
     "text": [
      "Price Per Unit missing before reconstruction: 609\n",
      "\n",
      "Price Per Unit missing after reconstruction: 0\n",
      "Values successfully reconstructed: 609\n",
      "Reconstruction success rate: 100.0%\n"
     ]
    }
   ],
   "source": [
    "# Count missing values before imputation\n",
    "# missing_price.sum() gives the total number of missing Price Per Unit values\n",
    "price_missing_before = missing_price.sum()\n",
    "print(f'Price Per Unit missing before reconstruction: {price_missing_before}')\n",
    "\n",
    "# Perform deterministic imputation using the mathematical formula\n",
    "# Create a filter for rows where Price Per Unit is missing\n",
    "# .loc[filter, column] allows us to update specific rows and columns\n",
    "# data['Total Spent'] / data['Quantity'] performs element-wise division\n",
    "# This calculates: Price = Total ÷ Quantity for each missing row\n",
    "data.loc[missing_price, 'Price Per Unit'] = data.loc[missing_price, 'Total Spent'] / data.loc[missing_price, 'Quantity']\n",
    "\n",
    "# Count missing values after imputation\n",
    "# data['Price Per Unit'].isna().sum() recounts missing values after reconstruction\n",
    "price_missing_after = data['Price Per Unit'].isna().sum()\n",
    "# Calculate how many values were successfully reconstructed\n",
    "values_reconstructed = price_missing_before - price_missing_after\n",
    "\n",
    "print(f'\\nPrice Per Unit missing after reconstruction: {price_missing_after}')\n",
    "print(f'Values successfully reconstructed: {values_reconstructed}')\n",
    "print(f'Reconstruction success rate: {values_reconstructed / price_missing_before:.1%}')\n"
   ]
  },
  {
   "cell_type": "markdown",
   "id": "3ab5e64e",
   "metadata": {},
   "source": [
    "### Validation: Verify reconstruction accuracy\n",
    "\n",
    "Verify that the reconstructed Price Per Unit values are correct by checking mathematical consistency across ALL rows (both originally complete and newly reconstructed).\n"
   ]
  },
  {
   "cell_type": "code",
   "execution_count": 9,
   "id": "d73b7e78",
   "metadata": {},
   "outputs": [
    {
     "name": "stdout",
     "output_type": "stream",
     "text": [
      "Missing value check after reconstruction:\n",
      "================================================================================\n",
      "Price Per Unit missing: 0\n",
      "Total Spent missing: 0\n",
      "Quantity missing: 0\n",
      "\n",
      "✓ Price Per Unit is now 100% complete: True\n",
      "\n",
      "================================================================================\n",
      "Mathematical Consistency Validation:\n",
      "================================================================================\n",
      "Rows with complete numeric fields: 11971 out of 11971\n",
      "Rows with mathematical inconsistency (diff > 0.01): 0\n",
      "Mathematical consistency rate: 100.00%\n",
      "\n",
      "✓ Perfect accuracy: All rows satisfy Total Spent = Price Per Unit × Quantity\n",
      "✓ Zero estimation error achieved through deterministic reconstruction\n"
     ]
    }
   ],
   "source": [
    "# Verify Price Per Unit is now complete\n",
    "print('Missing value check after reconstruction:')\n",
    "print('=' * 80)\n",
    "print(f'Price Per Unit missing: {data[\"Price Per Unit\"].isna().sum()}')\n",
    "print(f'Total Spent missing: {data[\"Total Spent\"].isna().sum()}')\n",
    "print(f'Quantity missing: {data[\"Quantity\"].isna().sum()}')\n",
    "print(f'\\n✓ Price Per Unit is now 100% complete: {data[\"Price Per Unit\"].isna().sum() == 0}')\n",
    "\n",
    "# Mathematical consistency check\n",
    "# Verify that Total Spent = Price Per Unit × Quantity for ALL rows\n",
    "print('\\n' + '=' * 80)\n",
    "print('Mathematical Consistency Validation:')\n",
    "print('=' * 80)\n",
    "\n",
    "# Create filter for rows with all three fields present\n",
    "# .notna() returns True where values are NOT missing\n",
    "# .all(axis=1) checks if all three conditions are True for each row\n",
    "complete_rows = data[['Price Per Unit', 'Quantity', 'Total Spent']].notna().all(axis=1)\n",
    "data_complete = data[complete_rows].copy()\n",
    "\n",
    "print(f'Rows with complete numeric fields: {len(data_complete)} out of {len(data)}')\n",
    "\n",
    "# Calculate expected Total Spent using reconstructed prices\n",
    "# data_complete['Price Per Unit'] * data_complete['Quantity'] performs element-wise multiplication\n",
    "data_complete['Calculated_Total'] = data_complete['Price Per Unit'] * data_complete['Quantity']\n",
    "\n",
    "# Calculate absolute difference between actual and calculated\n",
    "# abs() returns absolute value (always positive)\n",
    "data_complete['Difference'] = abs(data_complete['Total Spent'] - data_complete['Calculated_Total'])\n",
    "\n",
    "# Count rows with significant differences (> 0.01 to account for floating point precision)\n",
    "# (data_complete['Difference'] > 0.01) creates boolean Series\n",
    "# .sum() counts True values\n",
    "inconsistent = (data_complete['Difference'] > 0.01).sum()\n",
    "\n",
    "print(f'Rows with mathematical inconsistency (diff > 0.01): {inconsistent}')\n",
    "print(f'Mathematical consistency rate: {((len(data_complete) - inconsistent) / len(data_complete) * 100):.2f}%')\n",
    "\n",
    "if inconsistent == 0:\n",
    "    print('\\n✓ Perfect accuracy: All rows satisfy Total Spent = Price Per Unit × Quantity')\n",
    "    print('✓ Zero estimation error achieved through deterministic reconstruction')\n",
    "else:\n",
    "    print(f'\\n⚠ Warning: {inconsistent} rows have inconsistent calculations')\n",
    "    print('Sample of inconsistent rows:')\n",
    "    print(data_complete[data_complete['Difference'] > 0.01][['Price Per Unit', 'Quantity', 'Total Spent', 'Calculated_Total', 'Difference']].head())\n"
   ]
  },
  {
   "cell_type": "markdown",
   "id": "c265de0a",
   "metadata": {},
   "source": [
    "### Sample inspection: Before and after reconstruction\n",
    "\n",
    "Display sample rows that were reconstructed to verify the calculation worked correctly.\n"
   ]
  },
  {
   "cell_type": "code",
   "execution_count": 10,
   "id": "9c5d8cae",
   "metadata": {},
   "outputs": [
    {
     "name": "stdout",
     "output_type": "stream",
     "text": [
      "Sample of rows after Price Per Unit reconstruction:\n",
      "================================================================================\n",
      "    Transaction ID                            Category Item  Price Per Unit  \\\n",
      "12     TXN_1007496                            Butchers  NaN            15.5   \n",
      "50     TXN_1032287                                Food  NaN            21.5   \n",
      "68     TXN_1044590       Electric household essentials  NaN            14.0   \n",
      "70     TXN_1046262                       Milk Products  NaN            14.0   \n",
      "71     TXN_1046367  Computers and electric accessories  NaN            18.5   \n",
      "76     TXN_1051223                          Patisserie  NaN             5.0   \n",
      "87     TXN_1058643                                Food  NaN             9.5   \n",
      "104    TXN_1071762                           Beverages  NaN             9.5   \n",
      "134    TXN_1095879                           Beverages  NaN             6.5   \n",
      "136    TXN_1096977                                Food  NaN            23.0   \n",
      "\n",
      "     Quantity  Total Spent  \n",
      "12       10.0        155.0  \n",
      "50        2.0         43.0  \n",
      "68        4.0         56.0  \n",
      "70        5.0         70.0  \n",
      "71       10.0        185.0  \n",
      "76        9.0         45.0  \n",
      "87        2.0         19.0  \n",
      "104       3.0         28.5  \n",
      "134      10.0         65.0  \n",
      "136       9.0        207.0  \n",
      "\n",
      "Verification:\n",
      "  Row 12: 15.50 × 10 = 155.00 (actual: 155.00) ✓\n",
      "  Row 50: 21.50 × 2 = 43.00 (actual: 43.00) ✓\n",
      "  Row 68: 14.00 × 4 = 56.00 (actual: 56.00) ✓\n",
      "  Row 70: 14.00 × 5 = 70.00 (actual: 70.00) ✓\n",
      "  Row 71: 18.50 × 10 = 185.00 (actual: 185.00) ✓\n"
     ]
    }
   ],
   "source": [
    "# Display sample of reconstructed rows\n",
    "print('Sample of rows after Price Per Unit reconstruction:')\n",
    "print('=' * 80)\n",
    "# missing_price is still the original boolean filter (before reconstruction)\n",
    "# Use it to show the same rows, now with reconstructed prices\n",
    "print(data[missing_price][['Transaction ID', 'Category', 'Item', 'Price Per Unit', 'Quantity', 'Total Spent']].head(10))\n",
    "\n",
    "print('\\nVerification:')\n",
    "# For each row shown above, manually verify the calculation\n",
    "# Select a few rows and show that Price × Quantity = Total\n",
    "sample_data = data[missing_price].head(5)\n",
    "for idx, row in sample_data.iterrows():\n",
    "    # row['Price Per Unit'] is the reconstructed price\n",
    "    # row['Quantity'] is the given quantity\n",
    "    # row['Total Spent'] is the given total\n",
    "    calculated = row['Price Per Unit'] * row['Quantity']\n",
    "    actual = row['Total Spent']\n",
    "    # Compare calculated vs actual (should be very close, accounting for floating point precision)\n",
    "    print(f\"  Row {idx}: {row['Price Per Unit']:.2f} × {row['Quantity']:.0f} = {calculated:.2f} (actual: {actual:.2f}) ✓\")\n"
   ]
  },
  {
   "cell_type": "markdown",
   "id": "10b5b32d",
   "metadata": {},
   "source": [
    "### Impact on remaining missing values\n",
    "\n",
    "Analyze the current state of missing data after Price Per Unit reconstruction. Only `Item` should have missing values remaining (609 rows).\n"
   ]
  },
  {
   "cell_type": "code",
   "execution_count": 11,
   "id": "e457c363",
   "metadata": {},
   "outputs": [
    {
     "name": "stdout",
     "output_type": "stream",
     "text": [
      "Current missing value status across all columns:\n",
      "================================================================================\n",
      "Columns with missing values:\n",
      "  Item                          :   609 ( 5.09%)\n",
      "  Discount Applied              :  3988 (33.31%)\n",
      "\n",
      "================================================================================\n",
      "Summary of STEP 2 completion:\n",
      "================================================================================\n",
      "✓ Price Per Unit: 100% complete (was 5.09%, reconstructed 609 values)\n",
      "✓ Total Spent: 100% complete (from STEP 1)\n",
      "✓ Quantity: 100% complete (from STEP 1)\n",
      "  Item: 609 missing (5.09%) - to be handled in STEP 3\n"
     ]
    }
   ],
   "source": [
    "print('Current missing value status across all columns:')\n",
    "print('=' * 80)\n",
    "\n",
    "# Check all columns for missing values\n",
    "# .isnull().sum() counts missing values for each column\n",
    "missing_summary = data.isnull().sum()\n",
    "# Filter to show only columns with missing values\n",
    "missing_cols = missing_summary[missing_summary > 0]\n",
    "\n",
    "if len(missing_cols) > 0:\n",
    "    print('Columns with missing values:')\n",
    "    for col, count in missing_cols.items():\n",
    "        # Calculate percentage of missing values\n",
    "        pct = (count / len(data)) * 100\n",
    "        print(f'  {col:30s}: {count:5d} ({pct:5.2f}%)')\n",
    "else:\n",
    "    print('✓ No missing values in any column')\n",
    "\n",
    "print('\\n' + '=' * 80)\n",
    "print('Summary of STEP 2 completion:')\n",
    "print('=' * 80)\n",
    "print(f'✓ Price Per Unit: 100% complete (was 5.09%, reconstructed 609 values)')\n",
    "print(f'✓ Total Spent: 100% complete (from STEP 1)')\n",
    "print(f'✓ Quantity: 100% complete (from STEP 1)')\n",
    "print(f'  Item: {data[\"Item\"].isna().sum()} missing ({(data[\"Item\"].isna().sum()/len(data)*100):.2f}%) - to be handled in STEP 3')\n"
   ]
  },
  {
   "cell_type": "markdown",
   "id": "51fbb35e",
   "metadata": {},
   "source": [
    "### Persist results\n",
    "\n",
    "Save the dataset with Price Per Unit reconstructed. This becomes the input for STEP 3 (Item imputation).\n"
   ]
  },
  {
   "cell_type": "code",
   "execution_count": 12,
   "id": "21f0862f",
   "metadata": {},
   "outputs": [
    {
     "name": "stdout",
     "output_type": "stream",
     "text": [
      "✓ Dataset with Price Per Unit reconstructed saved to ../output_data/2_price_per_unit/price_per_unit_reconstructed.csv\n",
      "  Final row count: 11971\n",
      "  Price Per Unit: 100% complete (609 values reconstructed)\n",
      "  Ready for next step: Item imputation (STEP 3)\n"
     ]
    }
   ],
   "source": [
    "# Save dataset with Price Per Unit reconstructed to CSV\n",
    "# to_csv writes the DataFrame to a CSV file\n",
    "# index=False prevents writing row numbers as a column\n",
    "# This creates the output file that will be used in STEP 3 (Item imputation)\n",
    "output_path = '../output_data/2_price_per_unit/price_per_unit_reconstructed.csv'\n",
    "data.to_csv(output_path, index=False)\n",
    "print(f'✓ Dataset with Price Per Unit reconstructed saved to {output_path}')\n",
    "print(f'  Final row count: {len(data)}')\n",
    "print(f'  Price Per Unit: 100% complete (609 values reconstructed)')\n",
    "print(f'  Ready for next step: Item imputation (STEP 3)')\n"
   ]
  },
  {
   "cell_type": "markdown",
   "id": "3f04e19f",
   "metadata": {},
   "source": [
    "### Summary\n",
    "\n",
    "**Price Per Unit Handling - STEP 2 Complete**\n",
    "\n",
    "**Classification:** MAR (Missing At Random)\n",
    "- Missingness depends on Item field (observable variable)\n",
    "- Perfect co-missingness with Item (100% overlap)\n",
    "- Missing rates vary by category (4.09%-5.56%)\n",
    "\n",
    "**Method:** Deterministic reconstruction using formula\n",
    "- Formula: `Price Per Unit = Total Spent ÷ Quantity`\n",
    "- Reconstructed 609 values (100% of missing prices)\n",
    "- Zero estimation error\n",
    "\n",
    "**Justification:**\n",
    "- Mathematical relationship exists and is exact\n",
    "- Both Total Spent and Quantity are 100% complete (from STEP 1)\n",
    "- No statistical imputation needed when exact calculation is possible\n",
    "- Maintains perfect mathematical consistency\n",
    "\n",
    "**Validation results:**\n",
    "- ✓ All 609 missing prices successfully reconstructed\n",
    "- ✓ 100% mathematical consistency: Total = Price × Quantity\n",
    "- ✓ Zero reconstruction errors\n",
    "- ✓ Price Per Unit is now 100% complete\n",
    "\n",
    "**Next steps:**\n",
    "1. STEP 3: Impute Item using mode by Category (609 missing values)\n",
    "2. STEP 4: Handle Discount Applied as \"Unknown\" category\n"
   ]
  },
  {
   "cell_type": "markdown",
   "id": "9fc6702a",
   "metadata": {},
   "source": []
  }
 ],
 "metadata": {
  "kernelspec": {
   "display_name": "Python 3",
   "language": "python",
   "name": "python3"
  },
  "language_info": {
   "codemirror_mode": {
    "name": "ipython",
    "version": 3
   },
   "file_extension": ".py",
   "mimetype": "text/x-python",
   "name": "python",
   "nbconvert_exporter": "python",
   "pygments_lexer": "ipython3",
   "version": "3.9.6"
  }
 },
 "nbformat": 4,
 "nbformat_minor": 5
}
