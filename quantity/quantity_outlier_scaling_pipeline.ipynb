{
 "cells": [
  {
   "cell_type": "markdown",
   "metadata": {},
   "source": [
    "# Quantity — Outlier Detection → Decision → Rescaling\n",
    "\n",
    "This notebook executes a **five-step pipeline** for the numerical feature **Quantity**:\n",
    "\n",
    "1. **Choose feature** (why `Quantity` first in pipeline)  \n",
    "2. **Detect outliers** with statistical evidence (IQR rule + metrics)  \n",
    "3. **Decide** to keep / winsorize / transform (data-driven, not just theory)  \n",
    "4. **Rescale** the cleaned feature (Normalization, Standardization, Robust Scaling) and save outputs\n",
    "5. **Visual** show histograms comparing original vs cleaned `Quantity`\n"
   ],
   "id": "2b62d59ae20242b0"
  },
  {
   "cell_type": "markdown",
   "metadata": {},
   "source": [
    "## 1) Choose which feature to do first — `Quantity`\n",
    "**Why `Quantity` first?**\n",
    "- It is a **discrete count** and often shows **right-skew** (many small purchases, few large bulk orders).\n",
    "- Bulk outliers can **inflate the standard deviation** and distort scaling if left untreated.\n",
    "- Treating `Quantity` first stabilizes subsequent scaling and downstream models.\n"
   ],
   "id": "dc03c529b4e30e28"
  },
  {
   "cell_type": "code",
   "execution_count": 110,
   "metadata": {},
   "outputs": [],
   "source": [
    "# === Import lib ===\n",
    "import pandas as pd\n",
    "from pathlib import Path\n",
    "import numpy as np\n",
    "import matplotlib.pyplot as plt\n",
    "from scipy import stats\n",
    "import seaborn as sns"
   ],
   "id": "811e966bcd14718c"
  },
  {
   "cell_type": "code",
   "execution_count": 111,
   "id": "e4a666b7",
   "metadata": {},
   "outputs": [],
   "source": [
    "# Input and output files\n",
    "CSV_IN = \"../output_data/5_category/encoded_category_dataset.csv\"\n",
    "CSV_OUT = \"../scaled_output_data/1_quantity/scaled_quantity_dataset.csv\"\n",
    "\n",
    "QUANTITY = \"Quantity\""
   ]
  },
  {
   "cell_type": "code",
   "execution_count": 112,
   "id": "832b50c1",
   "metadata": {},
   "outputs": [
    {
     "name": "stdout",
     "output_type": "stream",
     "text": [
      "Rows: 11971\n"
     ]
    },
    {
     "data": {
      "text/html": [
       "<div>\n",
       "<style scoped>\n",
       "    .dataframe tbody tr th:only-of-type {\n",
       "        vertical-align: middle;\n",
       "    }\n",
       "\n",
       "    .dataframe tbody tr th {\n",
       "        vertical-align: top;\n",
       "    }\n",
       "\n",
       "    .dataframe thead th {\n",
       "        text-align: right;\n",
       "    }\n",
       "</style>\n",
       "<table border=\"1\" class=\"dataframe\">\n",
       "  <thead>\n",
       "    <tr style=\"text-align: right;\">\n",
       "      <th></th>\n",
       "      <th>Quantity</th>\n",
       "    </tr>\n",
       "  </thead>\n",
       "  <tbody>\n",
       "    <tr>\n",
       "      <th>0</th>\n",
       "      <td>5.0</td>\n",
       "    </tr>\n",
       "    <tr>\n",
       "      <th>1</th>\n",
       "      <td>5.0</td>\n",
       "    </tr>\n",
       "    <tr>\n",
       "      <th>2</th>\n",
       "      <td>9.0</td>\n",
       "    </tr>\n",
       "    <tr>\n",
       "      <th>3</th>\n",
       "      <td>3.0</td>\n",
       "    </tr>\n",
       "    <tr>\n",
       "      <th>4</th>\n",
       "      <td>5.0</td>\n",
       "    </tr>\n",
       "    <tr>\n",
       "      <th>5</th>\n",
       "      <td>3.0</td>\n",
       "    </tr>\n",
       "    <tr>\n",
       "      <th>6</th>\n",
       "      <td>6.0</td>\n",
       "    </tr>\n",
       "    <tr>\n",
       "      <th>7</th>\n",
       "      <td>1.0</td>\n",
       "    </tr>\n",
       "    <tr>\n",
       "      <th>8</th>\n",
       "      <td>8.0</td>\n",
       "    </tr>\n",
       "    <tr>\n",
       "      <th>9</th>\n",
       "      <td>5.0</td>\n",
       "    </tr>\n",
       "  </tbody>\n",
       "</table>\n",
       "</div>"
      ],
      "text/plain": [
       "   Quantity\n",
       "0       5.0\n",
       "1       5.0\n",
       "2       9.0\n",
       "3       3.0\n",
       "4       5.0\n",
       "5       3.0\n",
       "6       6.0\n",
       "7       1.0\n",
       "8       8.0\n",
       "9       5.0"
      ]
     },
     "metadata": {},
     "output_type": "display_data"
    }
   ],
   "source": [
    "# Load dataset\n",
    "# Read the CSV file into a DataFrame\n",
    "# pd.read_csv loads the data from CSV_IN to df\n",
    "df = pd.read_csv(CSV_IN)\n",
    "\n",
    "# .to_numeric converts the Quantity column to numeric, coercing errors to NaN\n",
    "df[QUANTITY] = pd.to_numeric(df[QUANTITY], errors=\"coerce\")\n",
    "\n",
    "# Display the number of rows and the first 10 entries of the Quantity column for verification\n",
    "print(\"Rows:\", len(df))\n",
    "display(df[[QUANTITY]].head(10))"
   ]
  },
  {
   "cell_type": "markdown",
   "metadata": {},
   "source": [
    "## 2) Detect outliers (IQR)\n",
    "We compute **Q1, Q3, IQR** and the **fences**:  \n",
    "- Lower fence = Q1 − 1.5×IQR  \n",
    "- Upper fence = Q3 + 1.5×IQR  "
   ],
   "id": "13eb54b112045189"
  },
  {
   "cell_type": "code",
   "execution_count": null,
   "metadata": {},
   "outputs": [
    {
     "data": {
      "text/plain": [
       "Q1             3.0000\n",
       "Q3             8.0000\n",
       "IQR            5.0000\n",
       "LowerFence    -4.5000\n",
       "UpperFence    15.5000\n",
       "Outliers       0.0000\n",
       "Outliers %     0.0000\n",
       "Mean           5.5364\n",
       "Median         6.0000\n",
       "Std            2.8579\n",
       "Skewness      -0.0119\n",
       "Kurtosis      -1.2088\n",
       "dtype: float64"
      ]
     },
     "metadata": {},
     "output_type": "display_data"
    },
    {
     "name": "stdout",
     "output_type": "stream",
     "text": [
      "No outliers detected in 'Quantity' feature.\n"
     ]
    }
   ],
   "source": [
    "# === IQR computation & flags ===\n",
    "# Calculate Q1, Q3, IQR, lower and upper fences\n",
    "q1 = df[QUANTITY].quantile(0.25) # 25th percentile\n",
    "q3 = df[QUANTITY].quantile(0.75) # 75th percentile\n",
    "iqr = q3 - q1 # Interquartile Range (IQR)\n",
    "lower = q1 - 1.5*iqr # Lower fence\n",
    "upper = q3 + 1.5*iqr # Upper fence\n",
    "\n",
    "# Detect outliers\n",
    "isOutlier = (df[QUANTITY] < lower) | (df[QUANTITY] > upper) # Boolean Series contain outliers with True value is outlier\n",
    "outlierCount = int(isOutlier.sum()) # Count of outliers\n",
    "total = len(df) # Total number of entries\n",
    "# Percentage of outliers in the feature\n",
    "pctOutliers = (outlierCount/total*100.0) if total else 0.0  # if total is 0, set pctOutliers to 0.0 to avoid division by zero\n",
    "\n",
    "mean = df[QUANTITY].mean() \n",
    "median = df[QUANTITY].median()\n",
    "std = df[QUANTITY].std() # Standard Deviation\n",
    "skew = df[QUANTITY].skew() # Skewness\n",
    "kurt = df[QUANTITY].kurt() # Kurtosis\n",
    "\n",
    "# summary statistics\n",
    "summary = pd.Series({ # Summary is a Series object containing various statistics\n",
    "    \"Q1\": q1, \"Q3\": q3, \"IQR\": iqr,\n",
    "    \"LowerFence\": lower, \"UpperFence\": upper,\n",
    "    \"Outliers\": outlierCount, \"Outliers %\": pctOutliers,\n",
    "    \"Mean\": mean, \"Median\": median, \"Std\": std,\n",
    "    \"Skewness\": skew, \"Kurtosis\": kurt\n",
    "})\n",
    "display(summary.round(4))\n",
    "\n",
    "# Print outlier detection results with IQR method\n",
    "if outlierCount > 0:\n",
    "    print(f\"Detected {outlierCount} outliers ({pctOutliers:.2f}%) in '{QUANTITY}' feature.\")\n",
    "else:\n",
    "    print(f\"No outliers detected in '{QUANTITY}' feature.\")"
   ],
   "id": "f38ff398db261362"
  },
  {
   "cell_type": "code",
   "execution_count": 114,
   "metadata": {},
   "outputs": [
    {
     "data": {
      "image/png": "[encoded data removed]",
      "text/plain": [
       "<Figure size 800x400 with 1 Axes>"
      ]
     },
     "metadata": {},
     "output_type": "display_data"
    },
    {
     "data": {
      "image/png": "[encoded data removed]",
      "text/plain": [
       "<Figure size 800x180 with 1 Axes>"
      ]
     },
     "metadata": {},
     "output_type": "display_data"
    }
   ],
   "source": [
    "# Visuals: Histogram & Boxplot\n",
    "# Histogram (before scaling)\n",
    "plt.figure(figsize=(8, 4))\n",
    "sns.histplot(\n",
    "    df[QUANTITY],\n",
    "    bins=35,\n",
    "    edgecolor=\"white\",\n",
    "    color=\"steelblue\"\n",
    ")\n",
    "plt.title(\"Quantity — Histogram (Before Scaling)\")\n",
    "plt.xlabel(\"Quantity\")\n",
    "plt.ylabel(\"Frequency\")\n",
    "plt.tight_layout()\n",
    "plt.show()\n",
    "\n",
    "# Boxplot (before scaling)\n",
    "plt.figure(figsize=(8, 1.8))\n",
    "sns.boxplot(\n",
    "    x=df[QUANTITY],\n",
    "    color=\"skyblue\",\n",
    "    whis=1.5  # matches the IQR rule\n",
    ")\n",
    "plt.title(\"Quantity — Boxplot (Before Scaling, 1.5×IQR)\")\n",
    "plt.xlabel(\"Quantity\")\n",
    "plt.tight_layout()\n",
    "plt.show()"
   ],
   "id": "b83dc721b3c12adc"
  },
  {
   "cell_type": "markdown",
   "id": "653db93e",
   "metadata": {},
   "source": [
    "### Why IQR here\n",
    "- The IQR method is chosen because it’s non-parametric, it resists outlier influence, and it keeps the Quantity feature steady even when a few very large transactions appear.-\n"
   ]
  },
  {
   "cell_type": "markdown",
   "metadata": {},
   "source": [
    "## 3) Decide: remove, transform, or keep outliers\n",
    "No outliers flagged for Quantity by the 1.5×IQR rule, so the observed range sits comfortably within the usual variability band. With nothing breaching the lower or upper fences, we can leave the column untouched—no trimming, capping. This also means downstream statistics and models won’t be distorted by extreme records, so the current data stays exactly as collected."
   ],
   "id": "2910551d3c32d148"
  },
  {
   "cell_type": "markdown",
   "metadata": {},
   "source": [
    "## 4) Rescale the feature\n",
    "- **Min–Max scaling** for Quantity because the cleaned data already sits in a tight, finite range with no outliers after the IQR check\n",
    "- Since there’s no heavy skew left and the range is well behaved, more robust methods (robust scaler, log transform) aren’t necessary"
   ],
   "id": "1730314d9b8f474c"
  },
  {
   "cell_type": "code",
   "execution_count": null,
   "metadata": {},
   "outputs": [
    {
     "data": {
      "text/html": [
       "<div>\n",
       "<style scoped>\n",
       "    .dataframe tbody tr th:only-of-type {\n",
       "        vertical-align: middle;\n",
       "    }\n",
       "\n",
       "    .dataframe tbody tr th {\n",
       "        vertical-align: top;\n",
       "    }\n",
       "\n",
       "    .dataframe thead th {\n",
       "        text-align: right;\n",
       "    }\n",
       "</style>\n",
       "<table border=\"1\" class=\"dataframe\">\n",
       "  <thead>\n",
       "    <tr style=\"text-align: right;\">\n",
       "      <th></th>\n",
       "      <th>Quantity</th>\n",
       "      <th>Quantity_Norm_MinMax</th>\n",
       "    </tr>\n",
       "  </thead>\n",
       "  <tbody>\n",
       "    <tr>\n",
       "      <th>0</th>\n",
       "      <td>5.0</td>\n",
       "      <td>0.444444</td>\n",
       "    </tr>\n",
       "    <tr>\n",
       "      <th>1</th>\n",
       "      <td>5.0</td>\n",
       "      <td>0.444444</td>\n",
       "    </tr>\n",
       "    <tr>\n",
       "      <th>2</th>\n",
       "      <td>9.0</td>\n",
       "      <td>0.888889</td>\n",
       "    </tr>\n",
       "    <tr>\n",
       "      <th>3</th>\n",
       "      <td>3.0</td>\n",
       "      <td>0.222222</td>\n",
       "    </tr>\n",
       "    <tr>\n",
       "      <th>4</th>\n",
       "      <td>5.0</td>\n",
       "      <td>0.444444</td>\n",
       "    </tr>\n",
       "  </tbody>\n",
       "</table>\n",
       "</div>"
      ],
      "text/plain": [
       "   Quantity  Quantity_Norm_MinMax\n",
       "0       5.0              0.444444\n",
       "1       5.0              0.444444\n",
       "2       9.0              0.888889\n",
       "3       3.0              0.222222\n",
       "4       5.0              0.444444"
      ]
     },
     "metadata": {},
     "output_type": "display_data"
    },
    {
     "name": "stdout",
     "output_type": "stream",
     "text": [
      "\n",
      "Scaled feature summaries:\n"
     ]
    },
    {
     "data": {
      "text/html": [
       "<div>\n",
       "<style scoped>\n",
       "    .dataframe tbody tr th:only-of-type {\n",
       "        vertical-align: middle;\n",
       "    }\n",
       "\n",
       "    .dataframe tbody tr th {\n",
       "        vertical-align: top;\n",
       "    }\n",
       "\n",
       "    .dataframe thead th {\n",
       "        text-align: right;\n",
       "    }\n",
       "</style>\n",
       "<table border=\"1\" class=\"dataframe\">\n",
       "  <thead>\n",
       "    <tr style=\"text-align: right;\">\n",
       "      <th></th>\n",
       "      <th>Quantity_Norm_MinMax</th>\n",
       "    </tr>\n",
       "  </thead>\n",
       "  <tbody>\n",
       "    <tr>\n",
       "      <th>count</th>\n",
       "      <td>11971.0000</td>\n",
       "    </tr>\n",
       "    <tr>\n",
       "      <th>mean</th>\n",
       "      <td>0.5040</td>\n",
       "    </tr>\n",
       "    <tr>\n",
       "      <th>std</th>\n",
       "      <td>0.3175</td>\n",
       "    </tr>\n",
       "    <tr>\n",
       "      <th>min</th>\n",
       "      <td>0.0000</td>\n",
       "    </tr>\n",
       "    <tr>\n",
       "      <th>25%</th>\n",
       "      <td>0.2222</td>\n",
       "    </tr>\n",
       "    <tr>\n",
       "      <th>50%</th>\n",
       "      <td>0.5556</td>\n",
       "    </tr>\n",
       "    <tr>\n",
       "      <th>75%</th>\n",
       "      <td>0.7778</td>\n",
       "    </tr>\n",
       "    <tr>\n",
       "      <th>max</th>\n",
       "      <td>1.0000</td>\n",
       "    </tr>\n",
       "  </tbody>\n",
       "</table>\n",
       "</div>"
      ],
      "text/plain": [
       "       Quantity_Norm_MinMax\n",
       "count            11971.0000\n",
       "mean                 0.5040\n",
       "std                  0.3175\n",
       "min                  0.0000\n",
       "25%                  0.2222\n",
       "50%                  0.5556\n",
       "75%                  0.7778\n",
       "max                  1.0000"
      ]
     },
     "metadata": {},
     "output_type": "display_data"
    }
   ],
   "source": [
    "# Rescaling on the cleaned series\n",
    "quantityList = df[QUANTITY].astype(float)\n",
    "\n",
    "# Min-Max\n",
    "min_x, max_x = quantityList.min(), quantityList.max() # find min and max value of the feature\n",
    "df[\"Quantity_Norm_MinMax\"] = (quantityList - min_x) / (max_x - min_x) if max_x > min_x else 0.0 # if max_x > min_x then do the scaling else 0.0\n",
    "\n",
    "display(df[[\"Quantity\",\"Quantity_Norm_MinMax\"]].head())\n",
    "\n",
    "print(\"\\nScaled feature summaries:\")\n",
    "display(df[[\"Quantity_Norm_MinMax\"]].describe().round(4))"
   ],
   "id": "967c82726f9c2935"
  },
  {
   "cell_type": "markdown",
   "id": "dca91371",
   "metadata": {},
   "source": [
    "## Visuals — Scaled Feature Distributions\n",
    "Visualize the **scaled versions** of the cleaned feature to confirm their shapes and ranges:"
   ]
  },
  {
   "cell_type": "code",
   "execution_count": 117,
   "id": "7e3c6bf8",
   "metadata": {},
   "outputs": [
    {
     "data": {
      "image/png": "[encoded data removed]",
      "text/plain": [
       "<Figure size 800x400 with 1 Axes>"
      ]
     },
     "metadata": {},
     "output_type": "display_data"
    },
    {
     "data": {
      "image/png": "[encoded data removed]",
      "text/plain": [
       "<Figure size 800x180 with 1 Axes>"
      ]
     },
     "metadata": {},
     "output_type": "display_data"
    }
   ],
   "source": [
    "# Histogram + KDE for Min–Max scaled Quantity\n",
    "scaledCol = \"Quantity_Norm_MinMax\"\n",
    "plt.figure(figsize=(8, 4))\n",
    "sns.histplot(\n",
    "    df[scaledCol],\n",
    "    bins=35,\n",
    "    kde=True,\n",
    "    color=\"darkorange\",\n",
    "    edgecolor=\"white\"\n",
    ")\n",
    "plt.title(f\"{scaledCol} — Histogram & KDE (Min–Max Scaled)\")\n",
    "plt.xlabel(\"Scaled Value\")\n",
    "plt.ylabel(\"Frequency\")\n",
    "plt.tight_layout()\n",
    "plt.show()\n",
    "\n",
    "# Boxplot after Min–Max scaling\n",
    "plt.figure(figsize=(8, 1.8))\n",
    "sns.boxplot(\n",
    "    x=df[scaledCol],\n",
    "    color=\"orange\",\n",
    "    whis=1.5\n",
    ")\n",
    "plt.title(f\"{scaledCol} — Boxplot (After Scaling, 1.5×IQR)\")\n",
    "plt.xlabel(\"Scaled Value\")\n",
    "plt.tight_layout()\n",
    "plt.show()"
   ]
  },
  {
   "cell_type": "markdown",
   "id": "09d398ae",
   "metadata": {},
   "source": [
    "- X-axis: the rescaled values ranging from 0 to 1 (0 corresponds to the original minimum quantity, 1 to the original maximum).\n",
    "- Y-axis: how many rows fall into each bin.\n",
    "- The KDE curve (orange line) runs nearly flat, confirming that the scaled values are spread fairly evenly with no sharp spikes."
   ]
  },
  {
   "cell_type": "markdown",
   "id": "dfb06496",
   "metadata": {},
   "source": [
    "- The gold box shows the middle 50% of values—roughly from 0.25 to 0.75—with the median (bold line) around 0.55.\n",
    "- The whiskers extend to about 0.0 and 1.0 using the 1.5×IQR rule, so every value falls inside, meaning no outliers remain after scaling.\n",
    "- The scaled quantity distribution is well-balanced and stays within [0, 1]; Min–Max scaling didn’t create any new outliers."
   ]
  },
  {
   "cell_type": "code",
   "execution_count": 118,
   "metadata": {},
   "outputs": [
    {
     "name": "stdout",
     "output_type": "stream",
     "text": [
      "Saved: ../scaled_output_data/1_quantity/scaled_quantity_dataset.csv\n"
     ]
    }
   ],
   "source": [
    "# Save outputs\n",
    "df.to_csv(CSV_OUT, index=False)\n",
    "print(\"Saved:\", CSV_OUT)"
   ],
   "id": "fd0a083cc4c50280"
  }
 ],
 "metadata": {
  "kernelspec": {
   "display_name": "Python 3",
   "language": "python",
   "name": "python3"
  },
  "language_info": {
   "codemirror_mode": {
    "name": "ipython",
    "version": 3
   },
   "file_extension": ".py",
   "mimetype": "text/x-python",
   "name": "python",
   "nbconvert_exporter": "python",
   "pygments_lexer": "ipython3",
   "version": "3.13.7"
  }
 },
 "nbformat": 4,
 "nbformat_minor": 5
}
