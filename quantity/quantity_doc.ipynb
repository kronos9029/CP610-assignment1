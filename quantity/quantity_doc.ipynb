{
 "cells": [
  {
   "cell_type": "code",
   "execution_count": 6,
   "id": "6098e6a0-8b20-4486-973c-a7e8e77359ba",
   "metadata": {},
   "outputs": [],
   "source": [
    "import pandas as pd\n"
   ]
  },
  {
   "cell_type": "code",
   "execution_count": 7,
   "id": "9e412870",
   "metadata": {},
   "outputs": [],
   "source": [
    "# Input and output files\n",
    "CSV_IN = \"../output_data/1_total_spent/total_spent_cleaned.csv\"\n",
    "CSV_OUT = \"../output_data/2_quantity/quantity_imputed.csv\"\n",
    "\n",
    "QUANTITY = \"Quantity\""
   ]
  },
  {
   "cell_type": "code",
   "execution_count": 8,
   "id": "7c75f238-c52b-43ea-ab14-82bc614610d6",
   "metadata": {},
   "outputs": [],
   "source": [
    "# Load dataset\n",
    "# Read the CSV file into a DataFrame\n",
    "# pd.read_csv loads the data from CSV_IN to df\n",
    "df = pd.read_csv(CSV_IN)"
   ]
  },
  {
   "cell_type": "markdown",
   "id": "57b38898-3ff9-493b-aaa1-ab8241191b8b",
   "metadata": {},
   "source": [
    "### Quantify missing Quantity\n",
    "\n",
    "Determine the scale of missing entries in `Quantity` to size the remediation."
   ]
  },
  {
   "cell_type": "code",
   "execution_count": 15,
   "id": "5f9b8196-7bae-4e5a-9e15-3700a8ab03bd",
   "metadata": {},
   "outputs": [
    {
     "name": "stdout",
     "output_type": "stream",
     "text": [
      "Missing Quantity rows: 0 of 11971 (0.00%)\n",
      "Quantity is complete. No imputation required.\n"
     ]
    }
   ],
   "source": [
    "# Count missing Quantity values\n",
    "missingQuantity = df[QUANTITY].isna()\n",
    "print(f\"Missing Quantity rows: {missingQuantity.sum()} of {len(df)} ({missingQuantity.mean():.2%})\")\n",
    "if missingQuantity.sum() == 0:\n",
    "    # No missing values, no action needed\n",
    "    print(f\"{QUANTITY} is complete. No imputation required.\")\n",
    "else:\n",
    "    # Missing values found, imputation needed\n",
    "    print(f\"{QUANTITY} has {missingQuantity.sum()} missing values. Imputation required.\")"
   ]
  }
 ],
 "metadata": {
  "kernelspec": {
   "display_name": "Python 3",
   "language": "python",
   "name": "python3"
  },
  "language_info": {
   "codemirror_mode": {
    "name": "ipython",
    "version": 3
   },
   "file_extension": ".py",
   "mimetype": "text/x-python",
   "name": "python",
   "nbconvert_exporter": "python",
   "pygments_lexer": "ipython3",
   "version": "3.13.7"
  }
 },
 "nbformat": 4,
 "nbformat_minor": 5
}
