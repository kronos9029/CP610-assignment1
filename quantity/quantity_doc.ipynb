{
 "cells": [
  {
   "cell_type": "code",
   "execution_count": null,
   "id": "6098e6a0-8b20-4486-973c-a7e8e77359ba",
   "metadata": {},
   "outputs": [],
   "source": [
    "import pandas as pd\n"
   ]
  },
  {
   "cell_type": "code",
   "execution_count": 20,
   "id": "7c75f238-c52b-43ea-ab14-82bc614610d6",
   "metadata": {},
   "outputs": [],
   "source": [
    "# Load source data for quantity assessment\n",
    "data = pd.read_csv('../Deliverable1Dataset.csv')\n"
   ]
  },
  {
   "cell_type": "markdown",
   "id": "57b38898-3ff9-493b-aaa1-ab8241191b8b",
   "metadata": {},
   "source": [
    "### Quantify missing Quantity\n",
    "\n",
    "Determine the scale of missing entries in `Quantity` to size the remediation."
   ]
  },
  {
   "cell_type": "code",
   "execution_count": 21,
   "id": "5f9b8196-7bae-4e5a-9e15-3700a8ab03bd",
   "metadata": {},
   "outputs": [
    {
     "name": "stdout",
     "output_type": "stream",
     "text": [
      "Missing Quantity rows: 604 of 12575 (4.80%)\n"
     ]
    }
   ],
   "source": [
    "# Count missing Quantity values\n",
    "missing_quantity = data['Quantity'].isna()\n",
    "print(f'Missing Quantity rows: {missing_quantity.sum()} of {len(data)} ({missing_quantity.mean():.2%})')\n"
   ]
  },
  {
   "cell_type": "markdown",
   "id": "06f14014-035e-4c9f-ab3b-02732ee7b4fb",
   "metadata": {},
   "source": [
    "### Missingness mechanism\n",
    "\n",
    "Quantifying how often `Quantity` is missing within each `Category` and payment method shows whether the gaps are random or tied to observable traits. A non-uniform pattern implies MAR, signalling we should leverage those fields during imputation.\n"
   ]
  },
  {
   "cell_type": "code",
   "execution_count": 22,
   "id": "181a9c38-bba3-4dfd-b3ed-d5d2365adf92",
   "metadata": {},
   "outputs": [
    {
     "name": "stdout",
     "output_type": "stream",
     "text": [
      "Share of Quantity missing by Category (top 5):\n",
      "Category\n",
      "Patisserie                            0.056937\n",
      "Computers and electric accessories    0.051990\n",
      "Food                                  0.051008\n",
      "Electric household essentials         0.047140\n",
      "Butchers                              0.045918\n",
      "Name: missing_quantity, dtype: float64\n",
      "Share of Quantity missing by Payment Method:\n",
      "Payment Method\n",
      "Digital Wallet    0.048986\n",
      "Cash              0.048028\n",
      "Credit Card       0.047076\n",
      "Name: missing_quantity, dtype: float64\n",
      "Rows with Quantity missing and Price available: 604\n",
      "Rows with Quantity missing and Item missing: 604\n"
     ]
    }
   ],
   "source": [
    "# Compare missingness against related fields\n",
    "summary = data.assign(missing_quantity=missing_quantity).groupby('Category')['missing_quantity'].mean().sort_values(ascending=False)\n",
    "print('Share of Quantity missing by Category (top 5):')\n",
    "print(summary.head())\n",
    "payment_share = data.assign(missing_quantity=missing_quantity).groupby('Payment Method')['missing_quantity'].mean().sort_values(ascending=False)\n",
    "print('Share of Quantity missing by Payment Method:')\n",
    "print(payment_share)\n",
    "price_overlap = data.loc[missing_quantity, 'Price Per Unit'].isna().sum()\n",
    "item_overlap = data.loc[missing_quantity, 'Item'].isna().sum()\n",
    "print(f'Rows with Quantity missing and Price available: {missing_quantity.sum() - price_overlap}')\n",
    "print(f'Rows with Quantity missing and Item missing: {item_overlap}')\n"
   ]
  },
  {
   "cell_type": "markdown",
   "id": "06564968-ee23-4f85-9bce-d118c53c7bb6",
   "metadata": {},
   "source": [
    "`Quantity` absence tracks with specific categories and coincides with missing `Item`, indicating a Missing At Random (MAR) pattern driven by observable attributes."
   ]
  },
  {
   "cell_type": "markdown",
   "id": "6c794ac4-2070-4352-b071-4eed60292545",
   "metadata": {},
   "source": [
    "### Imputation strategy\n",
    "\n",
    "Median-based item profiles give stable quantity estimates while avoiding mean of skewed volumes.\n"
   ]
  },
  {
   "cell_type": "code",
   "execution_count": 23,
   "id": "f68cbb40-177b-40ec-bf4a-88d28acf04cb",
   "metadata": {},
   "outputs": [
    {
     "data": {
      "text/html": [
       "<div>\n",
       "<style scoped>\n",
       "    .dataframe tbody tr th:only-of-type {\n",
       "        vertical-align: middle;\n",
       "    }\n",
       "\n",
       "    .dataframe tbody tr th {\n",
       "        vertical-align: top;\n",
       "    }\n",
       "\n",
       "    .dataframe thead th {\n",
       "        text-align: right;\n",
       "    }\n",
       "</style>\n",
       "<table border=\"1\" class=\"dataframe\">\n",
       "  <thead>\n",
       "    <tr style=\"text-align: right;\">\n",
       "      <th></th>\n",
       "      <th>Transaction ID</th>\n",
       "      <th>Customer ID</th>\n",
       "      <th>Category</th>\n",
       "      <th>Item</th>\n",
       "      <th>Price Per Unit</th>\n",
       "      <th>Quantity</th>\n",
       "      <th>Total Spent</th>\n",
       "      <th>Payment Method</th>\n",
       "      <th>Location</th>\n",
       "      <th>Transaction Date</th>\n",
       "      <th>Discount Applied</th>\n",
       "      <th>Item_filled</th>\n",
       "    </tr>\n",
       "  </thead>\n",
       "  <tbody>\n",
       "    <tr>\n",
       "      <th>0</th>\n",
       "      <td>TXN_1002182</td>\n",
       "      <td>CUST_01</td>\n",
       "      <td>Food</td>\n",
       "      <td>Item_5_FOOD</td>\n",
       "      <td>11.0</td>\n",
       "      <td>5.0</td>\n",
       "      <td>55.0</td>\n",
       "      <td>Digital Wallet</td>\n",
       "      <td>In-store</td>\n",
       "      <td>2024-10-08</td>\n",
       "      <td>True</td>\n",
       "      <td>Item_5_FOOD</td>\n",
       "    </tr>\n",
       "    <tr>\n",
       "      <th>1</th>\n",
       "      <td>TXN_1003865</td>\n",
       "      <td>CUST_15</td>\n",
       "      <td>Furniture</td>\n",
       "      <td>Item_2_FUR</td>\n",
       "      <td>6.5</td>\n",
       "      <td>5.0</td>\n",
       "      <td>32.5</td>\n",
       "      <td>Cash</td>\n",
       "      <td>Online</td>\n",
       "      <td>2022-03-12</td>\n",
       "      <td>False</td>\n",
       "      <td>Item_2_FUR</td>\n",
       "    </tr>\n",
       "    <tr>\n",
       "      <th>2</th>\n",
       "      <td>TXN_1003940</td>\n",
       "      <td>CUST_06</td>\n",
       "      <td>Furniture</td>\n",
       "      <td>Item_5_FUR</td>\n",
       "      <td>11.0</td>\n",
       "      <td>9.0</td>\n",
       "      <td>99.0</td>\n",
       "      <td>Digital Wallet</td>\n",
       "      <td>Online</td>\n",
       "      <td>2022-04-22</td>\n",
       "      <td>False</td>\n",
       "      <td>Item_5_FUR</td>\n",
       "    </tr>\n",
       "    <tr>\n",
       "      <th>3</th>\n",
       "      <td>TXN_1004091</td>\n",
       "      <td>CUST_04</td>\n",
       "      <td>Food</td>\n",
       "      <td>Item_25_FOOD</td>\n",
       "      <td>41.0</td>\n",
       "      <td>3.0</td>\n",
       "      <td>123.0</td>\n",
       "      <td>Cash</td>\n",
       "      <td>In-store</td>\n",
       "      <td>2023-11-09</td>\n",
       "      <td>False</td>\n",
       "      <td>Item_25_FOOD</td>\n",
       "    </tr>\n",
       "    <tr>\n",
       "      <th>4</th>\n",
       "      <td>TXN_1004124</td>\n",
       "      <td>CUST_08</td>\n",
       "      <td>Computers and electric accessories</td>\n",
       "      <td>Item_7_CEA</td>\n",
       "      <td>14.0</td>\n",
       "      <td>5.0</td>\n",
       "      <td>70.0</td>\n",
       "      <td>Credit Card</td>\n",
       "      <td>In-store</td>\n",
       "      <td>2022-03-02</td>\n",
       "      <td>NaN</td>\n",
       "      <td>Item_7_CEA</td>\n",
       "    </tr>\n",
       "    <tr>\n",
       "      <th>5</th>\n",
       "      <td>TXN_1004284</td>\n",
       "      <td>CUST_15</td>\n",
       "      <td>Milk Products</td>\n",
       "      <td>Item_25_MILK</td>\n",
       "      <td>41.0</td>\n",
       "      <td>3.0</td>\n",
       "      <td>123.0</td>\n",
       "      <td>Cash</td>\n",
       "      <td>Online</td>\n",
       "      <td>2023-09-25</td>\n",
       "      <td>NaN</td>\n",
       "      <td>Item_25_MILK</td>\n",
       "    </tr>\n",
       "    <tr>\n",
       "      <th>6</th>\n",
       "      <td>TXN_1005543</td>\n",
       "      <td>CUST_19</td>\n",
       "      <td>Food</td>\n",
       "      <td>NaN</td>\n",
       "      <td>30.5</td>\n",
       "      <td>NaN</td>\n",
       "      <td>NaN</td>\n",
       "      <td>Cash</td>\n",
       "      <td>In-store</td>\n",
       "      <td>2022-12-03</td>\n",
       "      <td>True</td>\n",
       "      <td>Item_18_FOOD</td>\n",
       "    </tr>\n",
       "    <tr>\n",
       "      <th>7</th>\n",
       "      <td>TXN_1005750</td>\n",
       "      <td>CUST_04</td>\n",
       "      <td>Electric household essentials</td>\n",
       "      <td>Item_12_EHE</td>\n",
       "      <td>21.5</td>\n",
       "      <td>6.0</td>\n",
       "      <td>129.0</td>\n",
       "      <td>Credit Card</td>\n",
       "      <td>Online</td>\n",
       "      <td>2022-11-26</td>\n",
       "      <td>False</td>\n",
       "      <td>Item_12_EHE</td>\n",
       "    </tr>\n",
       "    <tr>\n",
       "      <th>8</th>\n",
       "      <td>TXN_1006123</td>\n",
       "      <td>CUST_04</td>\n",
       "      <td>Electric household essentials</td>\n",
       "      <td>Item_8_EHE</td>\n",
       "      <td>15.5</td>\n",
       "      <td>1.0</td>\n",
       "      <td>15.5</td>\n",
       "      <td>Cash</td>\n",
       "      <td>Online</td>\n",
       "      <td>2023-10-17</td>\n",
       "      <td>NaN</td>\n",
       "      <td>Item_8_EHE</td>\n",
       "    </tr>\n",
       "    <tr>\n",
       "      <th>9</th>\n",
       "      <td>TXN_1006129</td>\n",
       "      <td>CUST_21</td>\n",
       "      <td>Milk Products</td>\n",
       "      <td>Item_17_MILK</td>\n",
       "      <td>29.0</td>\n",
       "      <td>8.0</td>\n",
       "      <td>232.0</td>\n",
       "      <td>Digital Wallet</td>\n",
       "      <td>Online</td>\n",
       "      <td>2024-11-05</td>\n",
       "      <td>NaN</td>\n",
       "      <td>Item_17_MILK</td>\n",
       "    </tr>\n",
       "  </tbody>\n",
       "</table>\n",
       "</div>"
      ],
      "text/plain": [
       "  Transaction ID Customer ID                            Category  \\\n",
       "0    TXN_1002182     CUST_01                                Food   \n",
       "1    TXN_1003865     CUST_15                           Furniture   \n",
       "2    TXN_1003940     CUST_06                           Furniture   \n",
       "3    TXN_1004091     CUST_04                                Food   \n",
       "4    TXN_1004124     CUST_08  Computers and electric accessories   \n",
       "5    TXN_1004284     CUST_15                       Milk Products   \n",
       "6    TXN_1005543     CUST_19                                Food   \n",
       "7    TXN_1005750     CUST_04       Electric household essentials   \n",
       "8    TXN_1006123     CUST_04       Electric household essentials   \n",
       "9    TXN_1006129     CUST_21                       Milk Products   \n",
       "\n",
       "           Item  Price Per Unit  Quantity  Total Spent  Payment Method  \\\n",
       "0   Item_5_FOOD            11.0       5.0         55.0  Digital Wallet   \n",
       "1    Item_2_FUR             6.5       5.0         32.5            Cash   \n",
       "2    Item_5_FUR            11.0       9.0         99.0  Digital Wallet   \n",
       "3  Item_25_FOOD            41.0       3.0        123.0            Cash   \n",
       "4    Item_7_CEA            14.0       5.0         70.0     Credit Card   \n",
       "5  Item_25_MILK            41.0       3.0        123.0            Cash   \n",
       "6           NaN            30.5       NaN          NaN            Cash   \n",
       "7   Item_12_EHE            21.5       6.0        129.0     Credit Card   \n",
       "8    Item_8_EHE            15.5       1.0         15.5            Cash   \n",
       "9  Item_17_MILK            29.0       8.0        232.0  Digital Wallet   \n",
       "\n",
       "   Location Transaction Date Discount Applied   Item_filled  \n",
       "0  In-store       2024-10-08             True   Item_5_FOOD  \n",
       "1    Online       2022-03-12            False    Item_2_FUR  \n",
       "2    Online       2022-04-22            False    Item_5_FUR  \n",
       "3  In-store       2023-11-09            False  Item_25_FOOD  \n",
       "4  In-store       2022-03-02              NaN    Item_7_CEA  \n",
       "5    Online       2023-09-25              NaN  Item_25_MILK  \n",
       "6  In-store       2022-12-03             True  Item_18_FOOD  \n",
       "7    Online       2022-11-26            False   Item_12_EHE  \n",
       "8    Online       2023-10-17              NaN    Item_8_EHE  \n",
       "9    Online       2024-11-05              NaN  Item_17_MILK  "
      ]
     },
     "execution_count": 23,
     "metadata": {},
     "output_type": "execute_result"
    }
   ],
   "source": [
    "# Rebuild Item from Category+Price for a complete mapping\n",
    "item_lookup = (\n",
    "    data.dropna(subset=['Category', 'Price Per Unit', 'Item'])\n",
    "    .drop_duplicates(subset=['Category', 'Price Per Unit'])\n",
    "    .set_index(['Category', 'Price Per Unit'])['Item']\n",
    ")\n",
    "keys = pd.Series(list(zip(data['Category'], data['Price Per Unit'])), index=data.index)\n",
    "data['Item_filled'] = data['Item'].fillna(keys.map(item_lookup))\n",
    "data.head(10)\n"
   ]
  },
  {
   "cell_type": "markdown",
   "id": "f980f683-49ae-4eb2-8acf-5aea11a3996b",
   "metadata": {},
   "source": [
    "*Median advantages:* handles skew and returns typical basket counts.\n",
    "*Mean drawbacks:* inflated by occasional bulk orders; less representative.\n"
   ]
  },
  {
   "cell_type": "code",
   "execution_count": 25,
   "id": "026b6e37-2923-4e15-9ec8-847bfa2e4042",
   "metadata": {},
   "outputs": [
    {
     "name": "stdout",
     "output_type": "stream",
     "text": [
      "Sample item medians:\n",
      "Item\n",
      "Item_10_BEV     8.0\n",
      "Item_10_BUT     6.0\n",
      "Item_10_CEA     5.0\n",
      "Item_10_EHE     5.0\n",
      "Item_10_FOOD    5.0\n",
      "Name: Quantity, dtype: float64\n"
     ]
    }
   ],
   "source": [
    "# Derive per-item quantity medians (robust to outliers vs mean)\n",
    "item_quantity_median = (\n",
    "    data.loc[data['Quantity'].notna()]\n",
    "    .groupby('Item')['Quantity']\n",
    "    .median()\n",
    ")\n",
    "print('Sample item medians:')\n",
    "print(item_quantity_median.head())\n"
   ]
  },
  {
   "cell_type": "code",
   "execution_count": 26,
   "id": "36823055-d422-446d-aca1-7b1819d07b7e",
   "metadata": {},
   "outputs": [
    {
     "name": "stdout",
     "output_type": "stream",
     "text": [
      "Remaining missing Quantity after item-level imputation: 0\n"
     ]
    }
   ],
   "source": [
    "# Impute missing Quantity using the mapped Item medians\n",
    "data['Quantity_imputed'] = data['Quantity']\n",
    "needs_quantity = data['Quantity_imputed'].isna()\n",
    "data.loc[needs_quantity, 'Quantity_imputed'] = data.loc[needs_quantity, 'Item_filled'].map(item_quantity_median)\n",
    "remaining = data['Quantity_imputed'].isna().sum()\n",
    "print(f'Remaining missing Quantity after item-level imputation: {remaining}')\n"
   ]
  },
  {
   "cell_type": "markdown",
   "id": "6f6051ba-0964-4678-8ea0-4c8d63771d3c",
   "metadata": {},
   "source": [
    "If any rows remain (e.g., items lacking observed quantities), fall back to category-level medians."
   ]
  },
  {
   "cell_type": "code",
   "execution_count": 27,
   "id": "3a14f097-dbd5-4354-80f6-8178e2aa08a6",
   "metadata": {},
   "outputs": [
    {
     "name": "stdout",
     "output_type": "stream",
     "text": [
      "Category fallback not required; all quantities imputed from item medians.\n"
     ]
    }
   ],
   "source": [
    "# Fallback: category medians for any unresolved rows\n",
    "if remaining := data['Quantity_imputed'].isna().sum():\n",
    "    category_median = (\n",
    "        data.loc[data['Quantity'].notna()]\n",
    "        .groupby('Category')['Quantity']\n",
    "        .median()\n",
    "    )\n",
    "    print(category_median)\n",
    "    data.loc[data['Quantity_imputed'].isna(), 'Quantity_imputed'] = data.loc[data['Quantity_imputed'].isna(), 'Category'].map(category_median)\n",
    "    print('Remaining missing Quantity after category fallback:', data['Quantity_imputed'].isna().sum())\n",
    "else:\n",
    "    print('Category fallback not required; all quantities imputed from item medians.')\n"
   ]
  },
  {
   "cell_type": "markdown",
   "id": "1c08ba03-e37f-4e17-b72b-3bad706b270e",
   "metadata": {},
   "source": [
    "### Recalculate total spend\n",
    "\n",
    "Once `Quantity` is available, restore `Total Spent` for the same rows using the unit price."
   ]
  },
  {
   "cell_type": "code",
   "execution_count": 29,
   "id": "c8cbb297-4d3c-418d-8de6-b3378f7d6da9",
   "metadata": {},
   "outputs": [
    {
     "name": "stdout",
     "output_type": "stream",
     "text": [
      "Remaining missing Total Spent values: 0\n"
     ]
    }
   ],
   "source": [
    "data['Total Spent_imputed'] = data['Total Spent']\n",
    "needs_total = data['Total Spent_imputed'].isna()\n",
    "data.loc[needs_total, 'Total Spent_imputed'] = data.loc[needs_total, 'Quantity_imputed'] * data.loc[needs_total, 'Price Per Unit']\n",
    "print(f\"Remaining missing Total Spent values: {data['Total Spent_imputed'].isna().sum()}\")\n",
    "# Promote imputed values back into the main columns\n",
    "data['Quantity'] = data['Quantity_imputed']\n",
    "data['Total Spent'] = data['Total Spent_imputed']\n"
   ]
  },
  {
   "cell_type": "markdown",
   "id": "faa3a06e-f7d2-45de-a485-44d8643c9afe",
   "metadata": {},
   "source": [
    "### Persist results\n",
    "\n",
    "Store the imputed columns for downstream use."
   ]
  },
  {
   "cell_type": "code",
   "execution_count": 32,
   "id": "6d23f03f-62b6-4ba4-8efb-4c28617bd6c5",
   "metadata": {},
   "outputs": [
    {
     "name": "stdout",
     "output_type": "stream",
     "text": [
      "Dataset with imputed values saved to quantity/quantity_imputed.csv\n"
     ]
    }
   ],
   "source": [
    "# Persist dataset without helper imputation columns\n",
    "imputed_columns = [col for col in data.columns if col.endswith('_imputed')]\n",
    "item_filled_columns = [col for col in data.columns if col.endswith('_filled')]\n",
    "dataset_to_save = data.drop(columns=imputed_columns + item_filled_columns)\n",
    "dataset_to_save.to_csv('quantity_imputed.csv', index=False)\n",
    "print('Dataset with imputed values saved to quantity/quantity_imputed.csv')\n"
   ]
  },
  {
   "cell_type": "code",
   "execution_count": null,
   "id": "56b46a0c",
   "metadata": {},
   "outputs": [],
   "source": []
  }
 ],
 "metadata": {
  "kernelspec": {
   "display_name": "Python 3",
   "language": "python",
   "name": "python3"
  },
  "language_info": {
   "codemirror_mode": {
    "name": "ipython",
    "version": 3
   },
   "file_extension": ".py",
   "mimetype": "text/x-python",
   "name": "python",
   "nbconvert_exporter": "python",
   "pygments_lexer": "ipython3",
   "version": "3.9.6"
  }
 },
 "nbformat": 4,
 "nbformat_minor": 5
}
