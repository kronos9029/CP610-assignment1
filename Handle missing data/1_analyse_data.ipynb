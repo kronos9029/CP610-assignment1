{
 "cells": [
  {
   "metadata": {
    "collapsed": true,
    "ExecuteTime": {
     "end_time": "2025-10-02T19:32:36.233706Z",
     "start_time": "2025-10-02T19:32:36.229989Z"
    }
   },
   "cell_type": "markdown",
   "source": [
    "# Finding missing pattern\n",
    "## Data overview"
   ],
   "id": "ad201d177164c522"
  },
  {
   "metadata": {
    "ExecuteTime": {
     "end_time": "2025-10-02T19:34:47.106431Z",
     "start_time": "2025-10-02T19:34:46.888195Z"
    }
   },
   "cell_type": "code",
   "source": [
    "import pandas as pd\n",
    "\n",
    "from visualize_missing_data import columns_with_missing"
   ],
   "id": "22168f5eb4332670",
   "outputs": [],
   "execution_count": 2
  },
  {
   "metadata": {
    "ExecuteTime": {
     "end_time": "2025-10-02T19:56:46.530224Z",
     "start_time": "2025-10-02T19:56:46.504900Z"
    }
   },
   "cell_type": "code",
   "source": [
    "df = pd.read_csv(\"../Deliverable1Dataset.csv\")\n",
    "data = df.copy()"
   ],
   "id": "c541c7ececff7b85",
   "outputs": [],
   "execution_count": 14
  },
  {
   "metadata": {
    "ExecuteTime": {
     "end_time": "2025-10-02T19:56:58.461163Z",
     "start_time": "2025-10-02T19:56:58.452926Z"
    }
   },
   "cell_type": "code",
   "source": [
    "print(f'total rows: {data.shape[0]}')\n",
    "print(f'total columns: {data.shape[1]}')\n",
    "\n",
    "missing_counts = data.isnull().sum()\n",
    "missing_percentage = (missing_counts / len(data)) * 100\n",
    "\n",
    "report = pd.DataFrame({\n",
    "    \"Column\": data.columns,\n",
    "    \"Missing Count\": missing_counts.values,\n",
    "    \"Missing %\": missing_percentage.round(2).astype(str) + \"%\"\n",
    "})\n",
    "\n",
    "report = report[report[\"Missing Count\"] > 0]\n",
    "\n",
    "print(report.to_string(index=False))\n"
   ],
   "id": "e3c9fdf6d28284a7",
   "outputs": [
    {
     "name": "stdout",
     "output_type": "stream",
     "text": [
      "total rows: 12575\n",
      "total columns: 11\n",
      "          Column  Missing Count Missing %\n",
      "            Item           1213     9.65%\n",
      "  Price Per Unit            609     4.84%\n",
      "        Quantity            604      4.8%\n",
      "     Total Spent            604      4.8%\n",
      "Discount Applied           4199    33.39%\n"
     ]
    }
   ],
   "execution_count": 15
  },
  {
   "metadata": {},
   "cell_type": "markdown",
   "source": [
    "## Classification for missing data\n",
    "### 1. **Total Spent**"
   ],
   "id": "ed7a49c4fd2a45e4"
  },
  {
   "metadata": {
    "ExecuteTime": {
     "end_time": "2025-10-02T20:03:34.382188Z",
     "start_time": "2025-10-02T20:03:34.370885Z"
    }
   },
   "cell_type": "code",
   "outputs": [
    {
     "name": "stdout",
     "output_type": "stream",
     "text": [
      "Missing Total Spent rows: 604 of 12575 (4.80%)\n",
      "Rows with both Total Spent and Quantity missing: 604\n",
      "Total Spent missing: 604\n",
      "Perfect overlap: True\n",
      "\n",
      "Rows with both Total Spent and Price Per Unit missing: 0\n",
      "Rows with both Total Spent and Item missing: 604\n",
      "Percentage of Total Spent missing cases with Item also missing: 100.0%\n"
     ]
    }
   ],
   "execution_count": 17,
   "source": [
    "missing_total = data['Total Spent'].isna()\n",
    "\n",
    "print(f'Missing Total Spent rows: {missing_total.sum()} of {len(data)} ({missing_total.mean():.2%})')\n",
    "\n",
    "\n",
    "qty_overlap = (missing_total & data['Quantity'].isna()).sum()\n",
    "print(f'Rows with both Total Spent and Quantity missing: {qty_overlap}')\n",
    "print(f'Total Spent missing: {missing_total.sum()}')\n",
    "print(f'Perfect overlap: {qty_overlap == missing_total.sum()}')\n",
    "\n",
    "\n",
    "price_overlap = (missing_total & data['Price Per Unit'].isna()).sum()\n",
    "print(f'\\nRows with both Total Spent and Price Per Unit missing: {price_overlap}')\n",
    "\n",
    "\n",
    "item_overlap = (missing_total & data['Item'].isna()).sum()\n",
    "print(f'Rows with both Total Spent and Item missing: {item_overlap}')\n",
    "print(f'Percentage of Total Spent missing cases with Item also missing: {item_overlap / missing_total.sum():.1%}')"
   ],
   "id": "581fccdf6dec3d20"
  },
  {
   "metadata": {
    "ExecuteTime": {
     "end_time": "2025-10-02T20:08:35.405111Z",
     "start_time": "2025-10-02T20:08:35.400300Z"
    }
   },
   "cell_type": "code",
   "source": [
    "summary = data.assign(missing_total=missing_total).groupby('Category')['missing_total'].mean().sort_values(ascending=False)\n",
    "print('Percentage of Total Spent missing by Category:')\n",
    "print(summary)"
   ],
   "id": "cc885d1cdfccedde",
   "outputs": [
    {
     "name": "stdout",
     "output_type": "stream",
     "text": [
      "Percentage of Total Spent missing by Category:\n",
      "Category\n",
      "Patisserie                            0.056937\n",
      "Computers and electric accessories    0.051990\n",
      "Food                                  0.051008\n",
      "Electric household essentials         0.047140\n",
      "Butchers                              0.045918\n",
      "Beverages                             0.045310\n",
      "Milk Products                         0.044823\n",
      "Furniture                             0.041483\n",
      "Name: missing_total, dtype: float64\n"
     ]
    }
   ],
   "execution_count": 19
  },
  {
   "metadata": {},
   "cell_type": "markdown",
   "source": [
    "**Detection**\n",
    "- When the Quantity is missing, Total Spent is ALWAYS missing (604 records)\n",
    "- When the Item is missing, Total Spent and Quantity are missing as well (604 records)\n",
    "- This means that for some transactions where Item were not captured, the other fields like Quantity and Total Spent were also not recorded\n",
    "- The percentage of missingness in total spent are different between categories, few of them were higher than others.\n",
    "\n",
    "**Conclusion**\n",
    "- The missingness depends on the Total Spent field => Missing At Random (MAR)\n"
   ],
   "id": "e81a06dc3ce9350a"
  },
  {
   "metadata": {},
   "cell_type": "markdown",
   "source": "### 2. **Quantity**\n",
   "id": "691efa3090ddee6b"
  },
  {
   "metadata": {
    "ExecuteTime": {
     "end_time": "2025-10-02T20:11:39.337848Z",
     "start_time": "2025-10-02T20:11:39.332877Z"
    }
   },
   "cell_type": "code",
   "source": [
    "missing_qty_total = data['Quantity'].isna()\n",
    "\n",
    "summary_qty = data.assign(missing_qty_total=missing_qty_total).groupby('Category')['missing_qty_total'].mean().sort_values(ascending=False)\n",
    "print('Percentage of Quantity missing by Category:')\n",
    "print(summary_qty)"
   ],
   "id": "59c2478263658503",
   "outputs": [
    {
     "name": "stdout",
     "output_type": "stream",
     "text": [
      "Percentage of Quantity missing by Category:\n",
      "Category\n",
      "Patisserie                            0.056937\n",
      "Computers and electric accessories    0.051990\n",
      "Food                                  0.051008\n",
      "Electric household essentials         0.047140\n",
      "Butchers                              0.045918\n",
      "Beverages                             0.045310\n",
      "Milk Products                         0.044823\n",
      "Furniture                             0.041483\n",
      "Name: missing_qty_total, dtype: float64\n"
     ]
    }
   ],
   "execution_count": 21
  },
  {
   "metadata": {},
   "cell_type": "markdown",
   "source": [
    "**Detection**\n",
    "- Quantity has the same missingness with the Total Spent since it also depend on the Item. If the item was empty then the quantity also affected\n",
    "- The percentage of the missingness of Quantity also reflect the same trend of the Total Spent in each category\n",
    "\n",
    "**Conclusion**\n",
    "- Missing at Random (MAR) on Quantity"
   ],
   "id": "2cc42ddce5814366"
  },
  {
   "metadata": {},
   "cell_type": "markdown",
   "source": "### 3. **Price per Unit**\n",
   "id": "eea7c3e7c999af0"
  },
  {
   "metadata": {
    "ExecuteTime": {
     "end_time": "2025-10-02T20:17:09.213425Z",
     "start_time": "2025-10-02T20:17:09.208883Z"
    }
   },
   "cell_type": "code",
   "source": [
    "missing_ppu = data['Price Per Unit'].isna()\n",
    "\n",
    "print(f'Missing Price per Unit rows: {missing_ppu.sum()} of {len(data)} ({missing_ppu.mean():.2%})')"
   ],
   "id": "fc9837edf61ad886",
   "outputs": [
    {
     "name": "stdout",
     "output_type": "stream",
     "text": [
      "Missing Item rows: 1213 of 12575 (9.65%)\n",
      "Missing Price per Unit rows: 609 of 12575 (4.84%)\n"
     ]
    }
   ],
   "execution_count": 24
  },
  {
   "metadata": {},
   "cell_type": "markdown",
   "source": [
    "**Detection**\n",
    "- There was 609 observations that has the missing data, which overlap with the Total Spent and the Item\n",
    "- However the number of missing Price Per Unit also associate with the Item since whenever the Item is missing, the Price Per Unit also missing\n",
    "- The Price Per Unit can be reconstruct from Total Spent and Quantity by the formula \"Total Spent / Quantity\"\n",
    "\n",
    "**Conclusion**\n",
    "- Missing at Random (MAR) on the Price Per Unit"
   ],
   "id": "ae0f95f93b997043"
  },
  {
   "metadata": {},
   "cell_type": "markdown",
   "source": "### 4. **Item**",
   "id": "9b7957f2fedbdd99"
  },
  {
   "metadata": {
    "ExecuteTime": {
     "end_time": "2025-10-02T20:23:52.081725Z",
     "start_time": "2025-10-02T20:23:52.073616Z"
    }
   },
   "cell_type": "code",
   "source": [
    "missing_item_total = data['Item'].isna()\n",
    "\n",
    "summary_item = data.assign(missing_item_total=missing_item_total).groupby('Category')['missing_item_total'].mean().sort_values(ascending=False)\n",
    "print('Percentage of Item missing by Category:')\n",
    "print(summary_item)"
   ],
   "id": "545ecf5531e04c10",
   "outputs": [
    {
     "name": "stdout",
     "output_type": "stream",
     "text": [
      "Percentage of Item missing by Category:\n",
      "Category\n",
      "Patisserie                            0.104058\n",
      "Computers and electric accessories    0.103338\n",
      "Food                                  0.102015\n",
      "Milk Products                         0.100379\n",
      "Electric household essentials         0.096794\n",
      "Butchers                              0.093750\n",
      "Beverages                             0.089343\n",
      "Furniture                             0.082338\n",
      "Name: missing_item_total, dtype: float64\n"
     ]
    }
   ],
   "execution_count": 25
  },
  {
   "metadata": {},
   "cell_type": "markdown",
   "source": [
    "**Detection**\n",
    "- Missing rates are different between categories (some of the categories were having higher rate than others)\n",
    "- There are 1213 observations that missing the Item\n",
    "- However, the Item column is related to the Total Spent, Quantity with 604 cases and Price Per Unit with 609 cases\n",
    "- If the category is present, we can detect the value for item\n",
    "\n",
    "**Conclusion**\n",
    "- Missing at Random on the Item\n"
   ],
   "id": "e557ead5d6a348e1"
  },
  {
   "metadata": {},
   "cell_type": "markdown",
   "source": "### 5. **Discount Applied**",
   "id": "3e09149d9877dce0"
  },
  {
   "metadata": {
    "ExecuteTime": {
     "end_time": "2025-10-02T20:28:53.011673Z",
     "start_time": "2025-10-02T20:28:53.001770Z"
    }
   },
   "cell_type": "code",
   "source": [
    "missing_discount = data['Discount Applied'].isna()\n",
    "\n",
    "print(f'Missing Discount Applied rows: {missing_discount.sum()} of {len(data)} ({missing_discount.mean():.2%})')\n",
    "\n",
    "\n",
    "print(f'\\nDiscount Applied value distribution:')\n",
    "\n",
    "print(data['Discount Applied'].value_counts(dropna=False))"
   ],
   "id": "dbae0747de72e769",
   "outputs": [
    {
     "name": "stdout",
     "output_type": "stream",
     "text": [
      "Missing Discount Applied rows: 4199 of 12575 (33.39%)\n",
      "\n",
      "Discount Applied value distribution:\n",
      "Discount Applied\n",
      "True     4219\n",
      "NaN      4199\n",
      "False    4157\n",
      "Name: count, dtype: int64\n"
     ]
    }
   ],
   "execution_count": 26
  },
  {
   "metadata": {},
   "cell_type": "markdown",
   "source": [
    "**Detection**\n",
    "- All the records that have missing values were taken about 30% of the total records.\n",
    "- There is no missing relationship between Discount Applied with other fields\n",
    "- The missingness also does not depend on other fields or have any pattern\n",
    "\n",
    "**Conclusion**\n",
    "- Missing at completely at Random (MCAR) on the Discount Applied"
   ],
   "id": "f073bab43abe7c19"
  },
  {
   "metadata": {},
   "cell_type": "markdown",
   "source": "## The workflow for handling missing values",
   "id": "78bf7c1dc77db14b"
  },
  {
   "metadata": {},
   "cell_type": "markdown",
   "source": [
    "### 1. Total spent & Quantity\n",
    "- Since both of these columns have the same match (604 observations that has missing data about 4.8%)\n",
    "- Some of the observation can't be reconstruct using Item or Price Per Unit or Quantity\n",
    "\n",
    "**Method**: Listwise deletion (delete all invalid observations) because 4.8% is a small values which does not have any effect to the entire dataset (as long as less than 5%)\n",
    "\n",
    "**Impact**:\n",
    "- Remaining dataset: 11971 rows\n",
    "- Other 609 missing values in Item can be imputed\n",
    "\n",
    "\n",
    "### 2. Price Per Unit\n",
    "- Can be reconstructed using the formula \"Price = Total Spent / Quantity\"\n",
    "- Both Total Spent and Quantity will be available after the first step\n",
    "\n",
    "**Method**: Using the formula \"Price = Total Spent / Quantity\"\n",
    "\n",
    "**Impact**:\n",
    "- All the Price Per Unit values will be filled\n",
    "\n",
    "### 3. Item\n",
    "- There are 609 observations are missing Item after previous steps\n",
    "- All of them were having Price Per Unit, Quantity and Total Spent\n",
    "- Every missing Item retains a valid Category; per-category counts remain balanced (example: Milk Products 88, Food 81, Furniture 65)\n",
    "- Each category has at least one observed item, enabling deterministic filling via category-specific modes (e.g., Milk Products -> Item_16_MILK, Furniture -> Item_25_FUR)\n",
    "\n",
    "**Method**: Compute the most frequent item per category from observations and replace the missing item by mapping each category to the mapping between category and most frequent item.\n",
    "\n",
    "**Impact**:\n",
    "- Category and Item relationship will be preserved\n",
    "- No impact on other columns\n",
    "\n",
    "### 4. Discount Applied\n",
    "- Since it was missing completely at random (MCAR) and the missing percentage was large (more than 30%)\n",
    "\n",
    "**Method**:\n",
    "- Can create a new category named \"Unknown\" to handle the missingness, all the missing values will be reconstructed to \"Unknown\" category\n",
    "- Random imputation since the value of the column was binary\n",
    "\n",
    "**Impact**:\n",
    "- All the missing values were resolved\n",
    "\n"
   ],
   "id": "bd98ca4245b5e20b"
  },
  {
   "metadata": {},
   "cell_type": "code",
   "outputs": [],
   "execution_count": null,
   "source": "",
   "id": "d27cdd905fe50904"
  }
 ],
 "metadata": {
  "kernelspec": {
   "display_name": "Python 3",
   "language": "python",
   "name": "python3"
  },
  "language_info": {
   "codemirror_mode": {
    "name": "ipython",
    "version": 2
   },
   "file_extension": ".py",
   "mimetype": "text/x-python",
   "name": "python",
   "nbconvert_exporter": "python",
   "pygments_lexer": "ipython2",
   "version": "2.7.6"
  }
 },
 "nbformat": 4,
 "nbformat_minor": 5
}
