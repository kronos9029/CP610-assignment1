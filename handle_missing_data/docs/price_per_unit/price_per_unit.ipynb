{
 "cells": [
  {
   "cell_type": "code",
   "execution_count": 40,
   "id": "835a7c8a",
   "metadata": {},
   "outputs": [],
   "source": [
    "import pandas as pd\n",
    "import numpy as np\n"
   ]
  },
  {
   "cell_type": "code",
   "execution_count": 41,
   "id": "d9f5d8d7",
   "metadata": {},
   "outputs": [],
   "source": [
    "# Input file after dropping rows with missing Total Spent\n",
    "CSV_IN = \"../../output_data/1_total_spent/total_spent_cleaned.csv\"\n",
    "CSV_OUT = \"../../output_data/2_price_per_unit/price_per_unit_reconstructed.csv\"\n",
    "# Define columns name\n",
    "TOTAL_SPENT = \"Total Spent\"\n",
    "PRICE_PER_UNIT = \"Price Per Unit\"\n",
    "QUANTITY = \"Quantity\"\n",
    "CATEGORY = \"Category\"\n",
    "PAYMENT_METHOD = \"Payment Method\"\n",
    "LOCATION = \"Location\"\n",
    "ITEM = \"Item\"\n",
    "TRANSACTION_ID = \"Transaction ID\"\n",
    "\n",
    "# Define error\n",
    "COERCE_ERRORS = \"coerce\""
   ]
  },
  {
   "cell_type": "code",
   "execution_count": 42,
   "id": "395e5a8a",
   "metadata": {},
   "outputs": [],
   "source": [
    "df = pd.read_csv(CSV_IN)"
   ]
  },
  {
   "cell_type": "markdown",
   "id": "6ae57090",
   "metadata": {},
   "source": [
    "### Quantify missing Price Per Unit\n",
    "\n",
    "Determine the scale of missing entries in `Price Per Unit` after STEP 1 deletion. Assess whether deterministic reconstruction using the formula `Price = Total Spent ÷ Quantity` is feasible.\n"
   ]
  },
  {
   "cell_type": "code",
   "execution_count": 43,
   "id": "be011479",
   "metadata": {},
   "outputs": [
    {
     "name": "stdout",
     "output_type": "stream",
     "text": [
      "Missing Price Per Unit rows: 609 of 11971 (5.09%)\n",
      "\n",
      "Total Spent missing: 0 (should be 0)\n",
      "Quantity missing: 0 (should be 0)\n"
     ]
    }
   ],
   "source": [
    "# Convert column's values to numeric, coercing errors to NaN\n",
    "# col is each of the relevant columns\n",
    "for col in [PRICE_PER_UNIT, QUANTITY, TOTAL_SPENT]:\n",
    "    # pd.to_numeric converts values in col to numeric, with errors coerced to NaN\n",
    "    # df[col] accesses the target column\n",
    "    # errors=COERCE_ERRORS specifies that parsing errors are set to NaN\n",
    "    df[col] = pd.to_numeric(df[col], errors = COERCE_ERRORS)\n",
    "\n",
    "# Count missing Price Per Unit values\n",
    "# df[PRICE_PER_UNIT].isna() creates a boolean Series where True indicates missing values\n",
    "# .sum() counts the number of True values (i.e., missing entries)\n",
    "missingPrice = df[PRICE_PER_UNIT].isna()\n",
    "# len(df) returns the total number of rows in the dataset\n",
    "# .mean() on boolean Series gives the proportion of True values\n",
    "print(f'Missing Price Per Unit rows: {missingPrice.sum()} of {len(df)} ({missingPrice.mean():.2%})')\n",
    "\n",
    "# Verify that Total Spent and Quantity are complete (from STEP 1)\n",
    "print(f'\\nTotal Spent missing: {df[TOTAL_SPENT].isna().sum()} (should be 0)')\n",
    "print(f'Quantity missing: {df[QUANTITY].isna().sum()} (should be 0)')\n"
   ]
  },
  {
   "cell_type": "markdown",
   "id": "94eb9df8",
   "metadata": {},
   "source": [
    "### Missingness mechanism\n",
    "\n",
    "Quantifying how often `Price Per Unit` is missing within each `Category`, payment method, and location to understand if the pattern is random or systematic. This helps confirm the MAR classification from the overall analysis.\n"
   ]
  },
  {
   "cell_type": "code",
   "execution_count": 44,
   "id": "a74387de",
   "metadata": {},
   "outputs": [
    {
     "name": "stdout",
     "output_type": "stream",
     "text": [
      "Share of Price Per Unit missing by Category %:\n",
      "Category\n",
      "Milk Products                         5.82\n",
      "Computers and electric accessories    5.42\n",
      "Food                                  5.37\n",
      "Electric household essentials         5.21\n",
      "Butchers                              5.01\n",
      "Patisserie                            5.00\n",
      "Beverages                             4.61\n",
      "Furniture                             4.26\n",
      "Name: missingPrice, dtype: float64\n",
      "\n",
      "Share of Price Per Unit missing by Payment Method %:\n",
      "Payment Method\n",
      "Digital Wallet    5.71\n",
      "Credit Card       5.04\n",
      "Cash              4.53\n",
      "Name: missingPrice, dtype: float64\n",
      "\n",
      "Share of Price Per Unit missing by Location %:\n",
      "Location\n",
      "Online      5.32\n",
      "In-store    4.84\n",
      "Name: missingPrice, dtype: float64\n"
     ]
    }
   ],
   "source": [
    "# Analyze missingness patterns across categories\n",
    "# .assign creates a new column missingPrice with the boolean missing indicator\n",
    "# .groupby(CATEGORY) groups all rows by their category value\n",
    "# [missingPrice].mean() calculates the proportion of missing values per category\n",
    "# .sort_values(ascending=False) sorts categories by missing proportion (highest first)\n",
    "summary = df.assign(missingPrice=missingPrice).groupby(CATEGORY)['missingPrice'].mean().sort_values(ascending=False) * 100\n",
    "print('Share of Price Per Unit missing by Category %:')\n",
    "print(summary.round(2))\n",
    "\n",
    "# Analyze missingness patterns across payment methods\n",
    "# Same logic as above, but grouped by 'Payment Method'\n",
    "paymentShare = df.assign(missingPrice=missingPrice).groupby(PAYMENT_METHOD)['missingPrice'].mean().sort_values(ascending=False) * 100\n",
    "print('\\nShare of Price Per Unit missing by Payment Method %:')\n",
    "print(paymentShare.round(2))\n",
    "\n",
    "# Analyze missingness patterns across locations\n",
    "# Same logic as above, but grouped by 'Location'\n",
    "locationShare = df.assign(missingPrice=missingPrice).groupby(LOCATION)['missingPrice'].mean().sort_values(ascending=False) * 100\n",
    "print('\\nShare of Price Per Unit missing by Location %:')\n",
    "print(locationShare.round(2))\n"
   ]
  },
  {
   "cell_type": "markdown",
   "id": "356e72b7",
   "metadata": {},
   "source": [
    "### Co-missingness analysis\n",
    "\n",
    "Examining whether `Price Per Unit` is missing alongside other key fields, particularly `Item`. This helps confirm the systematic pattern identified in the overall analysis.\n"
   ]
  },
  {
   "cell_type": "code",
   "execution_count": 45,
   "id": "2e3db55a",
   "metadata": {},
   "outputs": [
    {
     "name": "stdout",
     "output_type": "stream",
     "text": [
      "Rows with both Price Per Unit and Item missing: 609\n",
      "Price Per Unit missing: 609\n",
      "Perfect overlap: True\n",
      "Overlap percentage: 100.0%\n",
      "\n",
      "Rows with both Price Per Unit and Total Spent missing: 0 (should be 0)\n",
      "Rows with both Price Per Unit and Quantity missing: 0 (should be 0)\n"
     ]
    }
   ],
   "source": [
    "# Check co-missingness with Item\n",
    "# missingPrice & df['Item'].isna() creates boolean Series that is True only when BOTH are missing\n",
    "# .sum() counts how many rows have both fields missing\n",
    "# Perfect overlap would mean all missing Price Per Unit also have missing Item\n",
    "itemOverlap = (missingPrice & df[ITEM].isna()).sum()\n",
    "print(f'Rows with both Price Per Unit and Item missing: {itemOverlap}')\n",
    "print(f'Price Per Unit missing: {missingPrice.sum()}')\n",
    "print(f'Perfect overlap: {itemOverlap == missingPrice.sum()}')\n",
    "print(f'Overlap percentage: {itemOverlap / missingPrice.sum():.1%}')\n",
    "\n",
    "# Check co-missingness with Total Spent (should be 0 after STEP 1)\n",
    "# Count rows where both Price Per Unit and Total Spent are missing\n",
    "totalOverlap = (missingPrice & df[TOTAL_SPENT].isna()).sum()\n",
    "print(f'\\nRows with both Price Per Unit and Total Spent missing: {totalOverlap} (should be 0)')\n",
    "\n",
    "# Check co-missingness with Quantity (should be 0 after STEP 1)\n",
    "# Count rows where both Price Per Unit and Quantity are missing\n",
    "qtyOverlap = (missingPrice & df[QUANTITY].isna()).sum()\n",
    "print(f'Rows with both Price Per Unit and Quantity missing: {qtyOverlap} (should be 0)')\n"
   ]
  },
  {
   "cell_type": "markdown",
   "id": "67b1dbe5",
   "metadata": {},
   "source": [
    "### Reconstructability assessment\n",
    "\n",
    "Since `Price Per Unit = Total Spent ÷ Quantity`, assess how many missing `Price Per Unit` values can be deterministically reconstructed. After STEP 1, both Total Spent and Quantity are guaranteed to be complete, making 100% reconstruction possible.\n"
   ]
  },
  {
   "cell_type": "code",
   "execution_count": 46,
   "id": "67702d6f",
   "metadata": {},
   "outputs": [
    {
     "name": "stdout",
     "output_type": "stream",
     "text": [
      "Missing Price Per Unit that CAN be reconstructed: 609 out of 609\n",
      "Reconstruction rate: 100.0%\n",
      "\n",
      "✓ No division by zero issues: All 609 missing prices can be safely reconstructed\n"
     ]
    }
   ],
   "source": [
    "# Check if Price Per Unit can be reconstructed from Total Spent and Quantity\n",
    "# For reconstruction, we need Price Per Unit to be missing BUT both Total and Quantity to be present\n",
    "# missingPrice ensures Price Per Unit is missing\n",
    "# df[TOTAAL_SPENT].notna() ensures Total Spent is NOT missing\n",
    "# df[QUANTITY].notna() ensures Quantity is NOT missing\n",
    "# & combines all three conditions (all must be True)\n",
    "reconstructable = missingPrice & df[TOTAL_SPENT].notna() & df[QUANTITY].notna()\n",
    "reconstructableCount = reconstructable.sum()\n",
    "\n",
    "print(f'Missing Price Per Unit that CAN be reconstructed: {reconstructableCount} out of {missingPrice.sum()}')\n",
    "print(f'Reconstruction rate: {reconstructableCount / missingPrice.sum():.1%}')\n",
    "\n",
    "# Check for any cases where Quantity is zero (division by zero issue)\n",
    "# df[QUANTITY] == 0 creates boolean Series where True indicates zero quantity\n",
    "# This would cause division by zero when calculating Price = Total / Quantity\n",
    "zeroQty = missingPrice & (df[QUANTITY] == 0)\n",
    "zeroQtyCount = zeroQty.sum()\n",
    "\n",
    "if zeroQtyCount > 0:\n",
    "    print(f'\\n⚠ Warning: {zeroQtyCount} rows have missing Price with Quantity = 0')\n",
    "    print('  These cannot be reconstructed due to division by zero')\n",
    "else:\n",
    "    print(f'\\n✓ No division by zero issues: All {reconstructableCount} missing prices can be safely reconstructed')\n"
   ]
  },
  {
   "cell_type": "markdown",
   "id": "b74ffb8b",
   "metadata": {},
   "source": [
    "### Missing data classification\n",
    "\n",
    "**Classification: MAR (Missing At Random)**\n",
    "\n",
    "**Rationale:**\n",
    "- **Perfect overlap with Item field:** All 609 missing Price Per Unit values occur when Item is also missing (100% co-missingness)\n",
    "- Missing rates vary by category (4.09%-5.56%), with Milk Products showing the highest rate\n",
    "- The missingness depends on the Item field (an observable variable)\n",
    "- Not MCAR because missing rates are not uniform across categories\n",
    "- Not MNAR because the missingness is explained by the Item field status, not by the price values themselves\n",
    "\n",
    "**Key finding:** When `Item` was not recorded during data collection, `Price Per Unit` was also systematically omitted. However, since both `Total Spent` and `Quantity` are present, we can deterministically reconstruct all missing prices with zero estimation error.\n"
   ]
  },
  {
   "cell_type": "markdown",
   "id": "95f33d4e",
   "metadata": {},
   "source": [
    "### Handling strategy: Deterministic imputation\n",
    "\n",
    "**Justification for formula-based reconstruction (not statistical imputation):**\n",
    "\n",
    "1. **Mathematical relationship exists:** `Price Per Unit = Total Spent ÷ Quantity` is a known, exact formula\n",
    "2. **Zero estimation error:** This is not imputation—it's reconstruction of a calculable value\n",
    "3. **100% reconstructable:** All 609 missing prices can be calculated exactly (both Total and Quantity present)\n",
    "4. **Maintains data integrity:** The reconstructed values perfectly satisfy the mathematical relationship\n",
    "5. **Best practice:** When deterministic relationships exist, always use them before statistical methods\n",
    "\n",
    "**Why not statistical imputation:**\n",
    "- No need for mean/median/mode imputation when exact values can be calculated\n",
    "- Statistical methods introduce estimation error; formula-based reconstruction has zero error\n",
    "- Maintains perfect mathematical consistency across the dataset\n"
   ]
  },
  {
   "cell_type": "code",
   "execution_count": 47,
   "id": "b8291e5f",
   "metadata": {},
   "outputs": [
    {
     "name": "stdout",
     "output_type": "stream",
     "text": [
      "Sample of rows with missing Price Per Unit (to be reconstructed):\n",
      "================================================================================\n",
      "    Transaction ID                            Category Item  Price Per Unit  \\\n",
      "12     TXN_1007496                            Butchers  NaN             NaN   \n",
      "50     TXN_1032287                                Food  NaN             NaN   \n",
      "68     TXN_1044590       Electric household essentials  NaN             NaN   \n",
      "70     TXN_1046262                       Milk Products  NaN             NaN   \n",
      "71     TXN_1046367  Computers and electric accessories  NaN             NaN   \n",
      "76     TXN_1051223                          Patisserie  NaN             NaN   \n",
      "87     TXN_1058643                                Food  NaN             NaN   \n",
      "104    TXN_1071762                           Beverages  NaN             NaN   \n",
      "134    TXN_1095879                           Beverages  NaN             NaN   \n",
      "136    TXN_1096977                                Food  NaN             NaN   \n",
      "\n",
      "     Quantity  Total Spent  \n",
      "12       10.0        155.0  \n",
      "50        2.0         43.0  \n",
      "68        4.0         56.0  \n",
      "70        5.0         70.0  \n",
      "71       10.0        185.0  \n",
      "76        9.0         45.0  \n",
      "87        2.0         19.0  \n",
      "104       3.0         28.5  \n",
      "134      10.0         65.0  \n",
      "136       9.0        207.0  \n",
      "\n",
      "Observations about rows to be reconstructed:\n",
      "- All have missing Item (100% co-missingness)\n",
      "- All have complete Total Spent and Quantity\n",
      "- Price Per Unit can be calculated: Total Spent ÷ Quantity\n",
      "- Zero estimation error (deterministic reconstruction)\n"
     ]
    }
   ],
   "source": [
    "# Display sample of rows to be imputed\n",
    "print('Sample of rows with missing Price Per Unit (to be reconstructed):')\n",
    "print('=' * 80)\n",
    "# df[missingPrice] filters to show only rows where Price Per Unit is missing\n",
    "# .head(10) shows the first 10 such rows\n",
    "# This allows visual inspection of the data before reconstruction\n",
    "print(df[missingPrice][[TRANSACTION_ID, CATEGORY, ITEM, PRICE_PER_UNIT, QUANTITY, TOTAL_SPENT]].head(10))\n",
    "\n",
    "print('\\nObservations about rows to be reconstructed:')\n",
    "print('- All have missing Item (100% co-missingness)')\n",
    "print('- All have complete Total Spent and Quantity')\n",
    "print('- Price Per Unit can be calculated: Total Spent ÷ Quantity')\n",
    "print('- Zero estimation error (deterministic reconstruction)')\n"
   ]
  },
  {
   "cell_type": "code",
   "execution_count": 48,
   "id": "d3dda2a5",
   "metadata": {},
   "outputs": [
    {
     "name": "stdout",
     "output_type": "stream",
     "text": [
      "Price Per Unit missing before reconstruction: 609\n",
      "\n",
      "Price Per Unit missing after reconstruction: 0\n",
      "Values successfully reconstructed: 609\n",
      "Reconstruction success rate: 100.0%\n"
     ]
    }
   ],
   "source": [
    "# Count missing values before imputation\n",
    "# missingPrice.sum() gives the total number of missing Price Per Unit values\n",
    "priceMissingBefore = missingPrice.sum()\n",
    "print(f'Price Per Unit missing before reconstruction: {priceMissingBefore}')\n",
    "\n",
    "# Perform deterministic imputation using the mathematical formula\n",
    "# Create a filter for rows where Price Per Unit is missing\n",
    "# .loc[filter, column] allows us to update specific rows and columns\n",
    "# df.loc[missingPrice, TOTAL_SPENT] / df.loc[missingPrice, QUANTITY] performs element-wise division\n",
    "# This calculates: Price = Total ÷ Quantity for each missing row\n",
    "df.loc[missingPrice, PRICE_PER_UNIT] = df.loc[missingPrice, TOTAL_SPENT] / df.loc[missingPrice, QUANTITY]\n",
    "\n",
    "# Count missing values after imputation\n",
    "# df[PRICE_PER_UNIT].isna().sum() recounts missing values after reconstruction\n",
    "priceMissingAfter = df[PRICE_PER_UNIT].isna().sum()\n",
    "# Calculate how many values were successfully reconstructed\n",
    "valuesReconstructed = priceMissingBefore - priceMissingAfter\n",
    "\n",
    "print(f'\\nPrice Per Unit missing after reconstruction: {priceMissingAfter}')\n",
    "print(f'Values successfully reconstructed: {valuesReconstructed}')\n",
    "print(f'Reconstruction success rate: {valuesReconstructed / priceMissingBefore:.1%}')\n"
   ]
  },
  {
   "cell_type": "markdown",
   "id": "3ab5e64e",
   "metadata": {},
   "source": [
    "### Validation: Verify reconstruction accuracy\n",
    "\n",
    "Verify that the reconstructed Price Per Unit values are correct by checking mathematical consistency across ALL rows (both originally complete and newly reconstructed).\n"
   ]
  },
  {
   "cell_type": "code",
   "execution_count": 49,
   "id": "d73b7e78",
   "metadata": {},
   "outputs": [
    {
     "name": "stdout",
     "output_type": "stream",
     "text": [
      "Missing value check after reconstruction:\n",
      "================================================================================\n",
      "Price Per Unit missing: 0\n",
      "Total Spent missing: 0\n",
      "Quantity missing: 0\n",
      "\n",
      "✓ Price Per Unit is now 100% complete: True\n",
      "\n",
      "================================================================================\n",
      "Mathematical Consistency Validation:\n",
      "================================================================================\n",
      "Rows with complete numeric fields: 11971 out of 11971\n",
      "Rows with mathematical inconsistency (diff > 0.01): 0\n",
      "Mathematical consistency rate: 100.00%\n",
      "\n",
      "✓ Perfect accuracy: All rows satisfy Total Spent = Price Per Unit × Quantity\n",
      "✓ Zero estimation error achieved through deterministic reconstruction\n"
     ]
    }
   ],
   "source": [
    "# Verify Price Per Unit is now complete\n",
    "print('Missing value check after reconstruction:')\n",
    "print('=' * 80)\n",
    "print(f'{PRICE_PER_UNIT} missing: {df[PRICE_PER_UNIT].isna().sum()}')\n",
    "print(f'{TOTAL_SPENT} missing: {df[TOTAL_SPENT].isna().sum()}')\n",
    "print(f'{QUANTITY} missing: {df[QUANTITY].isna().sum()}')\n",
    "print(f'\\n✓ {PRICE_PER_UNIT} is now 100% complete: {df[PRICE_PER_UNIT].isna().sum() == 0}')\n",
    "\n",
    "# Mathematical consistency check\n",
    "# Verify that Total Spent = Price Per Unit × Quantity for ALL rows\n",
    "print('\\n' + '=' * 80)\n",
    "print('Mathematical Consistency Validation:')\n",
    "print('=' * 80)\n",
    "\n",
    "# Create filter for rows with all three fields present\n",
    "# .notna() returns True where values are NOT missing\n",
    "# .all(axis=1) checks if all three conditions are True for each row\n",
    "completeRows = df[[PRICE_PER_UNIT, QUANTITY, TOTAL_SPENT]].notna().all(axis=1)\n",
    "dataComplete = df[completeRows].copy()\n",
    "\n",
    "print(f'Rows with complete numeric fields: {len(dataComplete)} out of {len(df)}')\n",
    "\n",
    "# Calculate expected Total Spent using reconstructed prices\n",
    "# element-wise multiplication\n",
    "dataComplete['Calculated Total'] = dataComplete[PRICE_PER_UNIT] * dataComplete[QUANTITY]\n",
    "\n",
    "# Calculate absolute difference between actual and calculated\n",
    "dataComplete['Difference'] = (dataComplete[TOTAL_SPENT] - dataComplete['Calculated Total']).abs()\n",
    "\n",
    "# Count rows with significant differences (> 0.01 to account for floating point precision)\n",
    "inconsistent = (dataComplete['Difference'] > 0.01).sum()\n",
    "\n",
    "mathConsistencyRate = ((len(dataComplete) - inconsistent) / len(dataComplete) * 100) if len(dataComplete) > 0 else 0.0\n",
    "print(f'Rows with mathematical inconsistency (diff > 0.01): {inconsistent}')\n",
    "print(f'Mathematical consistency rate: {mathConsistencyRate:.2f}%')\n",
    "\n",
    "if inconsistent == 0:\n",
    "    print('\\n✓ Perfect accuracy: All rows satisfy Total Spent = Price Per Unit × Quantity')\n",
    "    print('✓ Zero estimation error achieved through deterministic reconstruction')\n",
    "else:\n",
    "    print(f'\\n⚠ Warning: {inconsistent} rows have inconsistent calculations')\n",
    "    print('Sample of inconsistent rows:')\n",
    "    print(dataComplete[dataComplete['Difference'] > 0.01][[PRICE_PER_UNIT, QUANTITY, TOTAL_SPENT, 'Calculated Total', 'Difference']].head())\n",
    "\n",
    "# Provide alias expected by downstream cells (use predefined camel-case missingPrice)\n",
    "# downstream cells use `missingPrice`, so set it to the existing `missingPrice`\n",
    "missingPrice = missingPrice\n"
   ]
  },
  {
   "cell_type": "markdown",
   "id": "c265de0a",
   "metadata": {},
   "source": [
    "### Sample inspection: Before and after reconstruction\n",
    "\n",
    "Display sample rows that were reconstructed to verify the calculation worked correctly.\n"
   ]
  },
  {
   "cell_type": "code",
   "execution_count": 50,
   "id": "9c5d8cae",
   "metadata": {},
   "outputs": [
    {
     "name": "stdout",
     "output_type": "stream",
     "text": [
      "Sample of rows after Price Per Unit reconstruction:\n",
      "================================================================================\n",
      "    Transaction ID                            Category Item  Price Per Unit  \\\n",
      "12     TXN_1007496                            Butchers  NaN            15.5   \n",
      "50     TXN_1032287                                Food  NaN            21.5   \n",
      "68     TXN_1044590       Electric household essentials  NaN            14.0   \n",
      "70     TXN_1046262                       Milk Products  NaN            14.0   \n",
      "71     TXN_1046367  Computers and electric accessories  NaN            18.5   \n",
      "76     TXN_1051223                          Patisserie  NaN             5.0   \n",
      "87     TXN_1058643                                Food  NaN             9.5   \n",
      "104    TXN_1071762                           Beverages  NaN             9.5   \n",
      "134    TXN_1095879                           Beverages  NaN             6.5   \n",
      "136    TXN_1096977                                Food  NaN            23.0   \n",
      "\n",
      "     Quantity  Total Spent  \n",
      "12       10.0        155.0  \n",
      "50        2.0         43.0  \n",
      "68        4.0         56.0  \n",
      "70        5.0         70.0  \n",
      "71       10.0        185.0  \n",
      "76        9.0         45.0  \n",
      "87        2.0         19.0  \n",
      "104       3.0         28.5  \n",
      "134      10.0         65.0  \n",
      "136       9.0        207.0  \n",
      "\n",
      "Verification:\n",
      "  Row 12: 15.50 × 10 = 155.00 (actual: 155.00) ✓\n",
      "  Row 50: 21.50 × 2 = 43.00 (actual: 43.00) ✓\n",
      "  Row 68: 14.00 × 4 = 56.00 (actual: 56.00) ✓\n",
      "  Row 70: 14.00 × 5 = 70.00 (actual: 70.00) ✓\n",
      "  Row 71: 18.50 × 10 = 185.00 (actual: 185.00) ✓\n"
     ]
    }
   ],
   "source": [
    "# Display sample of reconstructed rows\n",
    "print('Sample of rows after Price Per Unit reconstruction:')\n",
    "print('=' * 80)\n",
    "# missingPrice is still the original boolean filter (before reconstruction)\n",
    "# Use it to show the same rows, now with reconstructed prices\n",
    "print(df[missingPrice][[TRANSACTION_ID, CATEGORY, ITEM, PRICE_PER_UNIT, QUANTITY, TOTAL_SPENT]].head(10))\n",
    "\n",
    "print('\\nVerification:')\n",
    "# For each row shown above, manually verify the calculation\n",
    "# Select a few rows and show that Price × Quantity = Total\n",
    "sampleData = df[missingPrice].head(5)\n",
    "for idx, row in sampleData.iterrows():\n",
    "    # row[PRICE_PER_UNIT] is the reconstructed price\n",
    "    # row[QUANTITY] is the given quantity\n",
    "    # row[TOTAL_SPENT] is the given total\n",
    "    calculated = row[PRICE_PER_UNIT] * row[QUANTITY]\n",
    "    actual = row[TOTAL_SPENT]\n",
    "    # Compare calculated vs actual (should be very close, accounting for floating point precision)\n",
    "    print(f\"  Row {idx}: {row[PRICE_PER_UNIT]:.2f} × {row[QUANTITY]:.0f} = {calculated:.2f} (actual: {actual:.2f}) ✓\")\n"
   ]
  },
  {
   "cell_type": "markdown",
   "id": "10b5b32d",
   "metadata": {},
   "source": [
    "### Impact on remaining missing values\n",
    "\n",
    "Analyze the current state of missing data after Price Per Unit reconstruction. Only `Item` should have missing values remaining (609 rows).\n"
   ]
  },
  {
   "cell_type": "code",
   "execution_count": 51,
   "id": "e457c363",
   "metadata": {},
   "outputs": [
    {
     "name": "stdout",
     "output_type": "stream",
     "text": [
      "Current missing value status across all columns:\n",
      "================================================================================\n",
      "Columns with missing values:\n",
      "  Item                          :   609 ( 5.09%)\n",
      "  Discount Applied              :  3988 (33.31%)\n",
      "\n",
      "================================================================================\n",
      "Summary of STEP 2 completion:\n",
      "================================================================================\n",
      "✓ Price Per Unit: 100% complete (was 5.09%, reconstructed 609 values)\n",
      "✓ Total Spent: 100% complete (from STEP 1)\n",
      "✓ Quantity: 100% complete (from STEP 1)\n",
      "  Item: 609 missing (5.09%) - to be handled in STEP 3\n"
     ]
    }
   ],
   "source": [
    "print('Current missing value status across all columns:')\n",
    "print('=' * 80)\n",
    "\n",
    "# Check all columns for missing values\n",
    "# .isnull().sum() counts missing values for each column\n",
    "missingSummary = df.isnull().sum()\n",
    "# Filter to show only columns with missing values\n",
    "missingCols = missingSummary[missingSummary > 0]\n",
    "\n",
    "if len(missingCols) > 0:\n",
    "    print('Columns with missing values:')\n",
    "    for col, count in missingCols.items():\n",
    "        # Calculate percentage of missing values\n",
    "        pct = (count / len(df)) * 100\n",
    "        print(f'  {col:30s}: {count:5d} ({pct:5.2f}%)')\n",
    "else:\n",
    "    print('✓ No missing values in any column')\n",
    "\n",
    "print('\\n' + '=' * 80)\n",
    "print('Summary of STEP 2 completion:')\n",
    "print('=' * 80)\n",
    "print(f'✓ Price Per Unit: 100% complete (was 5.09%, reconstructed 609 values)')\n",
    "print(f'✓ Total Spent: 100% complete (from STEP 1)')\n",
    "print(f'✓ Quantity: 100% complete (from STEP 1)')\n",
    "print(f'  Item: {df[ITEM].isna().sum()} missing ({(df[ITEM].isna().sum()/len(df)*100):.2f}%) - to be handled in STEP 3')\n"
   ]
  },
  {
   "cell_type": "markdown",
   "id": "51fbb35e",
   "metadata": {},
   "source": [
    "### Persist results\n",
    "\n",
    "Save the dataset with Price Per Unit reconstructed. This becomes the input for STEP 3 (Item imputation).\n"
   ]
  },
  {
   "cell_type": "code",
   "execution_count": 52,
   "id": "21f0862f",
   "metadata": {},
   "outputs": [
    {
     "name": "stdout",
     "output_type": "stream",
     "text": [
      "✓ Dataset with Price Per Unit reconstructed saved to ../../output_data/2_price_per_unit/price_per_unit_reconstructed.csv\n",
      "  Final row count: 11971\n",
      "  Price Per Unit: 100% complete (609 values reconstructed)\n",
      "  Ready for next step: Item imputation (STEP 3)\n"
     ]
    }
   ],
   "source": [
    "# Save dataset with Price Per Unit reconstructed to CSV\n",
    "# to_csv writes the DataFrame to a CSV file\n",
    "# index=False prevents writing row numbers as a column\n",
    "# This creates the output file that will be used in STEP 3 (Item imputation)\n",
    "df.to_csv(CSV_OUT, index=False)\n",
    "print(f'✓ Dataset with Price Per Unit reconstructed saved to {CSV_OUT}')\n",
    "print(f'  Final row count: {len(df)}')\n",
    "print(f'  Price Per Unit: 100% complete (609 values reconstructed)')\n",
    "print(f'  Ready for next step: Item imputation (STEP 3)')\n"
   ]
  },
  {
   "cell_type": "markdown",
   "id": "3f04e19f",
   "metadata": {},
   "source": [
    "### Summary\n",
    "\n",
    "**Price Per Unit Handling - STEP 2 Complete**\n",
    "\n",
    "**Classification:** MAR (Missing At Random)\n",
    "- Missingness depends on Item field (observable variable)\n",
    "- Perfect co-missingness with Item (100% overlap)\n",
    "- Missing rates vary by category (4.09%-5.56%)\n",
    "\n",
    "**Method:** Deterministic reconstruction using formula\n",
    "- Formula: `Price Per Unit = Total Spent ÷ Quantity`\n",
    "- Reconstructed 609 values (100% of missing prices)\n",
    "- Zero estimation error\n",
    "\n",
    "**Justification:**\n",
    "- Mathematical relationship exists and is exact\n",
    "- Both Total Spent and Quantity are 100% complete (from STEP 1)\n",
    "- No statistical imputation needed when exact calculation is possible\n",
    "- Maintains perfect mathematical consistency\n",
    "\n",
    "**Validation results:**\n",
    "- ✓ All 609 missing prices successfully reconstructed\n",
    "- ✓ 100% mathematical consistency: Total = Price × Quantity\n",
    "- ✓ Zero reconstruction errors\n",
    "- ✓ Price Per Unit is now 100% complete\n",
    "\n",
    "**Next steps:**\n",
    "1. STEP 3: Impute Item using mode by Category (609 missing values)\n",
    "2. STEP 4: Handle Discount Applied as \"Unknown\" category\n"
   ]
  },
  {
   "cell_type": "markdown",
   "id": "9fc6702a",
   "metadata": {},
   "source": []
  }
 ],
 "metadata": {
  "kernelspec": {
   "display_name": "Python 3",
   "language": "python",
   "name": "python3"
  },
  "language_info": {
   "codemirror_mode": {
    "name": "ipython",
    "version": 3
   },
   "file_extension": ".py",
   "mimetype": "text/x-python",
   "name": "python",
   "nbconvert_exporter": "python",
   "pygments_lexer": "ipython3",
   "version": "3.13.7"
  }
 },
 "nbformat": 4,
 "nbformat_minor": 5
}
