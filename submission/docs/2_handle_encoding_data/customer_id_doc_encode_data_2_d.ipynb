{
 "cells": [
  {
   "cell_type": "markdown",
   "id": "09493eb2",
   "metadata": {},
   "source": [
    "# Target Encoding — **Customer ID** (LOO) based on *Total Spent*\n",
    "\n",
    "> Pipeline position: Run this **after** finish `Discount Applied`  imputation.  \n",
    "> Input: `final_cleaned_dataset.csv` → Output: `encoded_customer_id_dataset.csv`\n",
    "\n",
    "---\n",
    "\n",
    "- Encode `Customer ID` (categorical) into a numeric signal that reflects its association with `Total Spent`.\n",
    "- Use **Leave-One-Out** to reduce target leakage and overfitting.\n",
    "- Keep the original `Customer ID` column and **add** a new encoded feature for modelling.\n",
    "- We choose LOO because:\n",
    "  + Customer ID is an identifier → just a label, not predictive.\n",
    "  + K-Fold is more complex and mainly useful for predictive categories (like Item or Region), not for identifiers.\n",
    "  + LOO is simple → each row is encoded using the mean of other rows with the same ID, avoiding self-leakage."
   ]
  },
  {
   "cell_type": "code",
   "execution_count": null,
   "id": "43d27d9485a2568",
   "metadata": {},
   "outputs": [],
   "source": "# === Setup: libraries & file names ===\nimport pandas as pd\nimport numpy as np\nfrom pathlib import Path\n\n# Input/Output\nCSV_IN = Path(\"../../output/1_handle_missing_data/final_cleaned_dataset.csv\")\nCSV_OUT = Path(\"../../output/2_handle_encoding_data/encoded_customer_id_dataset.csv\")\n\n# Column names\nCUSTOMER_ID = \"Customer ID\"\nTARGET_COL  = \"Total Spent\"\nENCODED_COL = \"Customer ID Target Encoded\""
  },
  {
   "cell_type": "code",
   "execution_count": 28,
   "id": "9f32e449",
   "metadata": {},
   "outputs": [],
   "source": [
    "# === Load data & basic checks ===\n",
    "df = pd.read_csv(CSV_IN)"
   ]
  },
  {
   "cell_type": "code",
   "execution_count": 29,
   "id": "ef4844dafeca88ef",
   "metadata": {},
   "outputs": [
    {
     "data": {
      "text/html": [
       "<div>\n",
       "<style scoped>\n",
       "    .dataframe tbody tr th:only-of-type {\n",
       "        vertical-align: middle;\n",
       "    }\n",
       "\n",
       "    .dataframe tbody tr th {\n",
       "        vertical-align: top;\n",
       "    }\n",
       "\n",
       "    .dataframe thead th {\n",
       "        text-align: right;\n",
       "    }\n",
       "</style>\n",
       "<table border=\"1\" class=\"dataframe\">\n",
       "  <thead>\n",
       "    <tr style=\"text-align: right;\">\n",
       "      <th></th>\n",
       "      <th>Transaction ID</th>\n",
       "      <th>Customer ID</th>\n",
       "      <th>Category</th>\n",
       "      <th>Item</th>\n",
       "      <th>Price Per Unit</th>\n",
       "      <th>Quantity</th>\n",
       "      <th>Total Spent</th>\n",
       "      <th>Payment Method</th>\n",
       "      <th>Location</th>\n",
       "      <th>Transaction Date</th>\n",
       "      <th>Discount Applied</th>\n",
       "    </tr>\n",
       "  </thead>\n",
       "  <tbody>\n",
       "    <tr>\n",
       "      <th>0</th>\n",
       "      <td>TXN_1002182</td>\n",
       "      <td>CUST_01</td>\n",
       "      <td>Food</td>\n",
       "      <td>Item_5_FOOD</td>\n",
       "      <td>11.0</td>\n",
       "      <td>5.0</td>\n",
       "      <td>55.0</td>\n",
       "      <td>Digital Wallet</td>\n",
       "      <td>In-store</td>\n",
       "      <td>2024-10-08</td>\n",
       "      <td>True</td>\n",
       "    </tr>\n",
       "    <tr>\n",
       "      <th>1</th>\n",
       "      <td>TXN_1003865</td>\n",
       "      <td>CUST_15</td>\n",
       "      <td>Furniture</td>\n",
       "      <td>Item_2_FUR</td>\n",
       "      <td>6.5</td>\n",
       "      <td>5.0</td>\n",
       "      <td>32.5</td>\n",
       "      <td>Cash</td>\n",
       "      <td>Online</td>\n",
       "      <td>2022-03-12</td>\n",
       "      <td>False</td>\n",
       "    </tr>\n",
       "    <tr>\n",
       "      <th>2</th>\n",
       "      <td>TXN_1003940</td>\n",
       "      <td>CUST_06</td>\n",
       "      <td>Furniture</td>\n",
       "      <td>Item_5_FUR</td>\n",
       "      <td>11.0</td>\n",
       "      <td>9.0</td>\n",
       "      <td>99.0</td>\n",
       "      <td>Digital Wallet</td>\n",
       "      <td>Online</td>\n",
       "      <td>2022-04-22</td>\n",
       "      <td>False</td>\n",
       "    </tr>\n",
       "  </tbody>\n",
       "</table>\n",
       "</div>"
      ],
      "text/plain": [
       "  Transaction ID Customer ID   Category         Item  Price Per Unit  \\\n",
       "0    TXN_1002182     CUST_01       Food  Item_5_FOOD            11.0   \n",
       "1    TXN_1003865     CUST_15  Furniture   Item_2_FUR             6.5   \n",
       "2    TXN_1003940     CUST_06  Furniture   Item_5_FUR            11.0   \n",
       "\n",
       "   Quantity  Total Spent  Payment Method  Location Transaction Date  \\\n",
       "0       5.0         55.0  Digital Wallet  In-store       2024-10-08   \n",
       "1       5.0         32.5            Cash    Online       2022-03-12   \n",
       "2       9.0         99.0  Digital Wallet    Online       2022-04-22   \n",
       "\n",
       "  Discount Applied  \n",
       "0             True  \n",
       "1            False  \n",
       "2            False  "
      ]
     },
     "metadata": {},
     "output_type": "display_data"
    },
    {
     "name": "stdout",
     "output_type": "stream",
     "text": [
      "Rows: 11971, Cols: 11\n",
      "\n",
      "Nulls in key columns:\n",
      "Customer ID    0\n",
      "Total Spent    0\n",
      "dtype: int64\n"
     ]
    }
   ],
   "source": [
    "# Ensure target is numeric\n",
    "df[TARGET_COL] = pd.to_numeric(df[TARGET_COL], errors=\"coerce\")\n",
    "\n",
    "# Quick overview\n",
    "rowCount, colCount = df.shape\n",
    "nullSummary = df[[CUSTOMER_ID, TARGET_COL]].isnull().sum()\n",
    "\n",
    "display(df.head(3))\n",
    "print(f\"Rows: {rowCount}, Cols: {colCount}\")\n",
    "print(\"\\nNulls in key columns:\")\n",
    "print(nullSummary)"
   ]
  },
  {
   "cell_type": "markdown",
   "id": "0b712f2d",
   "metadata": {},
   "source": [
    "### Key Idea\n",
    "- For each row, we compute the mean of `Total Spent` for the same `Customer ID`, **excluding that row itself**.\n",
    "- This prevents leakage, because the current target value is not allowed to influence its own encoding.\n",
    "- If a customer has only one record, we cannot compute a LOO mean. In this case, we replace it with the **global mean**.\n"
   ]
  },
  {
   "cell_type": "code",
   "execution_count": 30,
   "id": "57e39ebcaebe9ce6",
   "metadata": {},
   "outputs": [
    {
     "name": "stdout",
     "output_type": "stream",
     "text": [
      "Global mean of Total Spent: 129.652577\n"
     ]
    },
    {
     "data": {
      "text/html": [
       "<div>\n",
       "<style scoped>\n",
       "    .dataframe tbody tr th:only-of-type {\n",
       "        vertical-align: middle;\n",
       "    }\n",
       "\n",
       "    .dataframe tbody tr th {\n",
       "        vertical-align: top;\n",
       "    }\n",
       "\n",
       "    .dataframe thead th {\n",
       "        text-align: right;\n",
       "    }\n",
       "</style>\n",
       "<table border=\"1\" class=\"dataframe\">\n",
       "  <thead>\n",
       "    <tr style=\"text-align: right;\">\n",
       "      <th></th>\n",
       "      <th>Customer ID</th>\n",
       "      <th>Total Spent</th>\n",
       "      <th>sumTotalSpentPerCus</th>\n",
       "      <th>countTotalSpentPerCus</th>\n",
       "    </tr>\n",
       "  </thead>\n",
       "  <tbody>\n",
       "    <tr>\n",
       "      <th>0</th>\n",
       "      <td>CUST_01</td>\n",
       "      <td>55.0</td>\n",
       "      <td>58731.5</td>\n",
       "      <td>485</td>\n",
       "    </tr>\n",
       "    <tr>\n",
       "      <th>1</th>\n",
       "      <td>CUST_15</td>\n",
       "      <td>32.5</td>\n",
       "      <td>63117.5</td>\n",
       "      <td>501</td>\n",
       "    </tr>\n",
       "    <tr>\n",
       "      <th>2</th>\n",
       "      <td>CUST_06</td>\n",
       "      <td>99.0</td>\n",
       "      <td>58632.5</td>\n",
       "      <td>460</td>\n",
       "    </tr>\n",
       "  </tbody>\n",
       "</table>\n",
       "</div>"
      ],
      "text/plain": [
       "  Customer ID  Total Spent  sumTotalSpentPerCus  countTotalSpentPerCus\n",
       "0     CUST_01         55.0              58731.5                    485\n",
       "1     CUST_15         32.5              63117.5                    501\n",
       "2     CUST_06         99.0              58632.5                    460"
      ]
     },
     "execution_count": 30,
     "metadata": {},
     "output_type": "execute_result"
    }
   ],
   "source": [
    "# Compute global mean of the target\n",
    "globalMean = df[TARGET_COL].mean()\n",
    "\n",
    "# Aggregate sum and count of the target per Customer ID (used to compute leave-one-out means)\n",
    "joinCustomerTotalSpent = (\n",
    "    df.groupby(CUSTOMER_ID)[TARGET_COL]\n",
    "      .agg(sumTotalSpentPerCus=\"sum\", countTotalSpentPerCus=\"count\") # sum and count of target per customer ID\n",
    ")\n",
    "\n",
    "# Join the aggregation back to the original rows (align per Customer ID)\n",
    "df = df.join(joinCustomerTotalSpent, on=CUSTOMER_ID) # add sumTotalSpentPerCus and countTotalSpentPerCus to each row (align per Customer ID)\n",
    "\n",
    "print(f\"Global mean of {TARGET_COL}: {globalMean:.6f}\")\n",
    "df[[CUSTOMER_ID, TARGET_COL, \"sumTotalSpentPerCus\", \"countTotalSpentPerCus\"]].head(3)"
   ]
  },
  {
   "cell_type": "code",
   "execution_count": 31,
   "id": "725818ccec39ae68",
   "metadata": {},
   "outputs": [
    {
     "data": {
      "text/html": [
       "<div>\n",
       "<style scoped>\n",
       "    .dataframe tbody tr th:only-of-type {\n",
       "        vertical-align: middle;\n",
       "    }\n",
       "\n",
       "    .dataframe tbody tr th {\n",
       "        vertical-align: top;\n",
       "    }\n",
       "\n",
       "    .dataframe thead th {\n",
       "        text-align: right;\n",
       "    }\n",
       "</style>\n",
       "<table border=\"1\" class=\"dataframe\">\n",
       "  <thead>\n",
       "    <tr style=\"text-align: right;\">\n",
       "      <th></th>\n",
       "      <th>Customer ID</th>\n",
       "      <th>Total Spent</th>\n",
       "      <th>Customer ID Target Encoded</th>\n",
       "    </tr>\n",
       "  </thead>\n",
       "  <tbody>\n",
       "    <tr>\n",
       "      <th>0</th>\n",
       "      <td>CUST_01</td>\n",
       "      <td>55.0</td>\n",
       "      <td>121.232438</td>\n",
       "    </tr>\n",
       "    <tr>\n",
       "      <th>1</th>\n",
       "      <td>CUST_15</td>\n",
       "      <td>32.5</td>\n",
       "      <td>126.170000</td>\n",
       "    </tr>\n",
       "    <tr>\n",
       "      <th>2</th>\n",
       "      <td>CUST_06</td>\n",
       "      <td>99.0</td>\n",
       "      <td>127.523965</td>\n",
       "    </tr>\n",
       "    <tr>\n",
       "      <th>3</th>\n",
       "      <td>CUST_04</td>\n",
       "      <td>123.0</td>\n",
       "      <td>135.780837</td>\n",
       "    </tr>\n",
       "    <tr>\n",
       "      <th>4</th>\n",
       "      <td>CUST_08</td>\n",
       "      <td>70.0</td>\n",
       "      <td>132.967391</td>\n",
       "    </tr>\n",
       "  </tbody>\n",
       "</table>\n",
       "</div>"
      ],
      "text/plain": [
       "  Customer ID  Total Spent  Customer ID Target Encoded\n",
       "0     CUST_01         55.0                  121.232438\n",
       "1     CUST_15         32.5                  126.170000\n",
       "2     CUST_06         99.0                  127.523965\n",
       "3     CUST_04        123.0                  135.780837\n",
       "4     CUST_08         70.0                  132.967391"
      ]
     },
     "execution_count": 31,
     "metadata": {},
     "output_type": "execute_result"
    }
   ],
   "source": [
    "# Compute the leave-one-out numerator: group sum minus the current row's target\n",
    "numeratorSeries = df[\"sumTotalSpentPerCus\"] - df[TARGET_COL] # group sum minus this row's target\n",
    "\n",
    "# Compute the leave-one-out denominator: group count minus the current row\n",
    "denominatorSeries = df[\"countTotalSpentPerCus\"] - 1  # group count minus this row\n",
    "\n",
    "# Compute LOO mean; if denominatorSeries == 0 (customer appears once), result becomes NaN\n",
    "with np.errstate(divide=\"ignore\", invalid=\"ignore\"):  # ignore divide-by-zero warnings\n",
    "    looMean = numeratorSeries / denominatorSeries  # leave-one-out mean per row\n",
    "\n",
    "# Replace NaNs with the global mean\n",
    "# safe fallback for unseen/rare cases\n",
    "looMean = looMean.fillna(globalMean)  \n",
    "\n",
    "# Create the encoded feature (keep original Customer ID column)\n",
    "df[ENCODED_COL] = looMean  # add new encoded column to the dataframe\n",
    "\n",
    "# Drop helper columns to keep the output tidy\n",
    "df = df.drop(columns=[\"sumTotalSpentPerCus\", \"countTotalSpentPerCus\"])\n",
    "\n",
    "# Quick look at the new encoded feature\n",
    "df[[CUSTOMER_ID, TARGET_COL, ENCODED_COL]].head(5)"
   ]
  },
  {
   "cell_type": "code",
   "execution_count": 32,
   "id": "3b2e0612591b0b4",
   "metadata": {},
   "outputs": [
    {
     "name": "stdout",
     "output_type": "stream",
     "text": [
      "No singleton IDs found — every Customer ID appears more than once.\n"
     ]
    }
   ],
   "source": [
    "# Diagnostics: spot checks\n",
    "# IDs with single occurrence should equal global mean\n",
    "idCounts = df[CUSTOMER_ID].value_counts()\n",
    "singletons = idCounts[idCounts == 1].index[:5]\n",
    "\n",
    "if singletons.empty:\n",
    "    print(\"No singleton IDs found — every Customer ID appears more than once.\")\n",
    "else:\n",
    "    print(\"Sample singleton IDs (encoded should equal global mean):\", list(singletons))\n",
    "    print(df[df[CUSTOMER_ID].isin(singletons)][[CUSTOMER_ID, TARGET_COL, ENCODED_COL]].head(10))"
   ]
  },
  {
   "cell_type": "code",
   "execution_count": 33,
   "id": "82894a77",
   "metadata": {},
   "outputs": [
    {
     "data": {
      "image/png": "[encoded data removed]",
      "text/plain": [
       "<Figure size 800x500 with 1 Axes>"
      ]
     },
     "metadata": {},
     "output_type": "display_data"
    }
   ],
   "source": [
    "import seaborn as sns\n",
    "import matplotlib.pyplot as plt\n",
    "\n",
    "plt.figure(figsize=(8, 5))\n",
    "sns.histplot(\n",
    "    df[ENCODED_COL],\n",
    "    bins=40,\n",
    "    kde=True,\n",
    "    color=\"cornflowerblue\",\n",
    "    edgecolor=\"white\"\n",
    ")\n",
    "plt.title(\"Histogram & Density of Customer ID Encodings (LOO)\")\n",
    "plt.xlabel(\"Encoded Value (Mean Total Spent)\")\n",
    "plt.ylabel(\"Frequency\")\n",
    "plt.tight_layout()\n",
    "plt.show()"
   ]
  },
  {
   "cell_type": "markdown",
   "id": "f13b6b6a",
   "metadata": {},
   "source": [
    "- X-axis: the encoded value—the average Total Spent that each customer ID is associated with after LOO smoothing.\n",
    "- Y-axis: number of customers (histogram bars) or relative density (blue KDE line). Taller bars mean many customers share that spend level.\n",
    "- Most customers fall between about 125 and 133, with the peak of the density curve right around 130; that’s the “typical” customer spend in the encoded feature.\n",
    "- The smooth line is a density estimated. Peaks line up with where the histogram is tallest.\n",
    "- The main hump centers near 130, then tails taper off toward 120 on the left and 136 on the right. Those tails correspond to the 1st and 99th percentiles (≈121 and ≈136.5).\n",
    "- Most customers’ encoded spend is around 130, with gentle variation on either side, and only a few high- or low-spend outliers"
   ]
  },
  {
   "cell_type": "code",
   "execution_count": 34,
   "id": "806a5bc65d2a741c",
   "metadata": {},
   "outputs": [
    {
     "name": "stdout",
     "output_type": "stream",
     "text": [
      "Saved: D:\\CP610\\handle_encoding_data\\output_data\\1_customer_id\\encoded_customer_id_dataset.csv\n",
      "New column: Customer ID Target Encoded (global mean fallback = 129.652577)\n"
     ]
    }
   ],
   "source": [
    "# === Save encoded dataset ===\n",
    "df.to_csv(CSV_OUT, index=False)\n",
    "print(f\"Saved: {CSV_OUT.resolve()}\")\n",
    "print(f\"New column: {ENCODED_COL} (global mean fallback = {globalMean:.6f})\")"
   ]
  }
 ],
 "metadata": {
  "kernelspec": {
   "display_name": "Python 3",
   "language": "python",
   "name": "python3"
  },
  "language_info": {
   "codemirror_mode": {
    "name": "ipython",
    "version": 3
   },
   "file_extension": ".py",
   "mimetype": "text/x-python",
   "name": "python",
   "nbconvert_exporter": "python",
   "pygments_lexer": "ipython3",
   "version": "3.13.7"
  }
 },
 "nbformat": 4,
 "nbformat_minor": 5
}