{
 "cells": [
  {
   "metadata": {},
   "cell_type": "markdown",
   "source": [
    "# Discount Applied - One-Hot Encoding\n",
    "\n",
    "\n",
    "## Why One-Hot Encoding for Discount Applied?\n",
    "\n",
    "**Discount Applied has 3 distinct categories:** `True`, `False`, `Unknown`\n",
    "\n",
    "### Method Comparison:\n",
    "\n",
    "| Alternative Method | Why NOT Suitable |\n",
    "|-------------------|------------------|\n",
    "| **Label Encoding** | False ordering: False(0) < True(1) < Unknown(2) makes no sense |\n",
    "| **Binary (0/1)** | Can't represent 3 categories with single binary column |\n",
    "| **Target Encoding** | Overly complex; discount is already related to Total Spent |\n",
    "| **Ordinal Encoding** | No natural order exists between True/False/Unknown |\n",
    "\n",
    "### Why One-Hot Encoding Works:\n",
    "- Treats \"Unknown\" as legitimate category (not missing data)\n",
    "- No false relationships introduced\n",
    "- Preserves MCAR information from missing data analysis\n",
    "- Each state is independent\n",
    "\n",
    "**Expected Output:**\n",
    "- 3 new columns: `Discount_True`, `Discount_False`, `Discount_Unknown`\n",
    "- Each row has exactly one \"1\" and two \"0\"s\n",
    "- Distribution: ~33% each (from missing data analysis)"
   ],
   "id": "a618eb0f7bf827a5"
  },
  {
   "metadata": {},
   "cell_type": "code",
   "outputs": [],
   "execution_count": null,
   "source": [
    "import pandas as pd\n",
    "from pathlib import Path"
   ],
   "id": "554de5cce93c498"
  },
  {
   "cell_type": "code",
   "execution_count": null,
   "id": "a6aqyfoqbi",
   "metadata": {
    "ExecuteTime": {
     "end_time": "2025-10-04T18:33:58.791678Z",
     "start_time": "2025-10-04T18:33:58.771198Z"
    }
   },
   "outputs": [],
   "source": "# Input and output paths\nCSV_IN = \"../../output/1_handle_missing_data/final_cleaned_dataset.csv\"\nCSV_OUT = \"../../output/2_handle_encoding_data/discount_applied_one_hot_encoded.csv\"\n\nDISCOUNT_APPLIED = \"Discount Applied\"\n\n# Load the cleaned dataset\ndf = pd.read_csv(CSV_IN)\ndata = df.copy()"
  },
  {
   "cell_type": "markdown",
   "id": "wo70sgb1ve",
   "metadata": {},
   "source": [
    "## One-Hot Encoding Implementation\n",
    "\n",
    "**Encoding rule:** Create 3 binary columns: `Discount_True`, `Discount_False`, `Discount_Unknown`"
   ]
  },
  {
   "cell_type": "code",
   "execution_count": 3,
   "id": "dcre6kw33g",
   "metadata": {
    "ExecuteTime": {
     "end_time": "2025-10-04T18:34:12.619301Z",
     "start_time": "2025-10-04T18:34:12.606990Z"
    }
   },
   "outputs": [
    {
     "name": "stdout",
     "output_type": "stream",
     "text": [
      "\n",
      "Original Discount Applied vs Encoded:\n",
      "  Discount Applied  Discount_False  Discount_True  Discount_Unknown\n",
      "0             True           False           True             False\n",
      "1            False            True          False             False\n",
      "2            False            True          False             False\n",
      "3            False            True          False             False\n",
      "4          Unknown           False          False              True\n",
      "5          Unknown           False          False              True\n",
      "6            False            True          False             False\n",
      "7          Unknown           False          False              True\n",
      "8          Unknown           False          False              True\n",
      "9             True           False           True             False\n"
     ]
    }
   ],
   "source": [
    "# Apply one-hot encoding\n",
    "discount_encoded = pd.get_dummies(data[DISCOUNT_APPLIED], prefix='Discount', drop_first=False)\n",
    "\n",
    "# Add encoded columns to dataframe\n",
    "data = pd.concat([data, discount_encoded], axis=1)\n",
    "\n",
    "print(f\"\\nOriginal Discount Applied vs Encoded:\")\n",
    "print(data[[DISCOUNT_APPLIED, 'Discount_False', 'Discount_True', 'Discount_Unknown']].head(10))"
   ]
  },
  {
   "cell_type": "markdown",
   "id": "1i9z06wj1xt",
   "metadata": {},
   "source": [
    "## Validation\n",
    "\n",
    "Verify one-hot encoding correctness:"
   ]
  },
  {
   "cell_type": "code",
   "execution_count": 4,
   "id": "ur734f8irpm",
   "metadata": {
    "ExecuteTime": {
     "end_time": "2025-10-04T18:34:33.960527Z",
     "start_time": "2025-10-04T18:34:33.948369Z"
    }
   },
   "outputs": [
    {
     "name": "stdout",
     "output_type": "stream",
     "text": [
      "1. Each row has exactly one '1' across encoded columns: True\n",
      "2. No missing values in encoded columns: True\n",
      "3. Only contains 0/1 values: True\n"
     ]
    }
   ],
   "source": [
    "# 1. Check one-hot columns sum to 1 per row\n",
    "one_hot_sum = data[['Discount_False', 'Discount_True', 'Discount_Unknown']].sum(axis=1)\n",
    "sum_check = (one_hot_sum == 1).all()\n",
    "print(f\"1. Each row has exactly one '1' across encoded columns: {sum_check}\")\n",
    "\n",
    "# 2. Check no missing values\n",
    "no_missing = data[['Discount_False', 'Discount_True', 'Discount_Unknown']].isna().sum().sum() == 0\n",
    "print(f\"2. No missing values in encoded columns: {no_missing}\")\n",
    "\n",
    "# 3. Check only binary values (0 or 1)\n",
    "binary_check = data[['Discount_False', 'Discount_True', 'Discount_Unknown']].isin([0, 1]).all().all()\n",
    "print(f\"3. Only contains 0/1 values: {binary_check}\")\n"
   ]
  },
  {
   "cell_type": "markdown",
   "id": "9vosagmcaj",
   "metadata": {},
   "source": [
    "## Save Output\n",
    "\n",
    "Save the dataset with the encoded Discount Applied columns:"
   ]
  },
  {
   "cell_type": "code",
   "execution_count": 5,
   "id": "u81nz4axpw9",
   "metadata": {
    "ExecuteTime": {
     "end_time": "2025-10-04T18:34:38.378Z",
     "start_time": "2025-10-04T18:34:38.337467Z"
    }
   },
   "outputs": [],
   "source": [
    "# Create output directory if it doesn't exist\n",
    "Path(CSV_OUT).parent.mkdir(parents=True, exist_ok=True)\n",
    "\n",
    "# Save the encoded dataset\n",
    "data.to_csv(CSV_OUT, index=False)"
   ]
  },
  {
   "cell_type": "code",
   "execution_count": null,
   "id": "742b388a83300908",
   "metadata": {},
   "outputs": [],
   "source": []
  }
 ],
 "metadata": {
  "kernelspec": {
   "display_name": "Python 3",
   "language": "python",
   "name": "python3"
  },
  "language_info": {
   "codemirror_mode": {
    "name": "ipython",
    "version": 3
   },
   "file_extension": ".py",
   "mimetype": "text/x-python",
   "name": "python",
   "nbconvert_exporter": "python",
   "pygments_lexer": "ipython3",
   "version": "3.13.7"
  }
 },
 "nbformat": 4,
 "nbformat_minor": 5
}
