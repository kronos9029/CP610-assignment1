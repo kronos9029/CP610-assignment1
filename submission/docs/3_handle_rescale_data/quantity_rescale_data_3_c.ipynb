{
 "cells": [
  {
   "metadata": {},
   "cell_type": "markdown",
   "source": [
    "# Quantity - Rescaling Methods Comparison\n",
    "\n",
    "## Overview\n",
    "\n",
    "This notebook implements and compares three rescaling methods for the **Quantity** attribute:\n",
    "1. **Min-Max Normalization**\n",
    "2. **Z-Score Standardization**\n",
    "3. **Robust Scaling**\n",
    "\n",
    "## Source Dataset\n",
    "\n",
    "**Input:** `handle_missing_data/output_data/4_discount_applied/final_cleaned_dataset.csv`\n",
    "- 11,971 rows (after missing data handling)\n",
    "- All missing values resolved\n",
    "- Mathematical consistency validated\n",
    "\n",
    "## Quantity Characteristics\n",
    "\n",
    "- **Type:** Discrete count data\n",
    "- **Range:** Typically 1-20 items per transaction\n",
    "- **Distribution:** Right-skewed\n",
    "- **Recommendation:** Robust Scaling (handles outliers and skew)\n"
   ],
   "id": "4326bbc3d6003af7"
  },
  {
   "metadata": {},
   "cell_type": "markdown",
   "source": "## Step 1: Import Libraries and Load Data",
   "id": "61421bde4acf159d"
  },
  {
   "metadata": {},
   "cell_type": "code",
   "outputs": [],
   "execution_count": null,
   "source": [
    "import pandas as pd\n",
    "import numpy as np\n",
    "import matplotlib.pyplot as plt\n",
    "import seaborn as sns\n",
    "from pathlib import Path\n",
    "from sklearn.preprocessing import MinMaxScaler, StandardScaler, RobustScaler\n",
    "\n",
    "# Configuration\n",
    "INPUT_CSV = Path('../../output/1_handle_missing_data/final_cleaned_dataset.csv')\n",
    "OUTPUT_DIR = Path('../../output/3_handle_rescale_data')\n",
    "QUANTITY_COLUMN = 'Quantity'\n",
    "\n",
    "# Create output directory\n",
    "OUTPUT_DIR.mkdir(parents=True, exist_ok=True)\n",
    "\n",
    "print(f\"Input file: {INPUT_CSV}\")\n",
    "print(f\"Output directory: {OUTPUT_DIR}\")"
   ],
   "id": "b3ea179d939b9f74"
  },
  {
   "cell_type": "code",
   "id": "load_data",
   "metadata": {
    "ExecuteTime": {
     "end_time": "2025-10-05T02:22:03.257137Z",
     "start_time": "2025-10-05T02:22:03.232360Z"
    }
   },
   "source": [
    "# Load the cleaned dataset\n",
    "df = pd.read_csv(INPUT_CSV)\n",
    "data = df.copy()\n",
    "data.head()"
   ],
   "outputs": [
    {
     "data": {
      "text/plain": [
       "  Transaction ID Customer ID                            Category  \\\n",
       "0    TXN_1002182     CUST_01                                Food   \n",
       "1    TXN_1003865     CUST_15                           Furniture   \n",
       "2    TXN_1003940     CUST_06                           Furniture   \n",
       "3    TXN_1004091     CUST_04                                Food   \n",
       "4    TXN_1004124     CUST_08  Computers and electric accessories   \n",
       "\n",
       "           Item  Price Per Unit  Quantity  Total Spent  Payment Method  \\\n",
       "0   Item_5_FOOD            11.0       5.0         55.0  Digital Wallet   \n",
       "1    Item_2_FUR             6.5       5.0         32.5            Cash   \n",
       "2    Item_5_FUR            11.0       9.0         99.0  Digital Wallet   \n",
       "3  Item_25_FOOD            41.0       3.0        123.0            Cash   \n",
       "4    Item_7_CEA            14.0       5.0         70.0     Credit Card   \n",
       "\n",
       "   Location Transaction Date Discount Applied  \n",
       "0  In-store       2024-10-08             True  \n",
       "1    Online       2022-03-12            False  \n",
       "2    Online       2022-04-22            False  \n",
       "3  In-store       2023-11-09            False  \n",
       "4  In-store       2022-03-02          Unknown  "
      ],
      "text/html": [
       "<div>\n",
       "<style scoped>\n",
       "    .dataframe tbody tr th:only-of-type {\n",
       "        vertical-align: middle;\n",
       "    }\n",
       "\n",
       "    .dataframe tbody tr th {\n",
       "        vertical-align: top;\n",
       "    }\n",
       "\n",
       "    .dataframe thead th {\n",
       "        text-align: right;\n",
       "    }\n",
       "</style>\n",
       "<table border=\"1\" class=\"dataframe\">\n",
       "  <thead>\n",
       "    <tr style=\"text-align: right;\">\n",
       "      <th></th>\n",
       "      <th>Transaction ID</th>\n",
       "      <th>Customer ID</th>\n",
       "      <th>Category</th>\n",
       "      <th>Item</th>\n",
       "      <th>Price Per Unit</th>\n",
       "      <th>Quantity</th>\n",
       "      <th>Total Spent</th>\n",
       "      <th>Payment Method</th>\n",
       "      <th>Location</th>\n",
       "      <th>Transaction Date</th>\n",
       "      <th>Discount Applied</th>\n",
       "    </tr>\n",
       "  </thead>\n",
       "  <tbody>\n",
       "    <tr>\n",
       "      <th>0</th>\n",
       "      <td>TXN_1002182</td>\n",
       "      <td>CUST_01</td>\n",
       "      <td>Food</td>\n",
       "      <td>Item_5_FOOD</td>\n",
       "      <td>11.0</td>\n",
       "      <td>5.0</td>\n",
       "      <td>55.0</td>\n",
       "      <td>Digital Wallet</td>\n",
       "      <td>In-store</td>\n",
       "      <td>2024-10-08</td>\n",
       "      <td>True</td>\n",
       "    </tr>\n",
       "    <tr>\n",
       "      <th>1</th>\n",
       "      <td>TXN_1003865</td>\n",
       "      <td>CUST_15</td>\n",
       "      <td>Furniture</td>\n",
       "      <td>Item_2_FUR</td>\n",
       "      <td>6.5</td>\n",
       "      <td>5.0</td>\n",
       "      <td>32.5</td>\n",
       "      <td>Cash</td>\n",
       "      <td>Online</td>\n",
       "      <td>2022-03-12</td>\n",
       "      <td>False</td>\n",
       "    </tr>\n",
       "    <tr>\n",
       "      <th>2</th>\n",
       "      <td>TXN_1003940</td>\n",
       "      <td>CUST_06</td>\n",
       "      <td>Furniture</td>\n",
       "      <td>Item_5_FUR</td>\n",
       "      <td>11.0</td>\n",
       "      <td>9.0</td>\n",
       "      <td>99.0</td>\n",
       "      <td>Digital Wallet</td>\n",
       "      <td>Online</td>\n",
       "      <td>2022-04-22</td>\n",
       "      <td>False</td>\n",
       "    </tr>\n",
       "    <tr>\n",
       "      <th>3</th>\n",
       "      <td>TXN_1004091</td>\n",
       "      <td>CUST_04</td>\n",
       "      <td>Food</td>\n",
       "      <td>Item_25_FOOD</td>\n",
       "      <td>41.0</td>\n",
       "      <td>3.0</td>\n",
       "      <td>123.0</td>\n",
       "      <td>Cash</td>\n",
       "      <td>In-store</td>\n",
       "      <td>2023-11-09</td>\n",
       "      <td>False</td>\n",
       "    </tr>\n",
       "    <tr>\n",
       "      <th>4</th>\n",
       "      <td>TXN_1004124</td>\n",
       "      <td>CUST_08</td>\n",
       "      <td>Computers and electric accessories</td>\n",
       "      <td>Item_7_CEA</td>\n",
       "      <td>14.0</td>\n",
       "      <td>5.0</td>\n",
       "      <td>70.0</td>\n",
       "      <td>Credit Card</td>\n",
       "      <td>In-store</td>\n",
       "      <td>2022-03-02</td>\n",
       "      <td>Unknown</td>\n",
       "    </tr>\n",
       "  </tbody>\n",
       "</table>\n",
       "</div>"
      ]
     },
     "execution_count": 4,
     "metadata": {},
     "output_type": "execute_result"
    }
   ],
   "execution_count": 4
  },
  {
   "cell_type": "markdown",
   "id": "eda_header",
   "metadata": {},
   "source": [
    "## Step 2: Exploratory Data Analysis - Quantity"
   ]
  },
  {
   "metadata": {},
   "cell_type": "code",
   "outputs": [],
   "execution_count": null,
   "source": [
    "# Basic statistics\n",
    "print(\"QUANTITY - Descriptive Statistics\")\n",
    "print(f\"\\n{data[QUANTITY_COLUMN].describe()}\")\n",
    "\n",
    "# Additional statistics\n",
    "print(f\"\\nMissing values: {data[QUANTITY_COLUMN].isna().sum()}\")\n",
    "print(f\"Unique values: {data[QUANTITY_COLUMN].nunique()}\")\n",
    "print(f\"\\nValue counts (top 10):\")\n",
    "print(data[QUANTITY_COLUMN].value_counts().head(10))"
   ],
   "id": "c0d9efb0516d11cb"
  },
  {
   "metadata": {},
   "cell_type": "code",
   "outputs": [],
   "execution_count": null,
   "source": [
    "# Outlier detection using IQR method\n",
    "Q1 = data[QUANTITY_COLUMN].quantile(0.25)\n",
    "Q3 = data[QUANTITY_COLUMN].quantile(0.75)\n",
    "IQR = Q3 - Q1\n",
    "\n",
    "lower_fence = Q1 - 1.5 * IQR\n",
    "upper_fence = Q3 + 1.5 * IQR\n",
    "\n",
    "outliers = data[(data[QUANTITY_COLUMN] < lower_fence) | (data[QUANTITY_COLUMN] > upper_fence)]\n",
    "\n",
    "print(\"OUTLIER DETECTION (IQR Method)\")\n",
    "print(f\"Q1 (25th percentile): {Q1}\")\n",
    "print(f\"Q3 (75th percentile): {Q3}\")\n",
    "print(f\"IQR: {IQR}\")\n",
    "print(f\"Lower fence: {lower_fence}\")\n",
    "print(f\"Upper fence: {upper_fence}\")\n",
    "print(f\"\\nNumber of outliers: {len(outliers)} ({len(outliers)/len(data)*100:.2f}%)\")\n",
    "print(f\"\\nOutlier range: {outliers[QUANTITY_COLUMN].min()} to {outliers[QUANTITY_COLUMN].max()}\")"
   ],
   "id": "e23f54c07f57483b"
  },
  {
   "metadata": {},
   "cell_type": "code",
   "outputs": [],
   "execution_count": null,
   "source": [
    "# Visualize original distribution\n",
    "fig, axes = plt.subplots(1, 3, figsize=(18, 5))\n",
    "\n",
    "# Histogram\n",
    "axes[0].hist(data[QUANTITY_COLUMN], bins=30, color='skyblue', edgecolor='black')\n",
    "axes[0].set_title('Quantity - Histogram', fontsize=14, fontweight='bold')\n",
    "axes[0].set_xlabel('Quantity')\n",
    "axes[0].set_ylabel('Frequency')\n",
    "axes[0].axvline(data[QUANTITY_COLUMN].mean(), color='red', linestyle='--', label=f'Mean: {data[QUANTITY_COLUMN].mean():.2f}')\n",
    "axes[0].axvline(data[QUANTITY_COLUMN].median(), color='green', linestyle='--', label=f'Median: {data[QUANTITY_COLUMN].median():.2f}')\n",
    "axes[0].legend()\n",
    "\n",
    "# Box plot\n",
    "axes[1].boxplot(data[QUANTITY_COLUMN], vert=True)\n",
    "axes[1].set_title('Quantity - Box Plot', fontsize=14, fontweight='bold')\n",
    "axes[1].set_ylabel('Quantity')\n",
    "axes[1].axhline(upper_fence, color='red', linestyle='--', label=f'Upper Fence: {upper_fence:.2f}')\n",
    "axes[1].axhline(lower_fence, color='red', linestyle='--', label=f'Lower Fence: {lower_fence:.2f}')\n",
    "axes[1].legend()\n",
    "\n",
    "# Distribution plot\n",
    "data[QUANTITY_COLUMN].plot(kind='kde', ax=axes[2], color='purple')\n",
    "axes[2].set_title('Quantity - Density Plot', fontsize=14, fontweight='bold')\n",
    "axes[2].set_xlabel('Quantity')\n",
    "axes[2].set_ylabel('Density')\n",
    "\n",
    "plt.tight_layout()\n",
    "plt.show()\n",
    "\n",
    "print(\"\\nDistribution Analysis:\")\n",
    "print(f\"Right-skewed distribution (mean > median)\")\n",
    "print(f\"Outliers present beyond upper fence ({upper_fence:.2f})\")\n",
    "print(f\"Discrete count data (integer values)\")"
   ],
   "id": "a2ac8849459ce7ba"
  },
  {
   "cell_type": "markdown",
   "id": "rescaling_header",
   "metadata": {},
   "source": [
    "## Step 3: Apply Rescaling Methods\n",
    "\n",
    "We will apply all three methods and compare them."
   ]
  },
  {
   "metadata": {},
   "cell_type": "markdown",
   "source": "### Method 1: Min-Max Normalization",
   "id": "67d4b20447a086b"
  },
  {
   "metadata": {},
   "cell_type": "code",
   "outputs": [],
   "execution_count": null,
   "source": [
    "# Min-Max Normalization\n",
    "min_max_scaler = MinMaxScaler()\n",
    "data['Quantity_Normalized'] = min_max_scaler.fit_transform(data[[QUANTITY_COLUMN]])\n",
    "\n",
    "print(\"MIN-MAX NORMALIZATION\")\n",
    "print(f\"\\nStatistics:\")\n",
    "print(data['Quantity_Normalized'].describe())\n",
    "\n",
    "print(f\"\\nExample transformations:\")\n",
    "print(data[[QUANTITY_COLUMN, 'Quantity_Normalized']].head(10))"
   ],
   "id": "2a73c12d1cee8e96"
  },
  {
   "metadata": {},
   "cell_type": "markdown",
   "source": "### Method 2: Z-Score Standardization",
   "id": "17905151bd15ad"
  },
  {
   "metadata": {},
   "cell_type": "code",
   "outputs": [],
   "execution_count": null,
   "source": [
    "# Z-Score Standardization\n",
    "standard_scaler = StandardScaler()\n",
    "data['Quantity_Standardized'] = standard_scaler.fit_transform(data[[QUANTITY_COLUMN]])\n",
    "\n",
    "print(\"Z-SCORE STANDARDIZATION\")\n",
    "print(f\"\\nStatistics:\")\n",
    "print(data['Quantity_Standardized'].describe())\n",
    "\n",
    "print(f\"\\nExample transformations:\")\n",
    "print(data[[QUANTITY_COLUMN, 'Quantity_Standardized']].head(10))"
   ],
   "id": "4263c956dea50eeb"
  },
  {
   "metadata": {},
   "cell_type": "markdown",
   "source": "### Method 3: Robust Scaling",
   "id": "badc360d99e1c94"
  },
  {
   "metadata": {},
   "cell_type": "code",
   "outputs": [],
   "execution_count": null,
   "source": [
    "# Robust Scaling\n",
    "robust_scaler = RobustScaler()\n",
    "data['Quantity_Robust'] = robust_scaler.fit_transform(data[[QUANTITY_COLUMN]])\n",
    "\n",
    "print(\"ROBUST SCALING\")\n",
    "print(f\"\\nStatistics:\")\n",
    "print(data['Quantity_Robust'].describe())\n",
    "\n",
    "print(f\"\\nExample transformations:\")\n",
    "print(data[[QUANTITY_COLUMN, 'Quantity_Robust']].head(10))"
   ],
   "id": "634f723fe15bb49c"
  },
  {
   "metadata": {},
   "cell_type": "markdown",
   "source": "## Step 4: Compare All Methods",
   "id": "68f29ef99c1dd8a3"
  },
  {
   "metadata": {
    "ExecuteTime": {
     "end_time": "2025-10-05T02:28:01.212828Z",
     "start_time": "2025-10-05T02:28:00.876032Z"
    }
   },
   "cell_type": "code",
   "source": [
    "# Visualize all methods side by side\n",
    "fig, axes = plt.subplots(2, 2, figsize=(16, 12))\n",
    "\n",
    "# Original\n",
    "axes[0, 0].hist(data[QUANTITY_COLUMN], bins=30, color='skyblue', edgecolor='black')\n",
    "axes[0, 0].set_title('Original Quantity', fontsize=14, fontweight='bold')\n",
    "axes[0, 0].set_xlabel('Quantity')\n",
    "axes[0, 0].set_ylabel('Frequency')\n",
    "axes[0, 0].axvline(data[QUANTITY_COLUMN].mean(), color='red', linestyle='--', label=f'Mean: {data[QUANTITY_COLUMN].mean():.2f}')\n",
    "axes[0, 0].legend()\n",
    "\n",
    "# Normalized\n",
    "axes[0, 1].hist(data['Quantity_Normalized'], bins=30, color='lightgreen', edgecolor='black')\n",
    "axes[0, 1].set_title('Min-Max Normalized [0, 1]', fontsize=14, fontweight='bold')\n",
    "axes[0, 1].set_xlabel('Normalized Value')\n",
    "axes[0, 1].set_ylabel('Frequency')\n",
    "axes[0, 1].axvline(data['Quantity_Normalized'].mean(), color='red', linestyle='--', label=f'Mean: {data[\"Quantity_Normalized\"].mean():.2f}')\n",
    "axes[0, 1].legend()\n",
    "\n",
    "# Standardized\n",
    "axes[1, 0].hist(data['Quantity_Standardized'], bins=30, color='lightcoral', edgecolor='black')\n",
    "axes[1, 0].set_title('Z-Score Standardized (μ=0, σ=1)', fontsize=14, fontweight='bold')\n",
    "axes[1, 0].set_xlabel('Standardized Value')\n",
    "axes[1, 0].set_ylabel('Frequency')\n",
    "axes[1, 0].axvline(0, color='green', linestyle='--', label='Mean: 0')\n",
    "axes[1, 0].legend()\n",
    "\n",
    "# Robust Scaled\n",
    "axes[1, 1].hist(data['Quantity_Robust'], bins=30, color='gold', edgecolor='black')\n",
    "axes[1, 1].set_title('Robust Scaled (median=0, IQR=1)', fontsize=14, fontweight='bold')\n",
    "axes[1, 1].set_xlabel('Robust Scaled Value')\n",
    "axes[1, 1].set_ylabel('Frequency')\n",
    "axes[1, 1].axvline(0, color='green', linestyle='--', label='Median: 0')\n",
    "axes[1, 1].legend()\n",
    "\n",
    "plt.tight_layout()\n",
    "plt.show()"
   ],
   "id": "502c01d0b89941ab",
   "outputs": [
    {
     "data": {
      "text/plain": [
       "<Figure size 1600x1200 with 4 Axes>"
      ],
      "image/png": "[encoded data removed]"
     },
     "metadata": {},
     "output_type": "display_data",
     "jetTransient": {
      "display_id": null
     }
    }
   ],
   "execution_count": 15
  },
  {
   "metadata": {},
   "cell_type": "code",
   "outputs": [],
   "execution_count": null,
   "source": [
    "# Comparison table\n",
    "comparison = pd.DataFrame({\n",
    "    'Method': ['Original', 'Normalization', 'Standardization', 'Robust Scaling'],\n",
    "    'Column': [QUANTITY_COLUMN, 'Quantity_Normalized', 'Quantity_Standardized', 'Quantity_Robust'],\n",
    "    'Min': [data[QUANTITY_COLUMN].min(), data['Quantity_Normalized'].min(),\n",
    "            data['Quantity_Standardized'].min(), data['Quantity_Robust'].min()],\n",
    "    'Max': [data[QUANTITY_COLUMN].max(), data['Quantity_Normalized'].max(),\n",
    "            data['Quantity_Standardized'].max(), data['Quantity_Robust'].max()],\n",
    "    'Mean': [data[QUANTITY_COLUMN].mean(), data['Quantity_Normalized'].mean(),\n",
    "             data['Quantity_Standardized'].mean(), data['Quantity_Robust'].mean()],\n",
    "    'Median': [data[QUANTITY_COLUMN].median(), data['Quantity_Normalized'].median(),\n",
    "               data['Quantity_Standardized'].median(), data['Quantity_Robust'].median()],\n",
    "    'Std': [data[QUANTITY_COLUMN].std(), data['Quantity_Normalized'].std(),\n",
    "            data['Quantity_Standardized'].std(), data['Quantity_Robust'].std()]\n",
    "})\n",
    "\n",
    "print(\"COMPARISON OF ALL METHODS\")\n",
    "print(comparison.to_string(index=False))"
   ],
   "id": "9af6db8f69327ba6"
  },
  {
   "metadata": {},
   "cell_type": "markdown",
   "source": "## Step 5: Outlier Impact Analysis",
   "id": "324f4d49f3eb149d"
  },
  {
   "metadata": {},
   "cell_type": "code",
   "outputs": [],
   "execution_count": null,
   "source": [
    "# Analyze how outliers are handled by each method\n",
    "print(\"OUTLIER IMPACT ANALYSIS\")\n",
    "\n",
    "outlier_comparison = data[data[QUANTITY_COLUMN] > upper_fence][[\n",
    "    QUANTITY_COLUMN, 'Quantity_Normalized', 'Quantity_Standardized', 'Quantity_Robust'\n",
    "]].head(10)\n",
    "\n",
    "print(outlier_comparison.to_string(index=False))"
   ],
   "id": "c0604c746282a2b2"
  },
  {
   "metadata": {},
   "cell_type": "markdown",
   "source": "## Step 6: Save All Rescaled Datasets",
   "id": "cef2bcbf283664cf"
  },
  {
   "metadata": {},
   "cell_type": "code",
   "outputs": [],
   "execution_count": null,
   "source": [
    "# Save all three versions as per assignment requirements\n",
    "\n",
    "# 1. Normalization\n",
    "df_norm = data.copy()\n",
    "output_norm = OUTPUT_DIR / 'data_rescaling_norm_quantity.csv'\n",
    "df_norm.to_csv(output_norm, index=False)\n",
    "\n",
    "# 2. Standardization\n",
    "df_std = data.copy()\n",
    "output_std = OUTPUT_DIR / 'data_rescaling_std_quantity.csv'\n",
    "df_std.to_csv(output_std, index=False)\n",
    "\n",
    "# 3. Robust Scaling\n",
    "df_robust = data.copy()\n",
    "output_robust = OUTPUT_DIR / 'data_rescaling_robust_quantity.csv'\n",
    "df_robust.to_csv(output_robust, index=False)\n"
   ],
   "id": "5bdf86cb91b0bca5"
  },
  {
   "cell_type": "markdown",
   "id": "summary_header",
   "metadata": {},
   "source": [
    "## Summary\n",
    "\n",
    "### Methods Applied:\n",
    "1. **Min-Max Normalization** -> Range [0, 1]\n",
    "2. **Z-Score Standardization** -> Mean=0, Std=1\n",
    "3. **Robust Scaling** -> Median=0, IQR=1\n",
    "\n",
    "### Recommendation:\n",
    "**Robust Scaling** is recommended for Quantity because:\n",
    "- Handles outliers effectively (bulk purchases are valid transactions)\n",
    "- Works well with right-skewed distribution\n",
    "- Uses median/IQR (robust statistics)\n",
    "- Preserves outlier information without distortion\n",
    "\n",
    "### Output Files:\n",
    "- `data_rescaling_norm_quantity.csv` - Min-Max Normalization\n",
    "- `data_rescaling_std_quantity.csv` - Z-Score Standardization\n",
    "- `data_rescaling_robust_quantity.csv` - Robust Scaling\n",
    "\n"
   ]
  },
  {
   "metadata": {},
   "cell_type": "code",
   "outputs": [],
   "execution_count": null,
   "source": "",
   "id": "148898cd744d4a31"
  }
 ],
 "metadata": {
  "kernelspec": {
   "display_name": "Python 3",
   "language": "python",
   "name": "python3"
  },
  "language_info": {
   "codemirror_mode": {
    "name": "ipython",
    "version": 3
   },
   "file_extension": ".py",
   "mimetype": "text/x-python",
   "name": "python",
   "nbconvert_exporter": "python",
   "pygments_lexer": "ipython3",
   "version": "3.8.0"
  }
 },
 "nbformat": 4,
 "nbformat_minor": 5
}
