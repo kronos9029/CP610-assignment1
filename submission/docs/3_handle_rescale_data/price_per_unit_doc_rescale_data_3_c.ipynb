{
 "cells": [
  {
   "cell_type": "markdown",
   "id": "header_cell",
   "metadata": {},
   "source": [
    "# Price Per Unit - Rescaling Methods Comparison\n",
    "\n",
    "## Overview\n",
    "\n",
    "This notebook implements and compares three rescaling methods for the **Price Per Unit** attribute:\n",
    "1. **Min-Max Normalization**\n",
    "2. **Z-Score Standardization**\n",
    "3. **Robust Scaling**\n",
    "\n",
    "## Source Dataset\n",
    "\n",
    "**Input:** `handle_missing_data/output_data/4_discount_applied/final_cleaned_dataset.csv`\n",
    "- 11,971 rows (after missing data handling)\n",
    "- Price Per Unit reconstructed from Total Spent ÷ Quantity\n",
    "- All missing values resolved\n",
    "\n",
    "## Price Per Unit Characteristics\n",
    "\n",
    "- **Type:** Continuous currency data\n",
    "- **Range:** Typically $1-$100\n",
    "- **Distribution:** Varies by item category\n",
    "- **Outliers:** Present but handled during reconstruction\n",
    "- **Recommendation:** Min-Max Normalization (natural bounds, interpretable)\n",
    "\n",
    "---"
   ]
  },
  {
   "cell_type": "markdown",
   "id": "imports_header",
   "metadata": {},
   "source": [
    "## Step 1: Import Libraries and Load Data"
   ]
  },
  {
   "cell_type": "code",
   "id": "imports",
   "metadata": {
    "ExecuteTime": {
     "end_time": "2025-10-05T02:42:54.289110Z",
     "start_time": "2025-10-05T02:42:54.231158Z"
    }
   },
   "source": "import pandas as pd\nimport numpy as np\nimport matplotlib.pyplot as plt\nimport seaborn as sns\nfrom pathlib import Path\nfrom sklearn.preprocessing import MinMaxScaler, StandardScaler, RobustScaler\n\n# Configuration\nINPUT_CSV = Path('../../output/1_handle_missing_data/final_cleaned_dataset.csv')\nOUTPUT_DIR = Path('../../output/3_handle_rescale_data')\nPRICE_PER_UNIT_COLUMN = 'Price Per Unit'\n\n# Create output directory\nOUTPUT_DIR.mkdir(parents=True, exist_ok=True)\n\nprint(f\"Input file: {INPUT_CSV}\")\nprint(f\"Output directory: {OUTPUT_DIR}\")",
   "outputs": [],
   "execution_count": null
  },
  {
   "cell_type": "code",
   "id": "load_data",
   "metadata": {
    "ExecuteTime": {
     "end_time": "2025-10-05T02:42:59.380509Z",
     "start_time": "2025-10-05T02:42:59.322283Z"
    }
   },
   "source": [
    "# Load the cleaned dataset\n",
    "df = pd.read_csv(INPUT_CSV)\n",
    "\n",
    "df.head()"
   ],
   "outputs": [
    {
     "data": {
      "text/plain": [
       "  Transaction ID Customer ID                            Category  \\\n",
       "0    TXN_1002182     CUST_01                                Food   \n",
       "1    TXN_1003865     CUST_15                           Furniture   \n",
       "2    TXN_1003940     CUST_06                           Furniture   \n",
       "3    TXN_1004091     CUST_04                                Food   \n",
       "4    TXN_1004124     CUST_08  Computers and electric accessories   \n",
       "\n",
       "           Item  Price Per Unit  Quantity  Total Spent  Payment Method  \\\n",
       "0   Item_5_FOOD            11.0       5.0         55.0  Digital Wallet   \n",
       "1    Item_2_FUR             6.5       5.0         32.5            Cash   \n",
       "2    Item_5_FUR            11.0       9.0         99.0  Digital Wallet   \n",
       "3  Item_25_FOOD            41.0       3.0        123.0            Cash   \n",
       "4    Item_7_CEA            14.0       5.0         70.0     Credit Card   \n",
       "\n",
       "   Location Transaction Date Discount Applied  \n",
       "0  In-store       2024-10-08             True  \n",
       "1    Online       2022-03-12            False  \n",
       "2    Online       2022-04-22            False  \n",
       "3  In-store       2023-11-09            False  \n",
       "4  In-store       2022-03-02          Unknown  "
      ],
      "text/html": [
       "<div>\n",
       "<style scoped>\n",
       "    .dataframe tbody tr th:only-of-type {\n",
       "        vertical-align: middle;\n",
       "    }\n",
       "\n",
       "    .dataframe tbody tr th {\n",
       "        vertical-align: top;\n",
       "    }\n",
       "\n",
       "    .dataframe thead th {\n",
       "        text-align: right;\n",
       "    }\n",
       "</style>\n",
       "<table border=\"1\" class=\"dataframe\">\n",
       "  <thead>\n",
       "    <tr style=\"text-align: right;\">\n",
       "      <th></th>\n",
       "      <th>Transaction ID</th>\n",
       "      <th>Customer ID</th>\n",
       "      <th>Category</th>\n",
       "      <th>Item</th>\n",
       "      <th>Price Per Unit</th>\n",
       "      <th>Quantity</th>\n",
       "      <th>Total Spent</th>\n",
       "      <th>Payment Method</th>\n",
       "      <th>Location</th>\n",
       "      <th>Transaction Date</th>\n",
       "      <th>Discount Applied</th>\n",
       "    </tr>\n",
       "  </thead>\n",
       "  <tbody>\n",
       "    <tr>\n",
       "      <th>0</th>\n",
       "      <td>TXN_1002182</td>\n",
       "      <td>CUST_01</td>\n",
       "      <td>Food</td>\n",
       "      <td>Item_5_FOOD</td>\n",
       "      <td>11.0</td>\n",
       "      <td>5.0</td>\n",
       "      <td>55.0</td>\n",
       "      <td>Digital Wallet</td>\n",
       "      <td>In-store</td>\n",
       "      <td>2024-10-08</td>\n",
       "      <td>True</td>\n",
       "    </tr>\n",
       "    <tr>\n",
       "      <th>1</th>\n",
       "      <td>TXN_1003865</td>\n",
       "      <td>CUST_15</td>\n",
       "      <td>Furniture</td>\n",
       "      <td>Item_2_FUR</td>\n",
       "      <td>6.5</td>\n",
       "      <td>5.0</td>\n",
       "      <td>32.5</td>\n",
       "      <td>Cash</td>\n",
       "      <td>Online</td>\n",
       "      <td>2022-03-12</td>\n",
       "      <td>False</td>\n",
       "    </tr>\n",
       "    <tr>\n",
       "      <th>2</th>\n",
       "      <td>TXN_1003940</td>\n",
       "      <td>CUST_06</td>\n",
       "      <td>Furniture</td>\n",
       "      <td>Item_5_FUR</td>\n",
       "      <td>11.0</td>\n",
       "      <td>9.0</td>\n",
       "      <td>99.0</td>\n",
       "      <td>Digital Wallet</td>\n",
       "      <td>Online</td>\n",
       "      <td>2022-04-22</td>\n",
       "      <td>False</td>\n",
       "    </tr>\n",
       "    <tr>\n",
       "      <th>3</th>\n",
       "      <td>TXN_1004091</td>\n",
       "      <td>CUST_04</td>\n",
       "      <td>Food</td>\n",
       "      <td>Item_25_FOOD</td>\n",
       "      <td>41.0</td>\n",
       "      <td>3.0</td>\n",
       "      <td>123.0</td>\n",
       "      <td>Cash</td>\n",
       "      <td>In-store</td>\n",
       "      <td>2023-11-09</td>\n",
       "      <td>False</td>\n",
       "    </tr>\n",
       "    <tr>\n",
       "      <th>4</th>\n",
       "      <td>TXN_1004124</td>\n",
       "      <td>CUST_08</td>\n",
       "      <td>Computers and electric accessories</td>\n",
       "      <td>Item_7_CEA</td>\n",
       "      <td>14.0</td>\n",
       "      <td>5.0</td>\n",
       "      <td>70.0</td>\n",
       "      <td>Credit Card</td>\n",
       "      <td>In-store</td>\n",
       "      <td>2022-03-02</td>\n",
       "      <td>Unknown</td>\n",
       "    </tr>\n",
       "  </tbody>\n",
       "</table>\n",
       "</div>"
      ]
     },
     "execution_count": 2,
     "metadata": {},
     "output_type": "execute_result"
    }
   ],
   "execution_count": 2
  },
  {
   "cell_type": "markdown",
   "id": "eda_header",
   "metadata": {},
   "source": [
    "## Step 2: Exploratory Data Analysis - Price Per Unit"
   ]
  },
  {
   "metadata": {},
   "cell_type": "code",
   "outputs": [],
   "execution_count": null,
   "source": [
    "# Basic statistics\n",
    "print(\"PRICE PER UNIT - Descriptive Statistics\")\n",
    "print(f\"\\n{df[PRICE_PER_UNIT_COLUMN].describe()}\")\n",
    "\n",
    "# Additional statistics\n",
    "print(f\"\\nMissing values: {df[PRICE_PER_UNIT_COLUMN].isna().sum()}\")\n",
    "print(f\"Unique values: {df[PRICE_PER_UNIT_COLUMN].nunique()}\")\n",
    "print(f\"\\nPrice range: ${df[PRICE_PER_UNIT_COLUMN].min():.2f} - ${df[PRICE_PER_UNIT_COLUMN].max():.2f}\")"
   ],
   "id": "f2bc690e1dba67d2"
  },
  {
   "metadata": {},
   "cell_type": "code",
   "outputs": [],
   "execution_count": null,
   "source": [
    "# Outlier detection using IQR method\n",
    "Q1 = df[PRICE_PER_UNIT_COLUMN].quantile(0.25)\n",
    "Q3 = df[PRICE_PER_UNIT_COLUMN].quantile(0.75)\n",
    "IQR = Q3 - Q1\n",
    "\n",
    "lower_fence = Q1 - 1.5 * IQR\n",
    "upper_fence = Q3 + 1.5 * IQR\n",
    "\n",
    "outliers = df[(df[PRICE_PER_UNIT_COLUMN] < lower_fence) | (df[PRICE_PER_UNIT_COLUMN] > upper_fence)]\n",
    "\n",
    "print(\"OUTLIER DETECTION (IQR Method)\")\n",
    "print(f\"Q1 (25th percentile): ${Q1:.2f}\")\n",
    "print(f\"Q3 (75th percentile): ${Q3:.2f}\")\n",
    "print(f\"IQR: ${IQR:.2f}\")\n",
    "print(f\"Lower fence: ${lower_fence:.2f}\")\n",
    "print(f\"Upper fence: ${upper_fence:.2f}\")\n",
    "print(f\"\\nNumber of outliers: {len(outliers)} ({len(outliers)/len(df)*100:.2f}%)\")\n",
    "\n",
    "if len(outliers) > 0:\n",
    "    print(f\"Outlier price range: ${outliers[PRICE_PER_UNIT_COLUMN].min():.2f} to ${outliers[PRICE_PER_UNIT_COLUMN].max():.2f}\")"
   ],
   "id": "4dd766a172b4893c"
  },
  {
   "metadata": {},
   "cell_type": "code",
   "outputs": [],
   "execution_count": null,
   "source": [
    "# Visualize original distribution\n",
    "fig, axes = plt.subplots(1, 3, figsize=(18, 5))\n",
    "\n",
    "# Histogram\n",
    "axes[0].hist(df[PRICE_PER_UNIT_COLUMN], bins=40, color='lightblue', edgecolor='black')\n",
    "axes[0].set_title('Price Per Unit - Histogram', fontsize=14, fontweight='bold')\n",
    "axes[0].set_xlabel('Price ($)')\n",
    "axes[0].set_ylabel('Frequency')\n",
    "axes[0].axvline(df[PRICE_PER_UNIT_COLUMN].mean(), color='red', linestyle='--', \n",
    "                label=f'Mean: ${df[PRICE_PER_UNIT_COLUMN].mean():.2f}')\n",
    "axes[0].axvline(df[PRICE_PER_UNIT_COLUMN].median(), color='green', linestyle='--', \n",
    "                label=f'Median: ${df[PRICE_PER_UNIT_COLUMN].median():.2f}')\n",
    "axes[0].legend()\n",
    "\n",
    "# Box plot\n",
    "axes[1].boxplot(df[PRICE_PER_UNIT_COLUMN], vert=True)\n",
    "axes[1].set_title('Price Per Unit - Box Plot', fontsize=14, fontweight='bold')\n",
    "axes[1].set_ylabel('Price ($)')\n",
    "axes[1].axhline(upper_fence, color='red', linestyle='--', label=f'Upper Fence: ${upper_fence:.2f}')\n",
    "axes[1].axhline(lower_fence, color='red', linestyle='--', label=f'Lower Fence: ${lower_fence:.2f}')\n",
    "axes[1].legend()\n",
    "\n",
    "# Distribution plot\n",
    "df[PRICE_PER_UNIT_COLUMN].plot(kind='kde', ax=axes[2], color='darkblue')\n",
    "axes[2].set_title('Price Per Unit - Density Plot', fontsize=14, fontweight='bold')\n",
    "axes[2].set_xlabel('Price ($)')\n",
    "axes[2].set_ylabel('Density')\n",
    "\n",
    "plt.tight_layout()\n",
    "plt.show()\n",
    "\n",
    "print(\"\\nDistribution Analysis:\")\n",
    "skewness = df[PRICE_PER_UNIT_COLUMN].skew()\n",
    "print(f\"Skewness: {skewness:.4f}\")\n",
    "if abs(skewness) < 0.5:\n",
    "    print(\"Approximately symmetric distribution\")\n",
    "elif skewness > 0:\n",
    "    print(\"Right-skewed distribution (some high-priced items)\")\n",
    "else:\n",
    "    print(\"Left-skewed distribution\")"
   ],
   "id": "ac4a8e7bbe0d9465"
  },
  {
   "cell_type": "markdown",
   "id": "rescaling_header",
   "metadata": {},
   "source": [
    "## Step 3: Apply Rescaling Methods\n",
    "\n",
    "We will apply all three methods and compare them."
   ]
  },
  {
   "cell_type": "markdown",
   "id": "normalization_header",
   "metadata": {},
   "source": [
    "### Method 1: Min-Max Normalization (RECOMMENDED)"
   ]
  },
  {
   "metadata": {},
   "cell_type": "code",
   "outputs": [],
   "execution_count": null,
   "source": [
    "# Min-Max Normalization\n",
    "min_max_scaler = MinMaxScaler()\n",
    "df['PricePerUnit_Normalized'] = min_max_scaler.fit_transform(df[[PRICE_PER_UNIT_COLUMN]])\n",
    "\n",
    "print(\"MIN-MAX NORMALIZATION\")\n",
    "print(df['PricePerUnit_Normalized'].describe())\n",
    "\n",
    "# Show examples\n",
    "print(f\"\\nExample transformations:\")\n",
    "print(df[[PRICE_PER_UNIT_COLUMN, 'PricePerUnit_Normalized']].head(10))"
   ],
   "id": "cc451e4916f6e47e"
  },
  {
   "cell_type": "markdown",
   "id": "standardization_header",
   "metadata": {},
   "source": [
    "### Method 2: Z-Score Standardization"
   ]
  },
  {
   "metadata": {},
   "cell_type": "code",
   "outputs": [],
   "execution_count": null,
   "source": [
    "# Z-Score Standardization\n",
    "standard_scaler = StandardScaler()\n",
    "df['PricePerUnit_Standardized'] = standard_scaler.fit_transform(df[[PRICE_PER_UNIT_COLUMN]])\n",
    "\n",
    "print(\"Z-SCORE STANDARDIZATION\")\n",
    "print(df['PricePerUnit_Standardized'].describe())\n",
    "\n",
    "# Show examples\n",
    "print(f\"\\nExample transformations:\")\n",
    "print(df[[PRICE_PER_UNIT_COLUMN, 'PricePerUnit_Standardized']].head(10))"
   ],
   "id": "950837e09c8c1495"
  },
  {
   "cell_type": "markdown",
   "id": "robust_header",
   "metadata": {},
   "source": [
    "### Method 3: Robust Scaling"
   ]
  },
  {
   "metadata": {},
   "cell_type": "code",
   "outputs": [],
   "execution_count": null,
   "source": [
    "# Robust Scaling\n",
    "robust_scaler = RobustScaler()\n",
    "df['PricePerUnit_Robust'] = robust_scaler.fit_transform(df[[PRICE_PER_UNIT_COLUMN]])\n",
    "\n",
    "print(\"ROBUST SCALING\")\n",
    "print(df['PricePerUnit_Robust'].describe())\n",
    "\n",
    "# Show examples\n",
    "print(f\"\\nExample transformations:\")\n",
    "print(df[[PRICE_PER_UNIT_COLUMN, 'PricePerUnit_Robust']].head(10))"
   ],
   "id": "9d11611c0646e1cd"
  },
  {
   "cell_type": "markdown",
   "id": "comparison_header",
   "metadata": {},
   "source": [
    "## Step 4: Compare All Methods"
   ]
  },
  {
   "metadata": {},
   "cell_type": "code",
   "outputs": [],
   "execution_count": null,
   "source": [
    "# Comparison table\n",
    "comparison = pd.DataFrame({\n",
    "    'Method': ['Original', 'Normalization (RECOMMENDED)', 'Standardization', 'Robust Scaling'],\n",
    "    'Column': [PRICE_PER_UNIT_COLUMN, 'PricePerUnit_Normalized', 'PricePerUnit_Standardized', 'PricePerUnit_Robust'],\n",
    "    'Min': [df[PRICE_PER_UNIT_COLUMN].min(), df['PricePerUnit_Normalized'].min(), \n",
    "            df['PricePerUnit_Standardized'].min(), df['PricePerUnit_Robust'].min()],\n",
    "    'Max': [df[PRICE_PER_UNIT_COLUMN].max(), df['PricePerUnit_Normalized'].max(), \n",
    "            df['PricePerUnit_Standardized'].max(), df['PricePerUnit_Robust'].max()],\n",
    "    'Mean': [df[PRICE_PER_UNIT_COLUMN].mean(), df['PricePerUnit_Normalized'].mean(), \n",
    "             df['PricePerUnit_Standardized'].mean(), df['PricePerUnit_Robust'].mean()],\n",
    "    'Median': [df[PRICE_PER_UNIT_COLUMN].median(), df['PricePerUnit_Normalized'].median(), \n",
    "               df['PricePerUnit_Standardized'].median(), df['PricePerUnit_Robust'].median()],\n",
    "    'Std': [df[PRICE_PER_UNIT_COLUMN].std(), df['PricePerUnit_Normalized'].std(), \n",
    "            df['PricePerUnit_Standardized'].std(), df['PricePerUnit_Robust'].std()]\n",
    "})\n",
    "\n",
    "print(\"COMPARISON OF ALL METHODS\")\n",
    "print(comparison.to_string(index=False))"
   ],
   "id": "64a3dafdcd88888b"
  },
  {
   "metadata": {},
   "cell_type": "code",
   "outputs": [],
   "execution_count": null,
   "source": [
    "# Visualize all methods side by side\n",
    "fig, axes = plt.subplots(2, 2, figsize=(16, 12))\n",
    "\n",
    "# Original\n",
    "axes[0, 0].hist(df[PRICE_PER_UNIT_COLUMN], bins=40, color='lightblue', edgecolor='black')\n",
    "axes[0, 0].set_title('Original Price Per Unit', fontsize=14, fontweight='bold')\n",
    "axes[0, 0].set_xlabel('Price ($)')\n",
    "axes[0, 0].set_ylabel('Frequency')\n",
    "axes[0, 0].axvline(df[PRICE_PER_UNIT_COLUMN].mean(), color='red', linestyle='--', \n",
    "                   label=f'Mean: ${df[PRICE_PER_UNIT_COLUMN].mean():.2f}')\n",
    "axes[0, 0].legend()\n",
    "\n",
    "# Normalized\n",
    "axes[0, 1].hist(df['PricePerUnit_Normalized'], bins=40, color='lightgreen', edgecolor='black')\n",
    "axes[0, 1].set_title('Min-Max Normalized [0, 1] ⭐ RECOMMENDED', fontsize=14, fontweight='bold')\n",
    "axes[0, 1].set_xlabel('Normalized Value')\n",
    "axes[0, 1].set_ylabel('Frequency')\n",
    "axes[0, 1].axvline(df['PricePerUnit_Normalized'].mean(), color='red', linestyle='--', \n",
    "                   label=f'Mean: {df[\"PricePerUnit_Normalized\"].mean():.2f}')\n",
    "axes[0, 1].legend()\n",
    "\n",
    "# Standardized\n",
    "axes[1, 0].hist(df['PricePerUnit_Standardized'], bins=40, color='lightcoral', edgecolor='black')\n",
    "axes[1, 0].set_title('Z-Score Standardized (μ=0, σ=1)', fontsize=14, fontweight='bold')\n",
    "axes[1, 0].set_xlabel('Standardized Value')\n",
    "axes[1, 0].set_ylabel('Frequency')\n",
    "axes[1, 0].axvline(0, color='green', linestyle='--', label='Mean: 0')\n",
    "axes[1, 0].legend()\n",
    "\n",
    "# Robust Scaled\n",
    "axes[1, 1].hist(df['PricePerUnit_Robust'], bins=40, color='lavender', edgecolor='black')\n",
    "axes[1, 1].set_title('Robust Scaled (median=0, IQR=1)', fontsize=14, fontweight='bold')\n",
    "axes[1, 1].set_xlabel('Robust Scaled Value')\n",
    "axes[1, 1].set_ylabel('Frequency')\n",
    "axes[1, 1].axvline(0, color='green', linestyle='--', label='Median: 0')\n",
    "axes[1, 1].legend()\n",
    "\n",
    "plt.tight_layout()\n",
    "plt.show()"
   ],
   "id": "eae86e790b278124"
  },
  {
   "cell_type": "markdown",
   "id": "interpretability_header",
   "metadata": {},
   "source": [
    "## Step 5: Interpretability Analysis"
   ]
  },
  {
   "metadata": {},
   "cell_type": "code",
   "outputs": [],
   "execution_count": null,
   "source": [
    "# Analyze interpretability for Price Per Unit\n",
    "print(\"INTERPRETABILITY ANALYSIS\")\n",
    "\n",
    "# Sample prices and their scaled values\n",
    "sample_prices = [df[PRICE_PER_UNIT_COLUMN].min(), \n",
    "                 df[PRICE_PER_UNIT_COLUMN].quantile(0.25),\n",
    "                 df[PRICE_PER_UNIT_COLUMN].median(),\n",
    "                 df[PRICE_PER_UNIT_COLUMN].quantile(0.75),\n",
    "                 df[PRICE_PER_UNIT_COLUMN].max()]\n",
    "\n",
    "print(\"Price -> Normalized Value Mapping:\")\n",
    "for price in sample_prices:\n",
    "    normalized = (price - df[PRICE_PER_UNIT_COLUMN].min()) / (df[PRICE_PER_UNIT_COLUMN].max() - df[PRICE_PER_UNIT_COLUMN].min())\n",
    "    print(f\"${price:.2f} → {normalized:.4f}\")\n",
    "\n"
   ],
   "id": "c52393031d6251a0"
  },
  {
   "metadata": {},
   "cell_type": "markdown",
   "source": "## Step 6: Save All Rescaled Datasets",
   "id": "8609f268d10f72a8"
  },
  {
   "metadata": {},
   "cell_type": "code",
   "outputs": [],
   "execution_count": null,
   "source": [
    "# Save all three versions as per assignment requirements\n",
    "\n",
    "# 1. Normalization\n",
    "df_norm = df.copy()\n",
    "output_norm = OUTPUT_DIR / 'data_rescaling_norm_price_per_unit.csv'\n",
    "df_norm.to_csv(output_norm, index=False)\n",
    "\n",
    "# 2. Standardization\n",
    "df_std = df.copy()\n",
    "output_std = OUTPUT_DIR / 'data_rescaling_std_price_per_unit.csv'\n",
    "df_std.to_csv(output_std, index=False)\n",
    "\n",
    "# 3. Robust Scaling\n",
    "df_robust = df.copy()\n",
    "output_robust = OUTPUT_DIR / 'data_rescaling_robust_price_per_unit.csv'\n",
    "df_robust.to_csv(output_robust, index=False)\n"
   ],
   "id": "ccb5746d0f13f00b"
  },
  {
   "cell_type": "markdown",
   "id": "validation_header",
   "metadata": {},
   "source": [
    "## Step 8: Validation"
   ]
  },
  {
   "metadata": {},
   "cell_type": "code",
   "outputs": [],
   "execution_count": null,
   "source": [
    "# Validation checks\n",
    "print(\"VALIDATION CHECKS\")\n",
    "\n",
    "print(\"\\n1. RANGE VALIDATION:\")\n",
    "norm_in_range = (df['PricePerUnit_Normalized'] >= 0).all() and (df['PricePerUnit_Normalized'] <= 1).all()\n",
    "print(f\"Normalization in [0, 1]: {norm_in_range}\")\n",
    "\n",
    "std_range = df['PricePerUnit_Standardized'].abs().max()\n",
    "print(f\"Standardization range: [{df['PricePerUnit_Standardized'].min():.2f}, {df['PricePerUnit_Standardized'].max():.2f}]\")\n",
    "\n",
    "robust_range = df['PricePerUnit_Robust'].abs().max()\n",
    "print(f\"Robust scaling range: [{df['PricePerUnit_Robust'].min():.2f}, {df['PricePerUnit_Robust'].max():.2f}]\")\n"
   ],
   "id": "c8a56340898a6f5"
  },
  {
   "cell_type": "markdown",
   "id": "summary_header",
   "metadata": {},
   "source": [
    "## Summary\n",
    "\n",
    "### Methods Applied:\n",
    "1. **Min-Max Normalization** -> Range [0, 1]\n",
    "2. **Z-Score Standardization** -> Mean=0, Std=1\n",
    "3. **Robust Scaling** -> Median=0, IQR=1\n",
    "\n",
    "### Recommendation:\n",
    "**Min-Max Normalization** is recommended for Price Per Unit because:\n",
    "- Natural bounds (prices > $0 with practical upper limit)\n",
    "- Outliers already handled during reconstruction (Total Spent ÷ Quantity)\n",
    "- Bounded [0, 1] range is interpretable and ML-friendly\n",
    "- Preserves price relationships and semantics\n",
    "- No negative values (semantically correct for prices)\n",
    "\n",
    "### Output Files:\n",
    "- `data_rescaling_norm_price_per_unit.csv` - Min-Max Normalization\n",
    "- `data_rescaling_std_price_per_unit.csv` - Z-Score Standardization\n",
    "- `data_rescaling_robust_price_per_unit.csv` - Robust Scaling"
   ]
  },
  {
   "metadata": {},
   "cell_type": "code",
   "outputs": [],
   "execution_count": null,
   "source": "",
   "id": "2f933374f8d787dd"
  }
 ],
 "metadata": {
  "kernelspec": {
   "display_name": "Python 3",
   "language": "python",
   "name": "python3"
  },
  "language_info": {
   "codemirror_mode": {
    "name": "ipython",
    "version": 3
   },
   "file_extension": ".py",
   "mimetype": "text/x-python",
   "name": "python",
   "nbconvert_exporter": "python",
   "pygments_lexer": "ipython3",
   "version": "3.8.0"
  }
 },
 "nbformat": 4,
 "nbformat_minor": 5
}
