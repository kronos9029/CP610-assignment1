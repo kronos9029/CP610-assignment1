{
 "cells": [
  {
   "cell_type": "code",
   "id": "dee5c48b",
   "metadata": {
    "ExecuteTime": {
     "end_time": "2025-10-06T20:10:08.789014Z",
     "start_time": "2025-10-06T20:10:08.785722Z"
    }
   },
   "source": [
    "import pandas as pd\n",
    "import numpy as np\n"
   ],
   "outputs": [],
   "execution_count": 12
  },
  {
   "cell_type": "code",
   "id": "6d4fa40c",
   "metadata": {
    "ExecuteTime": {
     "end_time": "2025-10-06T20:10:09.442602Z",
     "start_time": "2025-10-06T20:10:09.400834Z"
    }
   },
   "source": "data = pd.read_csv('../../output/1_handle_missing_data/item_imputed.csv')",
   "outputs": [],
   "execution_count": 13
  },
  {
   "cell_type": "markdown",
   "id": "530d4bf8",
   "metadata": {},
   "source": [
    "### Quantify missing Discount Applied\n",
    "\n",
    "Determine the scale of missing entries in `Discount Applied` after STEP 3 completion. This is a binary categorical field (TRUE/FALSE) with substantial missingness (33%)\n"
   ]
  },
  {
   "cell_type": "code",
   "id": "da432ebd",
   "metadata": {
    "ExecuteTime": {
     "end_time": "2025-10-06T20:10:37.575859Z",
     "start_time": "2025-10-06T20:10:37.569467Z"
    }
   },
   "source": [
    "# Count missing Discount Applied values\n",
    "# data['Discount Applied'].isna() creates a boolean Series where True indicates missing values\n",
    "# .sum() counts the number of True values (i.e., missing entries)\n",
    "missing_discount = data['Discount Applied'].isna()\n",
    "# len(data) returns the total number of rows in the dataset\n",
    "# .mean() on boolean Series gives the proportion of True values\n",
    "print(f'Missing Discount Applied rows: {missing_discount.sum()} of {len(data)} ({missing_discount.mean():.2%})')\n",
    "\n",
    "# Show distribution of non-missing values\n",
    "print(f'\\nDiscount Applied value distribution:')\n",
    "# .value_counts() counts frequency of each unique value\n",
    "# dropna=False includes NaN in the count\n",
    "print(data['Discount Applied'].value_counts(dropna=False))\n",
    "\n",
    "# Verify that critical columns are complete (from previous steps)\n",
    "print(f'\\nVerification of previous steps:')\n",
    "print(f'Item missing: {data[\"Item\"].isna().sum()}')\n",
    "print(f'Price Per Unit missing: {data[\"Price Per Unit\"].isna().sum()}')\n",
    "print(f'Quantity missing: {data[\"Quantity\"].isna().sum()}')\n",
    "print(f'Total Spent missing: {data[\"Total Spent\"].isna().sum()}')\n"
   ],
   "outputs": [
    {
     "name": "stdout",
     "output_type": "stream",
     "text": [
      "Missing Discount Applied rows: 3988 of 11971 (33.31%)\n",
      "\n",
      "Discount Applied value distribution:\n",
      "Discount Applied\n",
      "True     4019\n",
      "NaN      3988\n",
      "False    3964\n",
      "Name: count, dtype: int64\n",
      "\n",
      "Verification of previous steps:\n",
      "Item missing: 0\n",
      "Price Per Unit missing: 0\n",
      "Quantity missing: 0\n",
      "Total Spent missing: 0\n"
     ]
    }
   ],
   "execution_count": 15
  },
  {
   "cell_type": "markdown",
   "id": "68004825",
   "metadata": {},
   "source": [
    "### Missingness mechanism\n",
    "\n",
    "Quantifying how often Discount Applied is missing across different dimensions to determine if the pattern is random (MCAR) or systematic (MAR/MNAR)\n"
   ]
  },
  {
   "cell_type": "code",
   "id": "6bbb658f",
   "metadata": {
    "ExecuteTime": {
     "end_time": "2025-10-06T20:11:31.823344Z",
     "start_time": "2025-10-06T20:11:31.811604Z"
    }
   },
   "source": [
    "# Analyze missingness patterns across categories\n",
    "summary = data.assign(missing_discount=missing_discount).groupby('Category')['missing_discount'].mean().sort_values(ascending=False)\n",
    "print('Share of Discount Applied missing by Category:')\n",
    "print(summary)\n",
    "\n",
    "# Analyze missingness patterns across payment methods\n",
    "payment_share = data.assign(missing_discount=missing_discount).groupby('Payment Method')['missing_discount'].mean().sort_values(ascending=False)\n",
    "print('\\nShare of Discount Applied missing by Payment Method:')\n",
    "print(payment_share)\n",
    "\n",
    "# Analyze missingness patterns across locations\n",
    "location_share = data.assign(missing_discount=missing_discount).groupby('Location')['missing_discount'].mean().sort_values(ascending=False)\n",
    "print('\\nShare of Discount Applied missing by Location:')\n",
    "print(location_share)\n",
    "\n",
    "# Check variation to assess randomness\n",
    "print('Variation Analysis (for MCAR assessment):')\n",
    "# Calculate coefficient of variation for missingness rates\n",
    "# Lower variation suggests more uniform distribution (MCAR)\n",
    "# Higher variation suggests systematic pattern (MAR/MNAR)\n",
    "category_std = summary.std()\n",
    "category_mean = summary.mean()\n",
    "cv_category = (category_std / category_mean) * 100 if category_mean > 0 else 0\n",
    "\n",
    "print(f'Category missingness - Mean: {category_mean:.4f}, Std: {category_std:.4f}, CV: {cv_category:.2f}%')\n",
    "print(f'Payment missingness - Range: {payment_share.min():.4f} to {payment_share.max():.4f}')\n",
    "print(f'Location missingness - Range: {location_share.min():.4f} to {location_share.max():.4f}')\n",
    "\n",
    "if cv_category < 10:\n",
    "    print('\\nMCAR (Missing Completely At Random)')\n",
    "else:\n",
    "    print('\\MAR (Missing At Random)')\n"
   ],
   "outputs": [
    {
     "name": "stdout",
     "output_type": "stream",
     "text": [
      "Share of Discount Applied missing by Category:\n",
      "Category\n",
      "Furniture                             0.355410\n",
      "Beverages                             0.352941\n",
      "Electric household essentials         0.340369\n",
      "Patisserie                            0.337266\n",
      "Food                                  0.331785\n",
      "Butchers                              0.325535\n",
      "Milk Products                         0.314607\n",
      "Computers and electric accessories    0.306703\n",
      "Name: missing_discount, dtype: float64\n",
      "\n",
      "Share of Discount Applied missing by Payment Method:\n",
      "Payment Method\n",
      "Cash              0.340726\n",
      "Credit Card       0.330023\n",
      "Digital Wallet    0.328343\n",
      "Name: missing_discount, dtype: float64\n",
      "\n",
      "Share of Discount Applied missing by Location:\n",
      "Location\n",
      "In-store    0.335423\n",
      "Online      0.330916\n",
      "Name: missing_discount, dtype: float64\n",
      "Variation Analysis (for MCAR assessment):\n",
      "Category missingness - Mean: 0.3331, Std: 0.0172, CV: 5.15%\n",
      "Payment missingness - Range: 0.3283 to 0.3407\n",
      "Location missingness - Range: 0.3309 to 0.3354\n",
      "\n",
      "MCAR (Missing Completely At Random)\n"
     ]
    }
   ],
   "execution_count": 17
  },
  {
   "cell_type": "markdown",
   "id": "4b639e53",
   "metadata": {},
   "source": [
    "### Observed value distribution analysis\n",
    "\n",
    "Examine the distribution of observed non-missing values to understand the balance between TRUE and FALSE\n"
   ]
  },
  {
   "cell_type": "code",
   "id": "641a9662",
   "metadata": {
    "ExecuteTime": {
     "end_time": "2025-10-06T20:12:14.322371Z",
     "start_time": "2025-10-06T20:12:14.315226Z"
    }
   },
   "source": [
    "# Analyze distribution of observed values\n",
    "# Filter to non-missing values only\n",
    "observed_values = data[data['Discount Applied'].notna()]['Discount Applied']\n",
    "\n",
    "print('Distribution of observed (non-missing) Discount Applied values:')\n",
    "print('=' * 80)\n",
    "# .value_counts() counts frequency of each unique value\n",
    "# .sort_index() sorts by the value itself (False, True) for consistent display\n",
    "value_counts = observed_values.value_counts().sort_index()\n",
    "print(value_counts)\n"
   ],
   "outputs": [
    {
     "name": "stdout",
     "output_type": "stream",
     "text": [
      "Distribution of observed (non-missing) Discount Applied values:\n",
      "================================================================================\n",
      "Discount Applied\n",
      "False    3964\n",
      "True     4019\n",
      "Name: count, dtype: int64\n"
     ]
    }
   ],
   "execution_count": 18
  },
  {
   "cell_type": "markdown",
   "id": "86f131c2",
   "metadata": {},
   "source": [
    "### Missing data classification\n",
    "\n",
    "**Classification: MCAR (Missing Completely At Random)**\n",
    "\n",
    "**Rationale:**\n",
    "- Missingness is evenly distributed (~33%) across all categories, payment methods, and locations\n",
    "- The distribution of TRUE/FALSE in observed data is nearly balanced (approximately 50/50)\n",
    "- The missing pattern shows no relationship with other variables\n",
    "- Low coefficient of variation indicates uniform missingness across groups\n",
    "- The missingness does NOT depend on observed or unobserved data\n",
    "\n"
   ]
  },
  {
   "cell_type": "markdown",
   "id": "9dc158c8",
   "metadata": {},
   "source": [
    "### Handling strategy: Create Unknown category\n",
    "\n",
    "**Justification for Unknown category (not deletion or imputation):**\n",
    "\n",
    "1. **MCAR pattern:** Since missing is completely random, any handling method is theoretically valid\n",
    "2. **Too much data to drop:** Deleting 33% of rows would lose 3,988 valuable transactions\n",
    "3. **Preserves transparency:** Unknown category explicitly indicates missing information\n",
    "4. **No false assumptions:** Avoids incorrectly imputing TRUE or FALSE when we do not know\n",
    "5. **Maintains all other complete data:** All critical columns (Item, Price, Quantity, Total) are 100% complete\n",
    "\n",
    "**Why Unknown (not other methods):**\n",
    "- **Deletion:** Would lose 33% of dataset - too much valuable data\n",
    "- **Random imputation:** Adds uncertainty and does not add information\n",
    "- **Mode/Mean imputation:** Creates false certainty - we genuinely do not know the values\n",
    "- **Predictive model:** Overly complex for MCAR data, no predictive signal available\n",
    "- **Unknown category:** Most transparent and preserves all transaction data\n"
   ]
  },
  {
   "cell_type": "code",
   "id": "e003c9bc",
   "metadata": {
    "ExecuteTime": {
     "end_time": "2025-10-06T20:13:22.664232Z",
     "start_time": "2025-10-06T20:13:22.654716Z"
    }
   },
   "source": [
    "# Display sample of rows with missing Discount Applied\n",
    "print('Sample of rows with missing Discount Applied (to be handled):')\n",
    "\n",
    "print(data[missing_discount][['Transaction ID', 'Category', 'Item', 'Total Spent', 'Discount Applied']].head(10))\n"
   ],
   "outputs": [
    {
     "name": "stdout",
     "output_type": "stream",
     "text": [
      "Sample of rows with missing Discount Applied (to be handled):\n",
      "   Transaction ID                            Category          Item  \\\n",
      "4     TXN_1004124  Computers and electric accessories    Item_7_CEA   \n",
      "5     TXN_1004284                       Milk Products  Item_25_MILK   \n",
      "7     TXN_1006123       Electric household essentials    Item_8_EHE   \n",
      "8     TXN_1006129                       Milk Products  Item_17_MILK   \n",
      "10    TXN_1007144                           Beverages    Item_2_BEV   \n",
      "16    TXN_1010976  Computers and electric accessories   Item_12_CEA   \n",
      "17    TXN_1011669                                Food  Item_13_FOOD   \n",
      "18    TXN_1011882                          Patisserie   Item_21_PAT   \n",
      "26    TXN_1015414                            Butchers   Item_23_BUT   \n",
      "27    TXN_1016209                                Food  Item_25_FOOD   \n",
      "\n",
      "    Total Spent Discount Applied  \n",
      "4          70.0              NaN  \n",
      "5         123.0              NaN  \n",
      "7          15.5              NaN  \n",
      "8         232.0              NaN  \n",
      "10         26.0              NaN  \n",
      "16        107.5              NaN  \n",
      "17        184.0              NaN  \n",
      "18         70.0              NaN  \n",
      "26        380.0              NaN  \n",
      "27        164.0              NaN  \n"
     ]
    }
   ],
   "execution_count": 19
  },
  {
   "cell_type": "code",
   "id": "a2a9ed5f",
   "metadata": {
    "ExecuteTime": {
     "end_time": "2025-10-06T20:15:48.619875Z",
     "start_time": "2025-10-06T20:15:48.610966Z"
    }
   },
   "source": [
    "# Count missing values before handling\n",
    "# missing_discount.sum() gives the total number of missing Discount Applied values\n",
    "discount_missing_before = missing_discount.sum()\n",
    "print(f'Discount Applied missing before handling: {discount_missing_before}')\n",
    "\n",
    "# Show distribution before handling\n",
    "print('\\nDistribution BEFORE handling:')\n",
    "print(data['Discount Applied'].value_counts(dropna=False))\n",
    "\n",
    "# Fill missing values with \"Unknown\" string\n",
    "# .fillna('Unknown') replaces all NaN values with the string \"Unknown\"\n",
    "# This creates a third category alongside True and False\n",
    "data['Discount Applied'] = data['Discount Applied'].fillna('Unknown')\n",
    "\n",
    "# Count missing values after handling\n",
    "# data['Discount Applied'].isna().sum() recounts missing values after filling\n",
    "discount_missing_after = data['Discount Applied'].isna().sum()\n",
    "# Calculate how many values were handled\n",
    "values_handled = discount_missing_before - discount_missing_after\n",
    "\n",
    "print(f'\\nDiscount Applied missing after handling: {discount_missing_after}')\n",
    "print(f'Values handled (converted to \"Unknown\"): {values_handled}')\n",
    "print(f'Handling success rate: {values_handled / discount_missing_before:.1%}')\n",
    "\n",
    "# Show distribution after handling\n",
    "print('\\nDistribution AFTER handling:')\n",
    "print(data['Discount Applied'].value_counts())\n"
   ],
   "outputs": [
    {
     "name": "stdout",
     "output_type": "stream",
     "text": [
      "Discount Applied missing before handling: 3988\n",
      "\n",
      "Distribution BEFORE handling:\n",
      "Discount Applied\n",
      "True     4019\n",
      "NaN      3988\n",
      "False    3964\n",
      "Name: count, dtype: int64\n",
      "\n",
      "Discount Applied missing after handling: 0\n",
      "Values handled (converted to \"Unknown\"): 3988\n",
      "Handling success rate: 100.0%\n",
      "\n",
      "Distribution AFTER handling:\n",
      "Discount Applied\n",
      "True       4019\n",
      "Unknown    3988\n",
      "False      3964\n",
      "Name: count, dtype: int64\n"
     ]
    }
   ],
   "execution_count": 24
  },
  {
   "cell_type": "markdown",
   "id": "3bd4fdfa",
   "metadata": {},
   "source": [
    "### Validation: Verify all missing values handled\n",
    "\n",
    "Verify that all missing values have been addressed and the dataset is now 100% complete\n"
   ]
  },
  {
   "cell_type": "code",
   "id": "97336a64",
   "metadata": {
    "ExecuteTime": {
     "end_time": "2025-10-06T20:15:51.153796Z",
     "start_time": "2025-10-06T20:15:51.146663Z"
    }
   },
   "source": [
    "# Comprehensive missing value check across ALL columns\n",
    "print('Final missing value check across ALL columns:')\n",
    "\n",
    "# .isnull().sum() counts missing values for each column\n",
    "missing_summary = data.isnull().sum()\n",
    "# Filter to show only columns with missing values\n",
    "missing_cols = missing_summary[missing_summary > 0]\n",
    "print(f'\\nMissing columns: {missing_cols}')\n"
   ],
   "outputs": [
    {
     "name": "stdout",
     "output_type": "stream",
     "text": [
      "Final missing value check across ALL columns:\n",
      "\n",
      "Missing columns: Series([], dtype: int64)\n"
     ]
    }
   ],
   "execution_count": 25
  },
  {
   "cell_type": "markdown",
   "id": "9b70bf4b",
   "metadata": {},
   "source": [
    "### Sample inspection: After handling\n",
    "\n",
    "Display sample rows to verify the Unknown category was applied correctly\n"
   ]
  },
  {
   "cell_type": "code",
   "id": "6f966dba",
   "metadata": {
    "ExecuteTime": {
     "end_time": "2025-10-06T20:15:55.218375Z",
     "start_time": "2025-10-06T20:15:55.211907Z"
    }
   },
   "source": [
    "# Display sample of rows that were handled\n",
    "print('Sample of rows after Discount Applied handling:')\n",
    "# missing_discount is still the original boolean filter (before handling)\n",
    "# Use it to show the same rows, now with \"Unknown\" values\n",
    "sample_handled = data[missing_discount][['Transaction ID', 'Category', 'Item', 'Total Spent', 'Discount Applied']].head(10)\n",
    "print(sample_handled)\n"
   ],
   "outputs": [
    {
     "name": "stdout",
     "output_type": "stream",
     "text": [
      "Sample of rows after Discount Applied handling:\n",
      "   Transaction ID                            Category          Item  \\\n",
      "4     TXN_1004124  Computers and electric accessories    Item_7_CEA   \n",
      "5     TXN_1004284                       Milk Products  Item_25_MILK   \n",
      "7     TXN_1006123       Electric household essentials    Item_8_EHE   \n",
      "8     TXN_1006129                       Milk Products  Item_17_MILK   \n",
      "10    TXN_1007144                           Beverages    Item_2_BEV   \n",
      "16    TXN_1010976  Computers and electric accessories   Item_12_CEA   \n",
      "17    TXN_1011669                                Food  Item_13_FOOD   \n",
      "18    TXN_1011882                          Patisserie   Item_21_PAT   \n",
      "26    TXN_1015414                            Butchers   Item_23_BUT   \n",
      "27    TXN_1016209                                Food  Item_25_FOOD   \n",
      "\n",
      "    Total Spent Discount Applied  \n",
      "4          70.0          Unknown  \n",
      "5         123.0          Unknown  \n",
      "7          15.5          Unknown  \n",
      "8         232.0          Unknown  \n",
      "10         26.0          Unknown  \n",
      "16        107.5          Unknown  \n",
      "17        184.0          Unknown  \n",
      "18         70.0          Unknown  \n",
      "26        380.0          Unknown  \n",
      "27        164.0          Unknown  \n"
     ]
    }
   ],
   "execution_count": 26
  },
  {
   "cell_type": "markdown",
   "id": "5ce6f548",
   "metadata": {},
   "source": [
    "### Persist final cleaned dataset\n",
    "\n",
    "Save the completely cleaned dataset - this is the final output of the entire pipeline\n"
   ]
  },
  {
   "cell_type": "code",
   "id": "5233fa76",
   "metadata": {
    "ExecuteTime": {
     "end_time": "2025-10-06T20:16:12.175851Z",
     "start_time": "2025-10-06T20:16:12.139097Z"
    }
   },
   "source": [
    "# Save the final cleaned dataset to CSV\n",
    "# to_csv writes the DataFrame to a CSV file\n",
    "# index=False prevents writing row numbers as a column\n",
    "# This is the FINAL output of the entire 4-step missing data handling pipeline\n",
    "output_path = '../../output/1_handle_missing_data/final_cleaned_dataset.csv'\n",
    "data.to_csv(output_path, index=False)"
   ],
   "outputs": [],
   "execution_count": 27
  },
  {
   "cell_type": "markdown",
   "id": "ecba51da",
   "metadata": {},
   "source": [
    "### Summary\n",
    "\n",
    "**Discount Applied Handling**\n",
    "\n",
    "**Classification:** MCAR (Missing Completely At Random)\n",
    "- Missingness is evenly distributed (~33%) across all categories, payment methods, and locations\n",
    "- The distribution of TRUE/FALSE in observed data is balanced (approximately 50/50)\n",
    "- The missing pattern shows no relationship with other variables\n",
    "- Data collection issue where field was randomly not recorded\n",
    "\n",
    "**Method:** Create Unknown category\n",
    "- Converted 3,988 missing values to \"Unknown\" string\n",
    "- Preserves all transaction data (no rows dropped)\n",
    "- Transparent handling - explicitly indicates unknown status\n",
    "\n",
    "**Justification:**\n",
    "- MCAR pattern allows any handling method\n",
    "- Too much data to drop (33% of dataset)\n",
    "- Unknown category is most transparent and honest\n",
    "- Avoids false certainty from imputation\n",
    "- Maintains all other complete columns\n",
    "\n",
    "\n",
    "**Final Pipeline Results:**\n",
    "- Original rows: 12,575\n",
    "- Final rows: 11,971 (95.2% retention)\n",
    "\n"
   ]
  },
  {
   "cell_type": "markdown",
   "id": "c7200fd0",
   "metadata": {},
   "source": []
  },
  {
   "metadata": {},
   "cell_type": "code",
   "outputs": [],
   "execution_count": null,
   "source": "",
   "id": "7abc39954f1b121f"
  }
 ],
 "metadata": {
  "kernelspec": {
   "display_name": "Python 3",
   "language": "python",
   "name": "python3"
  },
  "language_info": {
   "codemirror_mode": {
    "name": "ipython",
    "version": 3
   },
   "file_extension": ".py",
   "mimetype": "text/x-python",
   "name": "python",
   "nbconvert_exporter": "python",
   "pygments_lexer": "ipython3",
   "version": "3.9.6"
  }
 },
 "nbformat": 4,
 "nbformat_minor": 5
}
